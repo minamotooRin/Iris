{
 "cells": [
  {
   "cell_type": "code",
   "execution_count": null,
   "metadata": {},
   "outputs": [
    {
     "name": "stderr",
     "output_type": "stream",
     "text": [
      "/home/youyuan/miniconda3/envs/Iris/lib/python3.12/site-packages/tqdm/auto.py:21: TqdmWarning: IProgress not found. Please update jupyter and ipywidgets. See https://ipywidgets.readthedocs.io/en/stable/user_install.html\n",
      "  from .autonotebook import tqdm as notebook_tqdm\n"
     ]
    }
   ],
   "source": [
    "import json\n",
    "import logging\n",
    "import matplotlib.pyplot as plt\n",
    "import requests\n",
    "import base64, json, time\n",
    "import os\n",
    "import unicodedata\n",
    "\n",
    "from tqdm import tqdm\n",
    "from pathlib import Path\n",
    "from openai import OpenAI\n",
    "from PIL import Image\n",
    "\n",
    "from AgentFactory import AgentFactory\n",
    "from src.utils import clear_json\n",
    "\n",
    "logging.basicConfig(level=logging.INFO)\n",
    "\n",
    "def load_image(image_path: str) -> str:\n",
    "    \"\"\"\n",
    "    读取一张图片，返回 base64 编码字符串。\n",
    "\n",
    "    由于 Ubuntu 文件系统上文件名可能以 NFD（拆分）形式存储，\n",
    "    本函数会依次尝试 NFC（预组合）和 NFD（拆分）两种形式。\n",
    "    \"\"\"\n",
    "    # 先把路径包装成 Path 对象\n",
    "    p = Path(image_path)\n",
    "    # 两种规范化形式\n",
    "    candidates = [\n",
    "        # 原样\n",
    "        str(p),\n",
    "        # NFC：预组合（é）\n",
    "        unicodedata.normalize('NFC', str(p)),\n",
    "        # NFD：拆分（e + ́）\n",
    "        unicodedata.normalize('NFD', str(p)),\n",
    "    ]\n",
    "\n",
    "    last_err = None\n",
    "    for path_str in candidates:\n",
    "        try:\n",
    "            with open(path_str, \"rb\") as f:\n",
    "                data = f.read()\n",
    "            # 成功读取后立即编码并返回\n",
    "            return base64.b64encode(data).decode(\"utf-8\")\n",
    "        except FileNotFoundError as e:\n",
    "            last_err = e\n",
    "            # 如果这个形式不存在，就继续下一个\n",
    "            continue\n",
    "\n",
    "    # 如果所有形式都无法打开，就抛出最后一个错误\n",
    "    raise last_err"
   ]
  },
  {
   "cell_type": "code",
   "execution_count": null,
   "metadata": {},
   "outputs": [],
   "source": [
    "def collect_image_metadata(root_dir: str = \"/home/youyuan/Transcreation/Iris/download_images/image-transcreation/outputs/part1/zhang\", source_dir: str = \"/home/youyuan/Transcreation/Iris/download_images/image-transcreation/part1\"):\n",
    "    \"\"\"\n",
    "    遍历 root_dir 目录，收集所有图片及其相关元信息。\n",
    "    假设目录结构：\n",
    "    root_dir/\n",
    "      ├── country_A/\n",
    "      │     ├── Step1X/\n",
    "      │     └── Gemini/\n",
    "      ├── country_B/\n",
    "      │     ├── Step1X/\n",
    "      │     └── Gemini/\n",
    "      ...\n",
    "    图片文件名格式：<source>_<category>_<object>.<ext>\n",
    "    \"\"\"\n",
    "    root = Path(root_dir)\n",
    "    images = []\n",
    "\n",
    "    for country_folder in root.iterdir():\n",
    "        if not country_folder.is_dir():\n",
    "            continue\n",
    "        target_country = country_folder.name\n",
    "        for step_folder in [\"Step1X\", \"Gemini\"]:\n",
    "            folder = country_folder / step_folder\n",
    "            if not folder.exists():\n",
    "                continue\n",
    "            for img_path in folder.iterdir():\n",
    "                if not img_path.is_file():\n",
    "                    continue\n",
    "                # 只处理常见图片格式\n",
    "                if img_path.suffix.lower() not in {\".jpg\", \".jpeg\", \".png\", \".bmp\", \".gif\"}:\n",
    "                    continue\n",
    "\n",
    "                # 解析文件名：source_category_object.ext\n",
    "                name_parts = img_path.stem.split(\"_\")\n",
    "                if len(name_parts) < 3:\n",
    "                    # 如果不符合预期格式，可以跳过或自行处理\n",
    "                    continue\n",
    "                source_country = name_parts[0]\n",
    "                category = name_parts[1]\n",
    "                # 剩下部分作为 object 名称（以防 object 名含下划线）\n",
    "                object_name = \"_\".join(name_parts[2:])\n",
    "\n",
    "                images.append({\n",
    "                    \"file_path\": str(img_path),\n",
    "                    \"source_path\": f\"{source_dir}/{source_country}/{category}_{object_name}{img_path.suffix.lower()}\",\n",
    "                    \"target_country\": target_country,\n",
    "                    \"step\": step_folder,\n",
    "                    \"source_country\": source_country,\n",
    "                    \"category\": category,\n",
    "                    \"object_name\": object_name,\n",
    "                })\n",
    "\n",
    "    return images"
   ]
  },
  {
   "cell_type": "markdown",
   "metadata": {},
   "source": [
    "We define the TranscreationEvaluator class, following [S Khanuja's approach](https://arxiv.org/abs/2412.13717) to utilize a LLM for evaluating transcreation. "
   ]
  },
  {
   "cell_type": "code",
   "execution_count": 3,
   "metadata": {},
   "outputs": [],
   "source": [
    "class TranscreationEvaluator:\n",
    "    def __init__(self, config):\n",
    "        self.model_name = config[\"model_name\"]\n",
    "        self.api_key = config[\"api_key\"]\n",
    "        self.client = OpenAI(\n",
    "            api_key=self.api_key,\n",
    "        )\n",
    "\n",
    "    def download_batch_results(self, file_id: str, save_path: str):\n",
    "        \"\"\"\n",
    "        通过 REST API 下载 batch 输出文件内容并保存到本地\n",
    "        \"\"\"\n",
    "        url = f\"https://api.openai.com/v1/files/{file_id}/content\"\n",
    "        headers = {\n",
    "            \"Authorization\": f\"Bearer {self.api_key}\"\n",
    "        }\n",
    "        resp = requests.get(url, headers=headers, stream=True)\n",
    "        resp.raise_for_status()\n",
    "    \n",
    "        with open(save_path, \"wb\") as f:\n",
    "            for chunk in resp.iter_content(chunk_size=8_192):\n",
    "                f.write(chunk)\n",
    "\n",
    "    def get_bodies(self, img1_path, img2_path, target_country, category = None):\n",
    "        \n",
    "        category_patch = f\" and its category '{category}'\"\n",
    "        try:\n",
    "            base64_image_1 = load_image(img1_path)\n",
    "            base64_image_2 = load_image(img2_path)\n",
    "        except Exception as e:\n",
    "            logging.error(f\"Error loading images: {e}\")\n",
    "            return {}\n",
    "\n",
    "        instructions = {\n",
    "            \"culture-relevance\": f\"You are an expert in evaluating the cultural relevance of images.\",\n",
    "            \"semantic\": f\"You are an expert in judging the semantic equality between images.\",\n",
    "            \"visual\": \"You are an expert in judging the visual similarity between images.\"\n",
    "        }\n",
    "\n",
    "        prompt = {   \n",
    "            \"culture-relevance\":[\n",
    "                {\"type\": \"text\", \"text\": f\"You will be given two images. You have to assess how culturally relevant both images are with respect to the culture of {target_country}.\"},\n",
    "                {\"type\": \"text\", \"text\": f\"Please explain your reasoning step by step for both images, specifically considering cultural symbols, styles, traditions, or any features that align with the culture of the speaking population of {target_country}.\\n\"},\n",
    "                {\"type\": \"text\", \"text\": f\"For each image, the final score should be a number between 1 to 5, where 1 and 5 mean the following:\\n\"},\n",
    "                {\"type\": \"text\", \"text\": f\"1 = Not culturally relevant,\\n\"},\n",
    "                {\"type\": \"text\", \"text\": f\"5 = Culturally relevant.\\n\"},\n",
    "                {\"type\": \"image_url\", \"image_url\": { \"url\": f\"data:image/jpeg;base64,{base64_image_1}\"}},\n",
    "                {\"type\": \"image_url\", \"image_url\": { \"url\": f\"data:image/jpeg;base64,{base64_image_2}\"}},\n",
    "                {\"type\": \"text\", \"text\": f\"The output should be a JSON object ONLY with the following format:\\n\"},\n",
    "                {\"type\": \"text\", \"text\": \"{\\\"first_reasoning\\\": ..., \\\"first_score\\\": number, \\\"second_reasoning\\\": ..., \\\"second_score\\\": number}\\n\"},\n",
    "            ],\n",
    "            \"semantic\":[\n",
    "                {\"type\": \"text\", \"text\": f\"Given the input image{category_patch}, determine if the comparison image belongs to the same category as the input.\\n\"},\n",
    "                {\"type\": \"text\", \"text\": f\"Please explain your reasoning step by step, and provide a final score at the end.\\n\"},\n",
    "                {\"type\": \"text\", \"text\": f\"The score should be between 1 and 5, where:\\n\"},\n",
    "                {\"type\": \"text\", \"text\": f\"1 = Dissimilar Category,\\n\"},\n",
    "                {\"type\": \"text\", \"text\": f\"5 = Same Category.\\n\"},\n",
    "                {\"type\": \"image_url\", \"image_url\": { \"url\": f\"data:image/jpeg;base64,{base64_image_1}\"}},\n",
    "                {\"type\": \"image_url\", \"image_url\": { \"url\": f\"data:image/jpeg;base64,{base64_image_2}\"}},\n",
    "                {\"type\": \"text\", \"text\": f\"The output should be a JSON object ONLY with the following format:\\n\"},\n",
    "                {\"type\": \"text\", \"text\": \"{\\\"reasoning\\\": ..., \\\"score\\\": number}\\n\"},\n",
    "            ],\n",
    "            \"visual\":[\n",
    "                {\"type\": \"text\", \"text\": f\"Given the input image, determine if there are visual changes in the second image as compared to the first.\"},\n",
    "                {\"type\": \"text\", \"text\": f\"Please explain your reasoning step by step, and provide a final score at the end.\"},\n",
    "                {\"type\": \"text\", \"text\": f\"The score should be between 1 and 5, where:\\n1 = No visual change,\\n5 = High visual changes.\"},\n",
    "                {\"type\": \"image_url\", \"image_url\": { \"url\": f\"data:image/jpeg;base64,{base64_image_1}\"}},\n",
    "                {\"type\": \"image_url\", \"image_url\": { \"url\": f\"data:image/jpeg;base64,{base64_image_2}\"}},\n",
    "                {\"type\": \"text\", \"text\": \"The output should be a JSON object ONLY with the following STRICT format: {\\\"reasoning\\\": ..., \\\"score\\\": number}\"},\n",
    "            ],\n",
    "        }\n",
    "\n",
    "        bodies = {}\n",
    "        for key in [\"culture-relevance\", \"semantic\", \"visual\"]:\n",
    "\n",
    "            history = [\n",
    "                {\n",
    "                    \"role\": \"assistant\", \n",
    "                    \"content\": [\n",
    "                        { \"type\": \"text\", \"text\": instructions[key]}\n",
    "                    ]\n",
    "                },\n",
    "                {\n",
    "                    \"role\": \"user\", \n",
    "                    \"content\": prompt[key]\n",
    "                }\n",
    "            ]\n",
    "                \n",
    "            bodies[key] = {\n",
    "                \"model\": self.model_name,\n",
    "                \"temperature\": 0.0,\n",
    "                \"messages\": history\n",
    "            }\n",
    "        \n",
    "        return bodies\n",
    "\n",
    "    def save_task_file(self, images, batch_file=\"batch.jsonl\", record_file=\"batch_record.json\"):\n",
    "        tasks = []\n",
    "        record = {}\n",
    "        for item in tqdm(images):\n",
    "            img1_path = item[\"source_path\"]\n",
    "            img2_path = item[\"file_path\"]\n",
    "            target_country = item[\"target_country\"]\n",
    "            category = item[\"category\"]\n",
    "\n",
    "            bodies = self.get_bodies(img1_path, img2_path, target_country, category)\n",
    "            for key, body in bodies.items():\n",
    "                custom_id = f\"{item['source_country']}_{item['target_country']}_{item['category']}_{item['object_name']}_{key}\"\n",
    "                tasks.append({\n",
    "                    \"custom_id\": custom_id,\n",
    "                    \"method\": \"POST\",\n",
    "                    \"url\": \"/v1/chat/completions\",\n",
    "                    \"body\": body\n",
    "                })\n",
    "                record[custom_id] = item\n",
    "        \n",
    "        with open(batch_file, \"w\", encoding=\"utf-8\") as f:\n",
    "            for t in tasks:\n",
    "                f.write(json.dumps(t, ensure_ascii=False) + \"\\n\")\n",
    "        with open(record_file, \"w\", encoding=\"utf-8\") as f:\n",
    "            f.write(json.dumps(record, ensure_ascii=False, indent=4))\n",
    "            \n",
    "        print(f\"Batch 作业文件已创建，包含 {len(tasks)} 个任务。\")\n",
    "\n",
    "    def sumbit_tasks(self, batch_file=\"batch.jsonl\"):\n",
    "\n",
    "        upload_resp = self.client.files.create(\n",
    "            file=open(batch_file, \"rb\"),\n",
    "            purpose=\"batch\"\n",
    "        )\n",
    "        file_id = upload_resp.id\n",
    "\n",
    "        batch_job = self.client.batches.create(\n",
    "            input_file_id=file_id,\n",
    "            endpoint=\"/v1/chat/completions\",\n",
    "            completion_window=\"24h\"\n",
    "        )\n",
    "        batch_id = batch_job.id\n",
    "        print(f\"Batch 作业已创建，file ID: {file_id}, 作业 ID: {batch_id}\")\n",
    "\n",
    "        return batch_job\n",
    "\n",
    "    def delete_batch(self, batch_id):\n",
    "        \"\"\"\n",
    "        删除指定的 Batch 作业。\n",
    "        \"\"\"\n",
    "        try:\n",
    "            self.client.files.delete(batch_id)\n",
    "            print(f\"Batch 作业 {batch_id} 已删除。\")\n",
    "        except Exception as e:\n",
    "            print(f\"删除 Batch 作业 {batch_id} 时出错：{e}\")\n",
    "\n",
    "    def query_results(self, batch_id, results_file=None):\n",
    "\n",
    "        while True:\n",
    "            status = self.client.batches.retrieve(batch_id)\n",
    "            if status.status in (\"completed\", \"failed\"):\n",
    "                break\n",
    "            print(f\"当前状态：{status.status}，等待中…\")\n",
    "            time.sleep(10)\n",
    "\n",
    "        if status.status == \"failed\":\n",
    "            print(\"Batch 作业验证或执行失败，错误信息：\", status.errors)\n",
    "            return status\n",
    "\n",
    "        if results_file:\n",
    "\n",
    "            results_file_id = status.output_file_id if status.output_file_id else status.error_file_id\n",
    "            self.download_batch_results(results_file_id, results_file)\n",
    "            print(f\"处理完成，结果保存在{results_file}\")\n",
    "\n",
    "        return status\n",
    "    \n",
    "    def analysis(self, results_path):\n",
    "\n",
    "        return\n",
    "        for k,v in prompt.items():\n",
    "            self.agent.reset_msg_history()\n",
    "            try:\n",
    "                response, text = self.agent.get_response(v, images = images)\n",
    "                text = clear_json(text)\n",
    "                result = json.loads(text)\n",
    "                answer[k] = result\n",
    "            except Exception as e:\n",
    "                logging.error(f\"Error processing {k} evaluation: {e}\")\n",
    "\n",
    "        return answer\n"
   ]
  },
  {
   "cell_type": "markdown",
   "metadata": {},
   "source": [
    "Loading the evaluator."
   ]
  },
  {
   "cell_type": "code",
   "execution_count": 4,
   "metadata": {},
   "outputs": [],
   "source": [
    "# config_path: str = \"configs/conf_Gemini.json\"\n",
    "config_path: str = \"configs/conf_GPT.json\"\n",
    "config = json.load(open(config_path, \"r\"))\n",
    "config = config[\"model\"]\n",
    "\n",
    "evaluator = TranscreationEvaluator(config)"
   ]
  },
  {
   "cell_type": "markdown",
   "metadata": {},
   "source": [
    "Loading the test images."
   ]
  },
  {
   "cell_type": "code",
   "execution_count": null,
   "metadata": {},
   "outputs": [],
   "source": [
    "all_images = collect_image_metadata()\n",
    "# split images per N\n",
    "N = 32\n",
    "images_split = [all_images[i:i + N] for i in range(0, len(all_images), N)]\n",
    "for i, images in enumerate(images_split):\n",
    "    print(f\"Processing batch {i + 1}/{len(images_split)} with {len(images)} images...\")\n",
    "    # Save each batch to a separate file\n",
    "    batch_file = f\"output/batch_{i + 1}.jsonl\"\n",
    "    record_file = f\"output/batch_record_{i + 1}.json\"\n",
    "    evaluator.save_task_file(images, batch_file=batch_file, record_file=record_file)"
   ]
  },
  {
   "cell_type": "code",
   "execution_count": null,
   "metadata": {},
   "outputs": [],
   "source": [
    "jobs = []\n",
    "for i in tqdm(range(len(images_split))):\n",
    "    batch_file = f\"output/batch_{i + 1}.jsonl\"\n",
    "    results_file = f\"output/batch_results_{i + 1}.jsonl\"\n",
    "    job = evaluator.sumbit_tasks(batch_file=batch_file)\n",
    "    jobs.append(job)\n",
    "\n",
    "with open(\"output/batch_jobs.json\", \"w\", encoding=\"utf-8\") as f:\n",
    "    f.write(json.dumps([job.to_dict() for job in jobs], ensure_ascii=False, indent=4))"
   ]
  },
  {
   "cell_type": "code",
   "execution_count": null,
   "metadata": {},
   "outputs": [
    {
     "name": "stderr",
     "output_type": "stream",
     "text": [
      "INFO:httpx:HTTP Request: POST https://api.openai.com/v1/files \"HTTP/1.1 200 OK\"\n",
      "INFO:httpx:HTTP Request: POST https://api.openai.com/v1/batches \"HTTP/1.1 200 OK\"\n"
     ]
    },
    {
     "name": "stdout",
     "output_type": "stream",
     "text": [
      "Batch 作业已创建，file ID: file-AV1RNqji27F129SLhPK6W7, 作业 ID: batch_68556cc8b43c8190947f0bbf21777789\n"
     ]
    },
    {
     "name": "stderr",
     "output_type": "stream",
     "text": [
      "INFO:httpx:HTTP Request: POST https://api.openai.com/v1/files \"HTTP/1.1 200 OK\"\n",
      "INFO:httpx:HTTP Request: POST https://api.openai.com/v1/batches \"HTTP/1.1 200 OK\"\n"
     ]
    },
    {
     "name": "stdout",
     "output_type": "stream",
     "text": [
      "Batch 作业已创建，file ID: file-Pr4Lt9Nz3hi7tpTVT1wbcP, 作业 ID: batch_68556ced3334819091f137bca9db0e19\n"
     ]
    },
    {
     "name": "stderr",
     "output_type": "stream",
     "text": [
      "INFO:httpx:HTTP Request: POST https://api.openai.com/v1/files \"HTTP/1.1 200 OK\"\n",
      "INFO:httpx:HTTP Request: POST https://api.openai.com/v1/batches \"HTTP/1.1 200 OK\"\n"
     ]
    },
    {
     "name": "stdout",
     "output_type": "stream",
     "text": [
      "Batch 作业已创建，file ID: file-Xb7nLXSXfjRfKJUPCZGnKv, 作业 ID: batch_68556d818e008190a656c0ee629c5f67\n"
     ]
    },
    {
     "name": "stderr",
     "output_type": "stream",
     "text": [
      "INFO:httpx:HTTP Request: POST https://api.openai.com/v1/files \"HTTP/1.1 200 OK\"\n",
      "INFO:httpx:HTTP Request: POST https://api.openai.com/v1/batches \"HTTP/1.1 200 OK\"\n"
     ]
    },
    {
     "name": "stdout",
     "output_type": "stream",
     "text": [
      "Batch 作业已创建，file ID: file-DmLbMk8wT4DVyo3vYXTL8v, 作业 ID: batch_68556d91e7888190a99ae107653021a8\n"
     ]
    },
    {
     "name": "stderr",
     "output_type": "stream",
     "text": [
      "INFO:httpx:HTTP Request: POST https://api.openai.com/v1/files \"HTTP/1.1 200 OK\"\n",
      "INFO:httpx:HTTP Request: POST https://api.openai.com/v1/batches \"HTTP/1.1 200 OK\"\n"
     ]
    },
    {
     "name": "stdout",
     "output_type": "stream",
     "text": [
      "Batch 作业已创建，file ID: file-Tj3rmksFRTTLZG42NjvN1x, 作业 ID: batch_68556da95058819097c99ff1d7ec7c2b\n"
     ]
    },
    {
     "name": "stderr",
     "output_type": "stream",
     "text": [
      "INFO:httpx:HTTP Request: POST https://api.openai.com/v1/files \"HTTP/1.1 200 OK\"\n",
      "INFO:httpx:HTTP Request: POST https://api.openai.com/v1/batches \"HTTP/1.1 200 OK\"\n"
     ]
    },
    {
     "name": "stdout",
     "output_type": "stream",
     "text": [
      "Batch 作业已创建，file ID: file-HTrhoaFjRKvbnuvJBPHfSs, 作业 ID: batch_68556db82fdc819096e2c16b06e17c23\n"
     ]
    }
   ],
   "source": [
    "tmp_jobs = {300: [], 311: [], 397: []}\n",
    "for it in [300, 311, 397]:\n",
    "    for batch_file in [f\"output/batch_{it}_split1.jsonl\", f\"output/batch_{it}_split2.jsonl\"]:\n",
    "        job = evaluator.sumbit_tasks(batch_file=batch_file)\n",
    "        tmp_jobs[it].append(job)"
   ]
  },
  {
   "cell_type": "code",
   "execution_count": 15,
   "metadata": {},
   "outputs": [
    {
     "name": "stderr",
     "output_type": "stream",
     "text": [
      "INFO:httpx:HTTP Request: GET https://api.openai.com/v1/batches/batch_68556cc8b43c8190947f0bbf21777789 \"HTTP/1.1 200 OK\"\n"
     ]
    },
    {
     "name": "stdout",
     "output_type": "stream",
     "text": [
      "处理完成，结果保存在output/batch_results_300_1.jsonl\n",
      "Batch batch_68556cc8b43c8190947f0bbf21777789 status: completed\n"
     ]
    },
    {
     "name": "stderr",
     "output_type": "stream",
     "text": [
      "INFO:httpx:HTTP Request: GET https://api.openai.com/v1/batches/batch_68556ced3334819091f137bca9db0e19 \"HTTP/1.1 200 OK\"\n"
     ]
    },
    {
     "name": "stdout",
     "output_type": "stream",
     "text": [
      "当前状态：in_progress，等待中…\n"
     ]
    },
    {
     "name": "stderr",
     "output_type": "stream",
     "text": [
      "INFO:httpx:HTTP Request: GET https://api.openai.com/v1/batches/batch_68556ced3334819091f137bca9db0e19 \"HTTP/1.1 200 OK\"\n"
     ]
    },
    {
     "name": "stdout",
     "output_type": "stream",
     "text": [
      "当前状态：in_progress，等待中…\n"
     ]
    },
    {
     "name": "stderr",
     "output_type": "stream",
     "text": [
      "INFO:httpx:HTTP Request: GET https://api.openai.com/v1/batches/batch_68556ced3334819091f137bca9db0e19 \"HTTP/1.1 200 OK\"\n"
     ]
    },
    {
     "name": "stdout",
     "output_type": "stream",
     "text": [
      "当前状态：in_progress，等待中…\n"
     ]
    },
    {
     "name": "stderr",
     "output_type": "stream",
     "text": [
      "INFO:httpx:HTTP Request: GET https://api.openai.com/v1/batches/batch_68556ced3334819091f137bca9db0e19 \"HTTP/1.1 200 OK\"\n"
     ]
    },
    {
     "name": "stdout",
     "output_type": "stream",
     "text": [
      "当前状态：in_progress，等待中…\n"
     ]
    },
    {
     "name": "stderr",
     "output_type": "stream",
     "text": [
      "INFO:httpx:HTTP Request: GET https://api.openai.com/v1/batches/batch_68556ced3334819091f137bca9db0e19 \"HTTP/1.1 200 OK\"\n"
     ]
    },
    {
     "name": "stdout",
     "output_type": "stream",
     "text": [
      "当前状态：in_progress，等待中…\n"
     ]
    },
    {
     "name": "stderr",
     "output_type": "stream",
     "text": [
      "INFO:httpx:HTTP Request: GET https://api.openai.com/v1/batches/batch_68556ced3334819091f137bca9db0e19 \"HTTP/1.1 200 OK\"\n"
     ]
    },
    {
     "name": "stdout",
     "output_type": "stream",
     "text": [
      "当前状态：in_progress，等待中…\n"
     ]
    },
    {
     "name": "stderr",
     "output_type": "stream",
     "text": [
      "INFO:httpx:HTTP Request: GET https://api.openai.com/v1/batches/batch_68556ced3334819091f137bca9db0e19 \"HTTP/1.1 200 OK\"\n"
     ]
    },
    {
     "name": "stdout",
     "output_type": "stream",
     "text": [
      "当前状态：in_progress，等待中…\n"
     ]
    },
    {
     "name": "stderr",
     "output_type": "stream",
     "text": [
      "INFO:httpx:HTTP Request: GET https://api.openai.com/v1/batches/batch_68556ced3334819091f137bca9db0e19 \"HTTP/1.1 200 OK\"\n"
     ]
    },
    {
     "name": "stdout",
     "output_type": "stream",
     "text": [
      "当前状态：in_progress，等待中…\n"
     ]
    },
    {
     "name": "stderr",
     "output_type": "stream",
     "text": [
      "INFO:httpx:HTTP Request: GET https://api.openai.com/v1/batches/batch_68556ced3334819091f137bca9db0e19 \"HTTP/1.1 200 OK\"\n"
     ]
    },
    {
     "name": "stdout",
     "output_type": "stream",
     "text": [
      "当前状态：in_progress，等待中…\n"
     ]
    },
    {
     "name": "stderr",
     "output_type": "stream",
     "text": [
      "INFO:httpx:HTTP Request: GET https://api.openai.com/v1/batches/batch_68556ced3334819091f137bca9db0e19 \"HTTP/1.1 200 OK\"\n"
     ]
    },
    {
     "name": "stdout",
     "output_type": "stream",
     "text": [
      "当前状态：in_progress，等待中…\n"
     ]
    },
    {
     "name": "stderr",
     "output_type": "stream",
     "text": [
      "INFO:httpx:HTTP Request: GET https://api.openai.com/v1/batches/batch_68556ced3334819091f137bca9db0e19 \"HTTP/1.1 200 OK\"\n"
     ]
    },
    {
     "name": "stdout",
     "output_type": "stream",
     "text": [
      "当前状态：in_progress，等待中…\n"
     ]
    },
    {
     "name": "stderr",
     "output_type": "stream",
     "text": [
      "INFO:httpx:HTTP Request: GET https://api.openai.com/v1/batches/batch_68556ced3334819091f137bca9db0e19 \"HTTP/1.1 200 OK\"\n"
     ]
    },
    {
     "name": "stdout",
     "output_type": "stream",
     "text": [
      "当前状态：in_progress，等待中…\n"
     ]
    },
    {
     "name": "stderr",
     "output_type": "stream",
     "text": [
      "INFO:httpx:HTTP Request: GET https://api.openai.com/v1/batches/batch_68556ced3334819091f137bca9db0e19 \"HTTP/1.1 200 OK\"\n"
     ]
    },
    {
     "name": "stdout",
     "output_type": "stream",
     "text": [
      "当前状态：in_progress，等待中…\n"
     ]
    },
    {
     "name": "stderr",
     "output_type": "stream",
     "text": [
      "INFO:httpx:HTTP Request: GET https://api.openai.com/v1/batches/batch_68556ced3334819091f137bca9db0e19 \"HTTP/1.1 200 OK\"\n"
     ]
    },
    {
     "name": "stdout",
     "output_type": "stream",
     "text": [
      "当前状态：in_progress，等待中…\n"
     ]
    },
    {
     "name": "stderr",
     "output_type": "stream",
     "text": [
      "INFO:httpx:HTTP Request: GET https://api.openai.com/v1/batches/batch_68556ced3334819091f137bca9db0e19 \"HTTP/1.1 200 OK\"\n"
     ]
    },
    {
     "name": "stdout",
     "output_type": "stream",
     "text": [
      "当前状态：in_progress，等待中…\n"
     ]
    },
    {
     "name": "stderr",
     "output_type": "stream",
     "text": [
      "INFO:httpx:HTTP Request: GET https://api.openai.com/v1/batches/batch_68556ced3334819091f137bca9db0e19 \"HTTP/1.1 200 OK\"\n"
     ]
    },
    {
     "name": "stdout",
     "output_type": "stream",
     "text": [
      "当前状态：in_progress，等待中…\n"
     ]
    },
    {
     "name": "stderr",
     "output_type": "stream",
     "text": [
      "INFO:httpx:HTTP Request: GET https://api.openai.com/v1/batches/batch_68556ced3334819091f137bca9db0e19 \"HTTP/1.1 200 OK\"\n"
     ]
    },
    {
     "name": "stdout",
     "output_type": "stream",
     "text": [
      "当前状态：in_progress，等待中…\n"
     ]
    },
    {
     "name": "stderr",
     "output_type": "stream",
     "text": [
      "INFO:httpx:HTTP Request: GET https://api.openai.com/v1/batches/batch_68556ced3334819091f137bca9db0e19 \"HTTP/1.1 200 OK\"\n"
     ]
    },
    {
     "name": "stdout",
     "output_type": "stream",
     "text": [
      "当前状态：in_progress，等待中…\n"
     ]
    },
    {
     "name": "stderr",
     "output_type": "stream",
     "text": [
      "INFO:httpx:HTTP Request: GET https://api.openai.com/v1/batches/batch_68556ced3334819091f137bca9db0e19 \"HTTP/1.1 200 OK\"\n"
     ]
    },
    {
     "name": "stdout",
     "output_type": "stream",
     "text": [
      "当前状态：in_progress，等待中…\n"
     ]
    },
    {
     "name": "stderr",
     "output_type": "stream",
     "text": [
      "INFO:httpx:HTTP Request: GET https://api.openai.com/v1/batches/batch_68556ced3334819091f137bca9db0e19 \"HTTP/1.1 200 OK\"\n"
     ]
    },
    {
     "name": "stdout",
     "output_type": "stream",
     "text": [
      "当前状态：in_progress，等待中…\n"
     ]
    },
    {
     "name": "stderr",
     "output_type": "stream",
     "text": [
      "INFO:httpx:HTTP Request: GET https://api.openai.com/v1/batches/batch_68556ced3334819091f137bca9db0e19 \"HTTP/1.1 200 OK\"\n"
     ]
    },
    {
     "name": "stdout",
     "output_type": "stream",
     "text": [
      "当前状态：in_progress，等待中…\n"
     ]
    },
    {
     "name": "stderr",
     "output_type": "stream",
     "text": [
      "INFO:httpx:HTTP Request: GET https://api.openai.com/v1/batches/batch_68556ced3334819091f137bca9db0e19 \"HTTP/1.1 200 OK\"\n"
     ]
    },
    {
     "name": "stdout",
     "output_type": "stream",
     "text": [
      "当前状态：in_progress，等待中…\n"
     ]
    },
    {
     "name": "stderr",
     "output_type": "stream",
     "text": [
      "INFO:httpx:HTTP Request: GET https://api.openai.com/v1/batches/batch_68556ced3334819091f137bca9db0e19 \"HTTP/1.1 200 OK\"\n"
     ]
    },
    {
     "name": "stdout",
     "output_type": "stream",
     "text": [
      "当前状态：in_progress，等待中…\n"
     ]
    },
    {
     "name": "stderr",
     "output_type": "stream",
     "text": [
      "INFO:httpx:HTTP Request: GET https://api.openai.com/v1/batches/batch_68556ced3334819091f137bca9db0e19 \"HTTP/1.1 200 OK\"\n"
     ]
    },
    {
     "name": "stdout",
     "output_type": "stream",
     "text": [
      "当前状态：in_progress，等待中…\n"
     ]
    },
    {
     "name": "stderr",
     "output_type": "stream",
     "text": [
      "INFO:httpx:HTTP Request: GET https://api.openai.com/v1/batches/batch_68556ced3334819091f137bca9db0e19 \"HTTP/1.1 200 OK\"\n"
     ]
    },
    {
     "name": "stdout",
     "output_type": "stream",
     "text": [
      "当前状态：in_progress，等待中…\n"
     ]
    },
    {
     "name": "stderr",
     "output_type": "stream",
     "text": [
      "INFO:httpx:HTTP Request: GET https://api.openai.com/v1/batches/batch_68556ced3334819091f137bca9db0e19 \"HTTP/1.1 200 OK\"\n"
     ]
    },
    {
     "name": "stdout",
     "output_type": "stream",
     "text": [
      "当前状态：in_progress，等待中…\n"
     ]
    },
    {
     "name": "stderr",
     "output_type": "stream",
     "text": [
      "INFO:httpx:HTTP Request: GET https://api.openai.com/v1/batches/batch_68556ced3334819091f137bca9db0e19 \"HTTP/1.1 200 OK\"\n"
     ]
    },
    {
     "name": "stdout",
     "output_type": "stream",
     "text": [
      "当前状态：in_progress，等待中…\n"
     ]
    },
    {
     "name": "stderr",
     "output_type": "stream",
     "text": [
      "INFO:httpx:HTTP Request: GET https://api.openai.com/v1/batches/batch_68556ced3334819091f137bca9db0e19 \"HTTP/1.1 200 OK\"\n"
     ]
    },
    {
     "name": "stdout",
     "output_type": "stream",
     "text": [
      "当前状态：in_progress，等待中…\n"
     ]
    },
    {
     "name": "stderr",
     "output_type": "stream",
     "text": [
      "INFO:httpx:HTTP Request: GET https://api.openai.com/v1/batches/batch_68556ced3334819091f137bca9db0e19 \"HTTP/1.1 200 OK\"\n"
     ]
    },
    {
     "name": "stdout",
     "output_type": "stream",
     "text": [
      "当前状态：in_progress，等待中…\n"
     ]
    },
    {
     "name": "stderr",
     "output_type": "stream",
     "text": [
      "INFO:httpx:HTTP Request: GET https://api.openai.com/v1/batches/batch_68556ced3334819091f137bca9db0e19 \"HTTP/1.1 200 OK\"\n"
     ]
    },
    {
     "name": "stdout",
     "output_type": "stream",
     "text": [
      "当前状态：in_progress，等待中…\n"
     ]
    },
    {
     "name": "stderr",
     "output_type": "stream",
     "text": [
      "INFO:httpx:HTTP Request: GET https://api.openai.com/v1/batches/batch_68556ced3334819091f137bca9db0e19 \"HTTP/1.1 200 OK\"\n"
     ]
    },
    {
     "name": "stdout",
     "output_type": "stream",
     "text": [
      "当前状态：in_progress，等待中…\n"
     ]
    },
    {
     "name": "stderr",
     "output_type": "stream",
     "text": [
      "INFO:httpx:HTTP Request: GET https://api.openai.com/v1/batches/batch_68556ced3334819091f137bca9db0e19 \"HTTP/1.1 200 OK\"\n"
     ]
    },
    {
     "name": "stdout",
     "output_type": "stream",
     "text": [
      "当前状态：in_progress，等待中…\n"
     ]
    },
    {
     "name": "stderr",
     "output_type": "stream",
     "text": [
      "INFO:httpx:HTTP Request: GET https://api.openai.com/v1/batches/batch_68556ced3334819091f137bca9db0e19 \"HTTP/1.1 200 OK\"\n"
     ]
    },
    {
     "name": "stdout",
     "output_type": "stream",
     "text": [
      "当前状态：in_progress，等待中…\n"
     ]
    },
    {
     "name": "stderr",
     "output_type": "stream",
     "text": [
      "INFO:httpx:HTTP Request: GET https://api.openai.com/v1/batches/batch_68556ced3334819091f137bca9db0e19 \"HTTP/1.1 200 OK\"\n"
     ]
    },
    {
     "name": "stdout",
     "output_type": "stream",
     "text": [
      "当前状态：in_progress，等待中…\n"
     ]
    },
    {
     "name": "stderr",
     "output_type": "stream",
     "text": [
      "INFO:httpx:HTTP Request: GET https://api.openai.com/v1/batches/batch_68556ced3334819091f137bca9db0e19 \"HTTP/1.1 200 OK\"\n"
     ]
    },
    {
     "name": "stdout",
     "output_type": "stream",
     "text": [
      "当前状态：in_progress，等待中…\n"
     ]
    },
    {
     "name": "stderr",
     "output_type": "stream",
     "text": [
      "INFO:httpx:HTTP Request: GET https://api.openai.com/v1/batches/batch_68556ced3334819091f137bca9db0e19 \"HTTP/1.1 200 OK\"\n"
     ]
    },
    {
     "name": "stdout",
     "output_type": "stream",
     "text": [
      "当前状态：in_progress，等待中…\n"
     ]
    },
    {
     "name": "stderr",
     "output_type": "stream",
     "text": [
      "INFO:httpx:HTTP Request: GET https://api.openai.com/v1/batches/batch_68556ced3334819091f137bca9db0e19 \"HTTP/1.1 200 OK\"\n"
     ]
    },
    {
     "name": "stdout",
     "output_type": "stream",
     "text": [
      "当前状态：in_progress，等待中…\n"
     ]
    },
    {
     "name": "stderr",
     "output_type": "stream",
     "text": [
      "INFO:httpx:HTTP Request: GET https://api.openai.com/v1/batches/batch_68556ced3334819091f137bca9db0e19 \"HTTP/1.1 200 OK\"\n"
     ]
    },
    {
     "name": "stdout",
     "output_type": "stream",
     "text": [
      "当前状态：in_progress，等待中…\n"
     ]
    },
    {
     "name": "stderr",
     "output_type": "stream",
     "text": [
      "INFO:httpx:HTTP Request: GET https://api.openai.com/v1/batches/batch_68556ced3334819091f137bca9db0e19 \"HTTP/1.1 200 OK\"\n"
     ]
    },
    {
     "name": "stdout",
     "output_type": "stream",
     "text": [
      "当前状态：in_progress，等待中…\n"
     ]
    },
    {
     "name": "stderr",
     "output_type": "stream",
     "text": [
      "INFO:httpx:HTTP Request: GET https://api.openai.com/v1/batches/batch_68556ced3334819091f137bca9db0e19 \"HTTP/1.1 200 OK\"\n"
     ]
    },
    {
     "name": "stdout",
     "output_type": "stream",
     "text": [
      "当前状态：in_progress，等待中…\n"
     ]
    },
    {
     "name": "stderr",
     "output_type": "stream",
     "text": [
      "INFO:httpx:HTTP Request: GET https://api.openai.com/v1/batches/batch_68556ced3334819091f137bca9db0e19 \"HTTP/1.1 200 OK\"\n"
     ]
    },
    {
     "name": "stdout",
     "output_type": "stream",
     "text": [
      "当前状态：in_progress，等待中…\n"
     ]
    },
    {
     "name": "stderr",
     "output_type": "stream",
     "text": [
      "INFO:httpx:HTTP Request: GET https://api.openai.com/v1/batches/batch_68556ced3334819091f137bca9db0e19 \"HTTP/1.1 200 OK\"\n"
     ]
    },
    {
     "name": "stdout",
     "output_type": "stream",
     "text": [
      "当前状态：in_progress，等待中…\n"
     ]
    },
    {
     "name": "stderr",
     "output_type": "stream",
     "text": [
      "INFO:httpx:HTTP Request: GET https://api.openai.com/v1/batches/batch_68556ced3334819091f137bca9db0e19 \"HTTP/1.1 200 OK\"\n"
     ]
    },
    {
     "name": "stdout",
     "output_type": "stream",
     "text": [
      "当前状态：in_progress，等待中…\n"
     ]
    },
    {
     "name": "stderr",
     "output_type": "stream",
     "text": [
      "INFO:httpx:HTTP Request: GET https://api.openai.com/v1/batches/batch_68556ced3334819091f137bca9db0e19 \"HTTP/1.1 200 OK\"\n"
     ]
    },
    {
     "name": "stdout",
     "output_type": "stream",
     "text": [
      "当前状态：in_progress，等待中…\n"
     ]
    },
    {
     "name": "stderr",
     "output_type": "stream",
     "text": [
      "INFO:httpx:HTTP Request: GET https://api.openai.com/v1/batches/batch_68556ced3334819091f137bca9db0e19 \"HTTP/1.1 200 OK\"\n"
     ]
    },
    {
     "name": "stdout",
     "output_type": "stream",
     "text": [
      "当前状态：in_progress，等待中…\n"
     ]
    },
    {
     "name": "stderr",
     "output_type": "stream",
     "text": [
      "INFO:httpx:HTTP Request: GET https://api.openai.com/v1/batches/batch_68556ced3334819091f137bca9db0e19 \"HTTP/1.1 200 OK\"\n"
     ]
    },
    {
     "name": "stdout",
     "output_type": "stream",
     "text": [
      "当前状态：in_progress，等待中…\n"
     ]
    },
    {
     "name": "stderr",
     "output_type": "stream",
     "text": [
      "INFO:httpx:HTTP Request: GET https://api.openai.com/v1/batches/batch_68556ced3334819091f137bca9db0e19 \"HTTP/1.1 200 OK\"\n"
     ]
    },
    {
     "name": "stdout",
     "output_type": "stream",
     "text": [
      "当前状态：in_progress，等待中…\n"
     ]
    },
    {
     "name": "stderr",
     "output_type": "stream",
     "text": [
      "INFO:httpx:HTTP Request: GET https://api.openai.com/v1/batches/batch_68556ced3334819091f137bca9db0e19 \"HTTP/1.1 200 OK\"\n"
     ]
    },
    {
     "name": "stdout",
     "output_type": "stream",
     "text": [
      "当前状态：in_progress，等待中…\n"
     ]
    },
    {
     "name": "stderr",
     "output_type": "stream",
     "text": [
      "INFO:httpx:HTTP Request: GET https://api.openai.com/v1/batches/batch_68556ced3334819091f137bca9db0e19 \"HTTP/1.1 200 OK\"\n"
     ]
    },
    {
     "name": "stdout",
     "output_type": "stream",
     "text": [
      "当前状态：in_progress，等待中…\n"
     ]
    },
    {
     "name": "stderr",
     "output_type": "stream",
     "text": [
      "INFO:httpx:HTTP Request: GET https://api.openai.com/v1/batches/batch_68556ced3334819091f137bca9db0e19 \"HTTP/1.1 200 OK\"\n"
     ]
    },
    {
     "name": "stdout",
     "output_type": "stream",
     "text": [
      "当前状态：in_progress，等待中…\n"
     ]
    },
    {
     "name": "stderr",
     "output_type": "stream",
     "text": [
      "INFO:httpx:HTTP Request: GET https://api.openai.com/v1/batches/batch_68556ced3334819091f137bca9db0e19 \"HTTP/1.1 200 OK\"\n"
     ]
    },
    {
     "name": "stdout",
     "output_type": "stream",
     "text": [
      "当前状态：in_progress，等待中…\n"
     ]
    },
    {
     "name": "stderr",
     "output_type": "stream",
     "text": [
      "INFO:httpx:HTTP Request: GET https://api.openai.com/v1/batches/batch_68556ced3334819091f137bca9db0e19 \"HTTP/1.1 200 OK\"\n"
     ]
    },
    {
     "name": "stdout",
     "output_type": "stream",
     "text": [
      "当前状态：in_progress，等待中…\n"
     ]
    },
    {
     "name": "stderr",
     "output_type": "stream",
     "text": [
      "INFO:httpx:HTTP Request: GET https://api.openai.com/v1/batches/batch_68556ced3334819091f137bca9db0e19 \"HTTP/1.1 200 OK\"\n"
     ]
    },
    {
     "name": "stdout",
     "output_type": "stream",
     "text": [
      "当前状态：in_progress，等待中…\n"
     ]
    },
    {
     "name": "stderr",
     "output_type": "stream",
     "text": [
      "INFO:httpx:HTTP Request: GET https://api.openai.com/v1/batches/batch_68556ced3334819091f137bca9db0e19 \"HTTP/1.1 200 OK\"\n"
     ]
    },
    {
     "name": "stdout",
     "output_type": "stream",
     "text": [
      "当前状态：in_progress，等待中…\n"
     ]
    },
    {
     "name": "stderr",
     "output_type": "stream",
     "text": [
      "INFO:httpx:HTTP Request: GET https://api.openai.com/v1/batches/batch_68556ced3334819091f137bca9db0e19 \"HTTP/1.1 200 OK\"\n"
     ]
    },
    {
     "name": "stdout",
     "output_type": "stream",
     "text": [
      "当前状态：in_progress，等待中…\n"
     ]
    },
    {
     "name": "stderr",
     "output_type": "stream",
     "text": [
      "INFO:httpx:HTTP Request: GET https://api.openai.com/v1/batches/batch_68556ced3334819091f137bca9db0e19 \"HTTP/1.1 200 OK\"\n"
     ]
    },
    {
     "name": "stdout",
     "output_type": "stream",
     "text": [
      "当前状态：in_progress，等待中…\n"
     ]
    },
    {
     "name": "stderr",
     "output_type": "stream",
     "text": [
      "INFO:httpx:HTTP Request: GET https://api.openai.com/v1/batches/batch_68556ced3334819091f137bca9db0e19 \"HTTP/1.1 200 OK\"\n"
     ]
    },
    {
     "name": "stdout",
     "output_type": "stream",
     "text": [
      "当前状态：in_progress，等待中…\n"
     ]
    },
    {
     "name": "stderr",
     "output_type": "stream",
     "text": [
      "INFO:httpx:HTTP Request: GET https://api.openai.com/v1/batches/batch_68556ced3334819091f137bca9db0e19 \"HTTP/1.1 200 OK\"\n"
     ]
    },
    {
     "name": "stdout",
     "output_type": "stream",
     "text": [
      "当前状态：in_progress，等待中…\n"
     ]
    },
    {
     "name": "stderr",
     "output_type": "stream",
     "text": [
      "INFO:httpx:HTTP Request: GET https://api.openai.com/v1/batches/batch_68556ced3334819091f137bca9db0e19 \"HTTP/1.1 200 OK\"\n"
     ]
    },
    {
     "name": "stdout",
     "output_type": "stream",
     "text": [
      "当前状态：in_progress，等待中…\n"
     ]
    },
    {
     "name": "stderr",
     "output_type": "stream",
     "text": [
      "INFO:httpx:HTTP Request: GET https://api.openai.com/v1/batches/batch_68556ced3334819091f137bca9db0e19 \"HTTP/1.1 200 OK\"\n"
     ]
    },
    {
     "name": "stdout",
     "output_type": "stream",
     "text": [
      "当前状态：in_progress，等待中…\n"
     ]
    },
    {
     "name": "stderr",
     "output_type": "stream",
     "text": [
      "INFO:httpx:HTTP Request: GET https://api.openai.com/v1/batches/batch_68556ced3334819091f137bca9db0e19 \"HTTP/1.1 200 OK\"\n"
     ]
    },
    {
     "name": "stdout",
     "output_type": "stream",
     "text": [
      "当前状态：in_progress，等待中…\n"
     ]
    },
    {
     "name": "stderr",
     "output_type": "stream",
     "text": [
      "INFO:httpx:HTTP Request: GET https://api.openai.com/v1/batches/batch_68556ced3334819091f137bca9db0e19 \"HTTP/1.1 200 OK\"\n"
     ]
    },
    {
     "name": "stdout",
     "output_type": "stream",
     "text": [
      "当前状态：in_progress，等待中…\n"
     ]
    },
    {
     "name": "stderr",
     "output_type": "stream",
     "text": [
      "INFO:httpx:HTTP Request: GET https://api.openai.com/v1/batches/batch_68556ced3334819091f137bca9db0e19 \"HTTP/1.1 200 OK\"\n"
     ]
    },
    {
     "name": "stdout",
     "output_type": "stream",
     "text": [
      "当前状态：in_progress，等待中…\n"
     ]
    },
    {
     "name": "stderr",
     "output_type": "stream",
     "text": [
      "INFO:httpx:HTTP Request: GET https://api.openai.com/v1/batches/batch_68556ced3334819091f137bca9db0e19 \"HTTP/1.1 200 OK\"\n"
     ]
    },
    {
     "name": "stdout",
     "output_type": "stream",
     "text": [
      "当前状态：in_progress，等待中…\n"
     ]
    },
    {
     "name": "stderr",
     "output_type": "stream",
     "text": [
      "INFO:httpx:HTTP Request: GET https://api.openai.com/v1/batches/batch_68556ced3334819091f137bca9db0e19 \"HTTP/1.1 200 OK\"\n"
     ]
    },
    {
     "name": "stdout",
     "output_type": "stream",
     "text": [
      "当前状态：in_progress，等待中…\n"
     ]
    },
    {
     "name": "stderr",
     "output_type": "stream",
     "text": [
      "INFO:httpx:HTTP Request: GET https://api.openai.com/v1/batches/batch_68556ced3334819091f137bca9db0e19 \"HTTP/1.1 200 OK\"\n"
     ]
    },
    {
     "name": "stdout",
     "output_type": "stream",
     "text": [
      "当前状态：in_progress，等待中…\n"
     ]
    },
    {
     "name": "stderr",
     "output_type": "stream",
     "text": [
      "INFO:httpx:HTTP Request: GET https://api.openai.com/v1/batches/batch_68556ced3334819091f137bca9db0e19 \"HTTP/1.1 200 OK\"\n"
     ]
    },
    {
     "name": "stdout",
     "output_type": "stream",
     "text": [
      "当前状态：in_progress，等待中…\n"
     ]
    },
    {
     "name": "stderr",
     "output_type": "stream",
     "text": [
      "INFO:httpx:HTTP Request: GET https://api.openai.com/v1/batches/batch_68556ced3334819091f137bca9db0e19 \"HTTP/1.1 200 OK\"\n"
     ]
    },
    {
     "name": "stdout",
     "output_type": "stream",
     "text": [
      "当前状态：in_progress，等待中…\n"
     ]
    },
    {
     "name": "stderr",
     "output_type": "stream",
     "text": [
      "INFO:httpx:HTTP Request: GET https://api.openai.com/v1/batches/batch_68556ced3334819091f137bca9db0e19 \"HTTP/1.1 200 OK\"\n"
     ]
    },
    {
     "name": "stdout",
     "output_type": "stream",
     "text": [
      "当前状态：in_progress，等待中…\n"
     ]
    },
    {
     "name": "stderr",
     "output_type": "stream",
     "text": [
      "INFO:httpx:HTTP Request: GET https://api.openai.com/v1/batches/batch_68556ced3334819091f137bca9db0e19 \"HTTP/1.1 200 OK\"\n"
     ]
    },
    {
     "name": "stdout",
     "output_type": "stream",
     "text": [
      "当前状态：in_progress，等待中…\n"
     ]
    },
    {
     "name": "stderr",
     "output_type": "stream",
     "text": [
      "INFO:httpx:HTTP Request: GET https://api.openai.com/v1/batches/batch_68556ced3334819091f137bca9db0e19 \"HTTP/1.1 200 OK\"\n"
     ]
    },
    {
     "name": "stdout",
     "output_type": "stream",
     "text": [
      "当前状态：in_progress，等待中…\n"
     ]
    },
    {
     "name": "stderr",
     "output_type": "stream",
     "text": [
      "INFO:httpx:HTTP Request: GET https://api.openai.com/v1/batches/batch_68556ced3334819091f137bca9db0e19 \"HTTP/1.1 200 OK\"\n"
     ]
    },
    {
     "name": "stdout",
     "output_type": "stream",
     "text": [
      "当前状态：in_progress，等待中…\n"
     ]
    },
    {
     "name": "stderr",
     "output_type": "stream",
     "text": [
      "INFO:httpx:HTTP Request: GET https://api.openai.com/v1/batches/batch_68556ced3334819091f137bca9db0e19 \"HTTP/1.1 200 OK\"\n"
     ]
    },
    {
     "name": "stdout",
     "output_type": "stream",
     "text": [
      "当前状态：in_progress，等待中…\n"
     ]
    },
    {
     "name": "stderr",
     "output_type": "stream",
     "text": [
      "INFO:httpx:HTTP Request: GET https://api.openai.com/v1/batches/batch_68556ced3334819091f137bca9db0e19 \"HTTP/1.1 200 OK\"\n"
     ]
    },
    {
     "name": "stdout",
     "output_type": "stream",
     "text": [
      "当前状态：in_progress，等待中…\n"
     ]
    },
    {
     "name": "stderr",
     "output_type": "stream",
     "text": [
      "INFO:httpx:HTTP Request: GET https://api.openai.com/v1/batches/batch_68556ced3334819091f137bca9db0e19 \"HTTP/1.1 200 OK\"\n"
     ]
    },
    {
     "name": "stdout",
     "output_type": "stream",
     "text": [
      "当前状态：in_progress，等待中…\n"
     ]
    },
    {
     "name": "stderr",
     "output_type": "stream",
     "text": [
      "INFO:httpx:HTTP Request: GET https://api.openai.com/v1/batches/batch_68556ced3334819091f137bca9db0e19 \"HTTP/1.1 200 OK\"\n"
     ]
    },
    {
     "name": "stdout",
     "output_type": "stream",
     "text": [
      "当前状态：in_progress，等待中…\n"
     ]
    },
    {
     "name": "stderr",
     "output_type": "stream",
     "text": [
      "INFO:httpx:HTTP Request: GET https://api.openai.com/v1/batches/batch_68556ced3334819091f137bca9db0e19 \"HTTP/1.1 200 OK\"\n"
     ]
    },
    {
     "name": "stdout",
     "output_type": "stream",
     "text": [
      "当前状态：in_progress，等待中…\n"
     ]
    },
    {
     "name": "stderr",
     "output_type": "stream",
     "text": [
      "INFO:httpx:HTTP Request: GET https://api.openai.com/v1/batches/batch_68556ced3334819091f137bca9db0e19 \"HTTP/1.1 200 OK\"\n"
     ]
    },
    {
     "name": "stdout",
     "output_type": "stream",
     "text": [
      "当前状态：in_progress，等待中…\n"
     ]
    },
    {
     "name": "stderr",
     "output_type": "stream",
     "text": [
      "INFO:httpx:HTTP Request: GET https://api.openai.com/v1/batches/batch_68556ced3334819091f137bca9db0e19 \"HTTP/1.1 200 OK\"\n"
     ]
    },
    {
     "name": "stdout",
     "output_type": "stream",
     "text": [
      "当前状态：in_progress，等待中…\n"
     ]
    },
    {
     "name": "stderr",
     "output_type": "stream",
     "text": [
      "INFO:httpx:HTTP Request: GET https://api.openai.com/v1/batches/batch_68556ced3334819091f137bca9db0e19 \"HTTP/1.1 200 OK\"\n"
     ]
    },
    {
     "name": "stdout",
     "output_type": "stream",
     "text": [
      "当前状态：in_progress，等待中…\n"
     ]
    },
    {
     "name": "stderr",
     "output_type": "stream",
     "text": [
      "INFO:httpx:HTTP Request: GET https://api.openai.com/v1/batches/batch_68556ced3334819091f137bca9db0e19 \"HTTP/1.1 200 OK\"\n"
     ]
    },
    {
     "name": "stdout",
     "output_type": "stream",
     "text": [
      "当前状态：in_progress，等待中…\n"
     ]
    },
    {
     "name": "stderr",
     "output_type": "stream",
     "text": [
      "INFO:httpx:HTTP Request: GET https://api.openai.com/v1/batches/batch_68556ced3334819091f137bca9db0e19 \"HTTP/1.1 200 OK\"\n"
     ]
    },
    {
     "name": "stdout",
     "output_type": "stream",
     "text": [
      "当前状态：in_progress，等待中…\n"
     ]
    },
    {
     "name": "stderr",
     "output_type": "stream",
     "text": [
      "INFO:httpx:HTTP Request: GET https://api.openai.com/v1/batches/batch_68556ced3334819091f137bca9db0e19 \"HTTP/1.1 200 OK\"\n"
     ]
    },
    {
     "name": "stdout",
     "output_type": "stream",
     "text": [
      "当前状态：in_progress，等待中…\n"
     ]
    },
    {
     "name": "stderr",
     "output_type": "stream",
     "text": [
      "INFO:httpx:HTTP Request: GET https://api.openai.com/v1/batches/batch_68556ced3334819091f137bca9db0e19 \"HTTP/1.1 200 OK\"\n"
     ]
    },
    {
     "name": "stdout",
     "output_type": "stream",
     "text": [
      "当前状态：in_progress，等待中…\n"
     ]
    },
    {
     "name": "stderr",
     "output_type": "stream",
     "text": [
      "INFO:httpx:HTTP Request: GET https://api.openai.com/v1/batches/batch_68556ced3334819091f137bca9db0e19 \"HTTP/1.1 200 OK\"\n"
     ]
    },
    {
     "name": "stdout",
     "output_type": "stream",
     "text": [
      "当前状态：in_progress，等待中…\n"
     ]
    },
    {
     "name": "stderr",
     "output_type": "stream",
     "text": [
      "INFO:httpx:HTTP Request: GET https://api.openai.com/v1/batches/batch_68556ced3334819091f137bca9db0e19 \"HTTP/1.1 200 OK\"\n"
     ]
    },
    {
     "name": "stdout",
     "output_type": "stream",
     "text": [
      "当前状态：in_progress，等待中…\n"
     ]
    },
    {
     "name": "stderr",
     "output_type": "stream",
     "text": [
      "INFO:httpx:HTTP Request: GET https://api.openai.com/v1/batches/batch_68556ced3334819091f137bca9db0e19 \"HTTP/1.1 200 OK\"\n"
     ]
    },
    {
     "name": "stdout",
     "output_type": "stream",
     "text": [
      "当前状态：in_progress，等待中…\n"
     ]
    },
    {
     "name": "stderr",
     "output_type": "stream",
     "text": [
      "INFO:httpx:HTTP Request: GET https://api.openai.com/v1/batches/batch_68556ced3334819091f137bca9db0e19 \"HTTP/1.1 200 OK\"\n"
     ]
    },
    {
     "name": "stdout",
     "output_type": "stream",
     "text": [
      "当前状态：in_progress，等待中…\n"
     ]
    },
    {
     "name": "stderr",
     "output_type": "stream",
     "text": [
      "INFO:httpx:HTTP Request: GET https://api.openai.com/v1/batches/batch_68556ced3334819091f137bca9db0e19 \"HTTP/1.1 200 OK\"\n"
     ]
    },
    {
     "name": "stdout",
     "output_type": "stream",
     "text": [
      "当前状态：in_progress，等待中…\n"
     ]
    },
    {
     "name": "stderr",
     "output_type": "stream",
     "text": [
      "INFO:httpx:HTTP Request: GET https://api.openai.com/v1/batches/batch_68556ced3334819091f137bca9db0e19 \"HTTP/1.1 200 OK\"\n"
     ]
    },
    {
     "name": "stdout",
     "output_type": "stream",
     "text": [
      "当前状态：in_progress，等待中…\n"
     ]
    },
    {
     "name": "stderr",
     "output_type": "stream",
     "text": [
      "INFO:httpx:HTTP Request: GET https://api.openai.com/v1/batches/batch_68556ced3334819091f137bca9db0e19 \"HTTP/1.1 200 OK\"\n"
     ]
    },
    {
     "name": "stdout",
     "output_type": "stream",
     "text": [
      "当前状态：in_progress，等待中…\n"
     ]
    },
    {
     "name": "stderr",
     "output_type": "stream",
     "text": [
      "INFO:httpx:HTTP Request: GET https://api.openai.com/v1/batches/batch_68556ced3334819091f137bca9db0e19 \"HTTP/1.1 200 OK\"\n"
     ]
    },
    {
     "name": "stdout",
     "output_type": "stream",
     "text": [
      "当前状态：in_progress，等待中…\n"
     ]
    },
    {
     "name": "stderr",
     "output_type": "stream",
     "text": [
      "INFO:httpx:HTTP Request: GET https://api.openai.com/v1/batches/batch_68556ced3334819091f137bca9db0e19 \"HTTP/1.1 200 OK\"\n"
     ]
    },
    {
     "name": "stdout",
     "output_type": "stream",
     "text": [
      "当前状态：in_progress，等待中…\n"
     ]
    },
    {
     "name": "stderr",
     "output_type": "stream",
     "text": [
      "INFO:httpx:HTTP Request: GET https://api.openai.com/v1/batches/batch_68556ced3334819091f137bca9db0e19 \"HTTP/1.1 200 OK\"\n"
     ]
    },
    {
     "name": "stdout",
     "output_type": "stream",
     "text": [
      "当前状态：in_progress，等待中…\n"
     ]
    },
    {
     "name": "stderr",
     "output_type": "stream",
     "text": [
      "INFO:httpx:HTTP Request: GET https://api.openai.com/v1/batches/batch_68556ced3334819091f137bca9db0e19 \"HTTP/1.1 200 OK\"\n"
     ]
    },
    {
     "name": "stdout",
     "output_type": "stream",
     "text": [
      "当前状态：in_progress，等待中…\n"
     ]
    },
    {
     "name": "stderr",
     "output_type": "stream",
     "text": [
      "INFO:httpx:HTTP Request: GET https://api.openai.com/v1/batches/batch_68556ced3334819091f137bca9db0e19 \"HTTP/1.1 200 OK\"\n"
     ]
    },
    {
     "name": "stdout",
     "output_type": "stream",
     "text": [
      "当前状态：in_progress，等待中…\n"
     ]
    },
    {
     "name": "stderr",
     "output_type": "stream",
     "text": [
      "INFO:httpx:HTTP Request: GET https://api.openai.com/v1/batches/batch_68556ced3334819091f137bca9db0e19 \"HTTP/1.1 200 OK\"\n"
     ]
    },
    {
     "name": "stdout",
     "output_type": "stream",
     "text": [
      "当前状态：in_progress，等待中…\n"
     ]
    },
    {
     "name": "stderr",
     "output_type": "stream",
     "text": [
      "INFO:httpx:HTTP Request: GET https://api.openai.com/v1/batches/batch_68556ced3334819091f137bca9db0e19 \"HTTP/1.1 200 OK\"\n"
     ]
    },
    {
     "name": "stdout",
     "output_type": "stream",
     "text": [
      "当前状态：in_progress，等待中…\n"
     ]
    },
    {
     "name": "stderr",
     "output_type": "stream",
     "text": [
      "INFO:httpx:HTTP Request: GET https://api.openai.com/v1/batches/batch_68556ced3334819091f137bca9db0e19 \"HTTP/1.1 200 OK\"\n"
     ]
    },
    {
     "name": "stdout",
     "output_type": "stream",
     "text": [
      "当前状态：in_progress，等待中…\n"
     ]
    },
    {
     "name": "stderr",
     "output_type": "stream",
     "text": [
      "INFO:httpx:HTTP Request: GET https://api.openai.com/v1/batches/batch_68556ced3334819091f137bca9db0e19 \"HTTP/1.1 200 OK\"\n"
     ]
    },
    {
     "name": "stdout",
     "output_type": "stream",
     "text": [
      "当前状态：in_progress，等待中…\n"
     ]
    },
    {
     "name": "stderr",
     "output_type": "stream",
     "text": [
      "INFO:httpx:HTTP Request: GET https://api.openai.com/v1/batches/batch_68556ced3334819091f137bca9db0e19 \"HTTP/1.1 200 OK\"\n"
     ]
    },
    {
     "name": "stdout",
     "output_type": "stream",
     "text": [
      "当前状态：in_progress，等待中…\n"
     ]
    },
    {
     "name": "stderr",
     "output_type": "stream",
     "text": [
      "INFO:httpx:HTTP Request: GET https://api.openai.com/v1/batches/batch_68556ced3334819091f137bca9db0e19 \"HTTP/1.1 200 OK\"\n"
     ]
    },
    {
     "name": "stdout",
     "output_type": "stream",
     "text": [
      "当前状态：in_progress，等待中…\n"
     ]
    },
    {
     "name": "stderr",
     "output_type": "stream",
     "text": [
      "INFO:httpx:HTTP Request: GET https://api.openai.com/v1/batches/batch_68556ced3334819091f137bca9db0e19 \"HTTP/1.1 200 OK\"\n"
     ]
    },
    {
     "name": "stdout",
     "output_type": "stream",
     "text": [
      "当前状态：in_progress，等待中…\n"
     ]
    },
    {
     "name": "stderr",
     "output_type": "stream",
     "text": [
      "INFO:httpx:HTTP Request: GET https://api.openai.com/v1/batches/batch_68556ced3334819091f137bca9db0e19 \"HTTP/1.1 200 OK\"\n"
     ]
    },
    {
     "name": "stdout",
     "output_type": "stream",
     "text": [
      "当前状态：in_progress，等待中…\n"
     ]
    },
    {
     "name": "stderr",
     "output_type": "stream",
     "text": [
      "INFO:httpx:HTTP Request: GET https://api.openai.com/v1/batches/batch_68556ced3334819091f137bca9db0e19 \"HTTP/1.1 200 OK\"\n"
     ]
    },
    {
     "name": "stdout",
     "output_type": "stream",
     "text": [
      "当前状态：in_progress，等待中…\n"
     ]
    },
    {
     "name": "stderr",
     "output_type": "stream",
     "text": [
      "INFO:httpx:HTTP Request: GET https://api.openai.com/v1/batches/batch_68556ced3334819091f137bca9db0e19 \"HTTP/1.1 200 OK\"\n"
     ]
    },
    {
     "name": "stdout",
     "output_type": "stream",
     "text": [
      "当前状态：in_progress，等待中…\n"
     ]
    },
    {
     "name": "stderr",
     "output_type": "stream",
     "text": [
      "INFO:httpx:HTTP Request: GET https://api.openai.com/v1/batches/batch_68556ced3334819091f137bca9db0e19 \"HTTP/1.1 200 OK\"\n"
     ]
    },
    {
     "name": "stdout",
     "output_type": "stream",
     "text": [
      "当前状态：in_progress，等待中…\n"
     ]
    },
    {
     "name": "stderr",
     "output_type": "stream",
     "text": [
      "INFO:httpx:HTTP Request: GET https://api.openai.com/v1/batches/batch_68556ced3334819091f137bca9db0e19 \"HTTP/1.1 200 OK\"\n"
     ]
    },
    {
     "name": "stdout",
     "output_type": "stream",
     "text": [
      "当前状态：in_progress，等待中…\n"
     ]
    },
    {
     "name": "stderr",
     "output_type": "stream",
     "text": [
      "INFO:httpx:HTTP Request: GET https://api.openai.com/v1/batches/batch_68556ced3334819091f137bca9db0e19 \"HTTP/1.1 200 OK\"\n"
     ]
    },
    {
     "name": "stdout",
     "output_type": "stream",
     "text": [
      "当前状态：in_progress，等待中…\n"
     ]
    },
    {
     "name": "stderr",
     "output_type": "stream",
     "text": [
      "INFO:httpx:HTTP Request: GET https://api.openai.com/v1/batches/batch_68556ced3334819091f137bca9db0e19 \"HTTP/1.1 200 OK\"\n"
     ]
    },
    {
     "name": "stdout",
     "output_type": "stream",
     "text": [
      "当前状态：in_progress，等待中…\n"
     ]
    },
    {
     "name": "stderr",
     "output_type": "stream",
     "text": [
      "INFO:httpx:HTTP Request: GET https://api.openai.com/v1/batches/batch_68556ced3334819091f137bca9db0e19 \"HTTP/1.1 200 OK\"\n"
     ]
    },
    {
     "name": "stdout",
     "output_type": "stream",
     "text": [
      "当前状态：in_progress，等待中…\n"
     ]
    },
    {
     "name": "stderr",
     "output_type": "stream",
     "text": [
      "INFO:httpx:HTTP Request: GET https://api.openai.com/v1/batches/batch_68556ced3334819091f137bca9db0e19 \"HTTP/1.1 200 OK\"\n"
     ]
    },
    {
     "name": "stdout",
     "output_type": "stream",
     "text": [
      "当前状态：in_progress，等待中…\n"
     ]
    },
    {
     "name": "stderr",
     "output_type": "stream",
     "text": [
      "INFO:httpx:HTTP Request: GET https://api.openai.com/v1/batches/batch_68556ced3334819091f137bca9db0e19 \"HTTP/1.1 200 OK\"\n"
     ]
    },
    {
     "name": "stdout",
     "output_type": "stream",
     "text": [
      "当前状态：in_progress，等待中…\n"
     ]
    },
    {
     "name": "stderr",
     "output_type": "stream",
     "text": [
      "INFO:httpx:HTTP Request: GET https://api.openai.com/v1/batches/batch_68556ced3334819091f137bca9db0e19 \"HTTP/1.1 200 OK\"\n"
     ]
    },
    {
     "name": "stdout",
     "output_type": "stream",
     "text": [
      "当前状态：in_progress，等待中…\n"
     ]
    },
    {
     "name": "stderr",
     "output_type": "stream",
     "text": [
      "INFO:httpx:HTTP Request: GET https://api.openai.com/v1/batches/batch_68556ced3334819091f137bca9db0e19 \"HTTP/1.1 200 OK\"\n"
     ]
    },
    {
     "name": "stdout",
     "output_type": "stream",
     "text": [
      "当前状态：in_progress，等待中…\n"
     ]
    },
    {
     "name": "stderr",
     "output_type": "stream",
     "text": [
      "INFO:httpx:HTTP Request: GET https://api.openai.com/v1/batches/batch_68556ced3334819091f137bca9db0e19 \"HTTP/1.1 200 OK\"\n"
     ]
    },
    {
     "name": "stdout",
     "output_type": "stream",
     "text": [
      "当前状态：in_progress，等待中…\n"
     ]
    },
    {
     "name": "stderr",
     "output_type": "stream",
     "text": [
      "INFO:httpx:HTTP Request: GET https://api.openai.com/v1/batches/batch_68556ced3334819091f137bca9db0e19 \"HTTP/1.1 200 OK\"\n"
     ]
    },
    {
     "name": "stdout",
     "output_type": "stream",
     "text": [
      "当前状态：in_progress，等待中…\n"
     ]
    },
    {
     "name": "stderr",
     "output_type": "stream",
     "text": [
      "INFO:httpx:HTTP Request: GET https://api.openai.com/v1/batches/batch_68556ced3334819091f137bca9db0e19 \"HTTP/1.1 200 OK\"\n"
     ]
    },
    {
     "name": "stdout",
     "output_type": "stream",
     "text": [
      "当前状态：in_progress，等待中…\n"
     ]
    },
    {
     "name": "stderr",
     "output_type": "stream",
     "text": [
      "INFO:httpx:HTTP Request: GET https://api.openai.com/v1/batches/batch_68556ced3334819091f137bca9db0e19 \"HTTP/1.1 200 OK\"\n"
     ]
    },
    {
     "name": "stdout",
     "output_type": "stream",
     "text": [
      "当前状态：in_progress，等待中…\n"
     ]
    },
    {
     "name": "stderr",
     "output_type": "stream",
     "text": [
      "INFO:httpx:HTTP Request: GET https://api.openai.com/v1/batches/batch_68556ced3334819091f137bca9db0e19 \"HTTP/1.1 200 OK\"\n"
     ]
    },
    {
     "name": "stdout",
     "output_type": "stream",
     "text": [
      "当前状态：in_progress，等待中…\n"
     ]
    },
    {
     "name": "stderr",
     "output_type": "stream",
     "text": [
      "INFO:httpx:HTTP Request: GET https://api.openai.com/v1/batches/batch_68556ced3334819091f137bca9db0e19 \"HTTP/1.1 200 OK\"\n"
     ]
    },
    {
     "name": "stdout",
     "output_type": "stream",
     "text": [
      "当前状态：in_progress，等待中…\n"
     ]
    },
    {
     "name": "stderr",
     "output_type": "stream",
     "text": [
      "INFO:httpx:HTTP Request: GET https://api.openai.com/v1/batches/batch_68556ced3334819091f137bca9db0e19 \"HTTP/1.1 200 OK\"\n"
     ]
    },
    {
     "name": "stdout",
     "output_type": "stream",
     "text": [
      "当前状态：in_progress，等待中…\n"
     ]
    },
    {
     "name": "stderr",
     "output_type": "stream",
     "text": [
      "INFO:httpx:HTTP Request: GET https://api.openai.com/v1/batches/batch_68556ced3334819091f137bca9db0e19 \"HTTP/1.1 200 OK\"\n"
     ]
    },
    {
     "name": "stdout",
     "output_type": "stream",
     "text": [
      "当前状态：in_progress，等待中…\n"
     ]
    },
    {
     "name": "stderr",
     "output_type": "stream",
     "text": [
      "INFO:httpx:HTTP Request: GET https://api.openai.com/v1/batches/batch_68556ced3334819091f137bca9db0e19 \"HTTP/1.1 200 OK\"\n"
     ]
    },
    {
     "name": "stdout",
     "output_type": "stream",
     "text": [
      "当前状态：in_progress，等待中…\n"
     ]
    },
    {
     "name": "stderr",
     "output_type": "stream",
     "text": [
      "INFO:httpx:HTTP Request: GET https://api.openai.com/v1/batches/batch_68556ced3334819091f137bca9db0e19 \"HTTP/1.1 200 OK\"\n"
     ]
    },
    {
     "name": "stdout",
     "output_type": "stream",
     "text": [
      "当前状态：in_progress，等待中…\n"
     ]
    },
    {
     "name": "stderr",
     "output_type": "stream",
     "text": [
      "INFO:httpx:HTTP Request: GET https://api.openai.com/v1/batches/batch_68556ced3334819091f137bca9db0e19 \"HTTP/1.1 200 OK\"\n"
     ]
    },
    {
     "name": "stdout",
     "output_type": "stream",
     "text": [
      "当前状态：in_progress，等待中…\n"
     ]
    },
    {
     "name": "stderr",
     "output_type": "stream",
     "text": [
      "INFO:httpx:HTTP Request: GET https://api.openai.com/v1/batches/batch_68556ced3334819091f137bca9db0e19 \"HTTP/1.1 200 OK\"\n"
     ]
    },
    {
     "name": "stdout",
     "output_type": "stream",
     "text": [
      "当前状态：in_progress，等待中…\n"
     ]
    },
    {
     "name": "stderr",
     "output_type": "stream",
     "text": [
      "INFO:httpx:HTTP Request: GET https://api.openai.com/v1/batches/batch_68556ced3334819091f137bca9db0e19 \"HTTP/1.1 200 OK\"\n"
     ]
    },
    {
     "name": "stdout",
     "output_type": "stream",
     "text": [
      "当前状态：in_progress，等待中…\n"
     ]
    },
    {
     "name": "stderr",
     "output_type": "stream",
     "text": [
      "INFO:httpx:HTTP Request: GET https://api.openai.com/v1/batches/batch_68556ced3334819091f137bca9db0e19 \"HTTP/1.1 200 OK\"\n"
     ]
    },
    {
     "name": "stdout",
     "output_type": "stream",
     "text": [
      "当前状态：in_progress，等待中…\n"
     ]
    },
    {
     "name": "stderr",
     "output_type": "stream",
     "text": [
      "INFO:httpx:HTTP Request: GET https://api.openai.com/v1/batches/batch_68556ced3334819091f137bca9db0e19 \"HTTP/1.1 200 OK\"\n"
     ]
    },
    {
     "name": "stdout",
     "output_type": "stream",
     "text": [
      "当前状态：in_progress，等待中…\n"
     ]
    },
    {
     "name": "stderr",
     "output_type": "stream",
     "text": [
      "INFO:httpx:HTTP Request: GET https://api.openai.com/v1/batches/batch_68556ced3334819091f137bca9db0e19 \"HTTP/1.1 200 OK\"\n"
     ]
    },
    {
     "name": "stdout",
     "output_type": "stream",
     "text": [
      "当前状态：in_progress，等待中…\n"
     ]
    },
    {
     "name": "stderr",
     "output_type": "stream",
     "text": [
      "INFO:httpx:HTTP Request: GET https://api.openai.com/v1/batches/batch_68556ced3334819091f137bca9db0e19 \"HTTP/1.1 200 OK\"\n"
     ]
    },
    {
     "name": "stdout",
     "output_type": "stream",
     "text": [
      "当前状态：in_progress，等待中…\n"
     ]
    },
    {
     "name": "stderr",
     "output_type": "stream",
     "text": [
      "INFO:httpx:HTTP Request: GET https://api.openai.com/v1/batches/batch_68556ced3334819091f137bca9db0e19 \"HTTP/1.1 200 OK\"\n"
     ]
    },
    {
     "name": "stdout",
     "output_type": "stream",
     "text": [
      "当前状态：in_progress，等待中…\n"
     ]
    },
    {
     "name": "stderr",
     "output_type": "stream",
     "text": [
      "INFO:httpx:HTTP Request: GET https://api.openai.com/v1/batches/batch_68556ced3334819091f137bca9db0e19 \"HTTP/1.1 200 OK\"\n"
     ]
    },
    {
     "name": "stdout",
     "output_type": "stream",
     "text": [
      "当前状态：in_progress，等待中…\n"
     ]
    },
    {
     "name": "stderr",
     "output_type": "stream",
     "text": [
      "INFO:httpx:HTTP Request: GET https://api.openai.com/v1/batches/batch_68556ced3334819091f137bca9db0e19 \"HTTP/1.1 200 OK\"\n"
     ]
    },
    {
     "name": "stdout",
     "output_type": "stream",
     "text": [
      "当前状态：in_progress，等待中…\n"
     ]
    },
    {
     "name": "stderr",
     "output_type": "stream",
     "text": [
      "INFO:httpx:HTTP Request: GET https://api.openai.com/v1/batches/batch_68556ced3334819091f137bca9db0e19 \"HTTP/1.1 200 OK\"\n"
     ]
    },
    {
     "name": "stdout",
     "output_type": "stream",
     "text": [
      "当前状态：in_progress，等待中…\n"
     ]
    },
    {
     "name": "stderr",
     "output_type": "stream",
     "text": [
      "INFO:httpx:HTTP Request: GET https://api.openai.com/v1/batches/batch_68556ced3334819091f137bca9db0e19 \"HTTP/1.1 200 OK\"\n"
     ]
    },
    {
     "name": "stdout",
     "output_type": "stream",
     "text": [
      "当前状态：in_progress，等待中…\n"
     ]
    },
    {
     "name": "stderr",
     "output_type": "stream",
     "text": [
      "INFO:httpx:HTTP Request: GET https://api.openai.com/v1/batches/batch_68556ced3334819091f137bca9db0e19 \"HTTP/1.1 200 OK\"\n"
     ]
    },
    {
     "name": "stdout",
     "output_type": "stream",
     "text": [
      "当前状态：in_progress，等待中…\n"
     ]
    },
    {
     "name": "stderr",
     "output_type": "stream",
     "text": [
      "INFO:httpx:HTTP Request: GET https://api.openai.com/v1/batches/batch_68556ced3334819091f137bca9db0e19 \"HTTP/1.1 200 OK\"\n"
     ]
    },
    {
     "name": "stdout",
     "output_type": "stream",
     "text": [
      "当前状态：in_progress，等待中…\n"
     ]
    },
    {
     "name": "stderr",
     "output_type": "stream",
     "text": [
      "INFO:httpx:HTTP Request: GET https://api.openai.com/v1/batches/batch_68556ced3334819091f137bca9db0e19 \"HTTP/1.1 200 OK\"\n"
     ]
    },
    {
     "name": "stdout",
     "output_type": "stream",
     "text": [
      "当前状态：in_progress，等待中…\n"
     ]
    },
    {
     "name": "stderr",
     "output_type": "stream",
     "text": [
      "INFO:httpx:HTTP Request: GET https://api.openai.com/v1/batches/batch_68556ced3334819091f137bca9db0e19 \"HTTP/1.1 200 OK\"\n"
     ]
    },
    {
     "name": "stdout",
     "output_type": "stream",
     "text": [
      "当前状态：in_progress，等待中…\n"
     ]
    },
    {
     "name": "stderr",
     "output_type": "stream",
     "text": [
      "INFO:httpx:HTTP Request: GET https://api.openai.com/v1/batches/batch_68556ced3334819091f137bca9db0e19 \"HTTP/1.1 200 OK\"\n"
     ]
    },
    {
     "name": "stdout",
     "output_type": "stream",
     "text": [
      "当前状态：in_progress，等待中…\n"
     ]
    },
    {
     "name": "stderr",
     "output_type": "stream",
     "text": [
      "INFO:httpx:HTTP Request: GET https://api.openai.com/v1/batches/batch_68556ced3334819091f137bca9db0e19 \"HTTP/1.1 200 OK\"\n"
     ]
    },
    {
     "name": "stdout",
     "output_type": "stream",
     "text": [
      "当前状态：in_progress，等待中…\n"
     ]
    },
    {
     "name": "stderr",
     "output_type": "stream",
     "text": [
      "INFO:httpx:HTTP Request: GET https://api.openai.com/v1/batches/batch_68556ced3334819091f137bca9db0e19 \"HTTP/1.1 200 OK\"\n"
     ]
    },
    {
     "name": "stdout",
     "output_type": "stream",
     "text": [
      "当前状态：in_progress，等待中…\n"
     ]
    },
    {
     "name": "stderr",
     "output_type": "stream",
     "text": [
      "INFO:httpx:HTTP Request: GET https://api.openai.com/v1/batches/batch_68556ced3334819091f137bca9db0e19 \"HTTP/1.1 200 OK\"\n"
     ]
    },
    {
     "name": "stdout",
     "output_type": "stream",
     "text": [
      "当前状态：in_progress，等待中…\n"
     ]
    },
    {
     "name": "stderr",
     "output_type": "stream",
     "text": [
      "INFO:httpx:HTTP Request: GET https://api.openai.com/v1/batches/batch_68556ced3334819091f137bca9db0e19 \"HTTP/1.1 200 OK\"\n"
     ]
    },
    {
     "name": "stdout",
     "output_type": "stream",
     "text": [
      "当前状态：in_progress，等待中…\n"
     ]
    },
    {
     "name": "stderr",
     "output_type": "stream",
     "text": [
      "INFO:httpx:HTTP Request: GET https://api.openai.com/v1/batches/batch_68556ced3334819091f137bca9db0e19 \"HTTP/1.1 200 OK\"\n"
     ]
    },
    {
     "name": "stdout",
     "output_type": "stream",
     "text": [
      "当前状态：in_progress，等待中…\n"
     ]
    },
    {
     "name": "stderr",
     "output_type": "stream",
     "text": [
      "INFO:httpx:HTTP Request: GET https://api.openai.com/v1/batches/batch_68556ced3334819091f137bca9db0e19 \"HTTP/1.1 200 OK\"\n"
     ]
    },
    {
     "name": "stdout",
     "output_type": "stream",
     "text": [
      "当前状态：in_progress，等待中…\n"
     ]
    },
    {
     "name": "stderr",
     "output_type": "stream",
     "text": [
      "INFO:httpx:HTTP Request: GET https://api.openai.com/v1/batches/batch_68556ced3334819091f137bca9db0e19 \"HTTP/1.1 200 OK\"\n"
     ]
    },
    {
     "name": "stdout",
     "output_type": "stream",
     "text": [
      "当前状态：in_progress，等待中…\n"
     ]
    },
    {
     "name": "stderr",
     "output_type": "stream",
     "text": [
      "INFO:httpx:HTTP Request: GET https://api.openai.com/v1/batches/batch_68556ced3334819091f137bca9db0e19 \"HTTP/1.1 200 OK\"\n"
     ]
    },
    {
     "name": "stdout",
     "output_type": "stream",
     "text": [
      "当前状态：in_progress，等待中…\n"
     ]
    },
    {
     "name": "stderr",
     "output_type": "stream",
     "text": [
      "INFO:httpx:HTTP Request: GET https://api.openai.com/v1/batches/batch_68556ced3334819091f137bca9db0e19 \"HTTP/1.1 200 OK\"\n"
     ]
    },
    {
     "name": "stdout",
     "output_type": "stream",
     "text": [
      "当前状态：in_progress，等待中…\n"
     ]
    },
    {
     "name": "stderr",
     "output_type": "stream",
     "text": [
      "INFO:httpx:HTTP Request: GET https://api.openai.com/v1/batches/batch_68556ced3334819091f137bca9db0e19 \"HTTP/1.1 200 OK\"\n"
     ]
    },
    {
     "name": "stdout",
     "output_type": "stream",
     "text": [
      "当前状态：in_progress，等待中…\n"
     ]
    },
    {
     "name": "stderr",
     "output_type": "stream",
     "text": [
      "INFO:httpx:HTTP Request: GET https://api.openai.com/v1/batches/batch_68556ced3334819091f137bca9db0e19 \"HTTP/1.1 200 OK\"\n"
     ]
    },
    {
     "name": "stdout",
     "output_type": "stream",
     "text": [
      "当前状态：in_progress，等待中…\n"
     ]
    },
    {
     "name": "stderr",
     "output_type": "stream",
     "text": [
      "INFO:httpx:HTTP Request: GET https://api.openai.com/v1/batches/batch_68556ced3334819091f137bca9db0e19 \"HTTP/1.1 200 OK\"\n"
     ]
    },
    {
     "name": "stdout",
     "output_type": "stream",
     "text": [
      "当前状态：in_progress，等待中…\n"
     ]
    },
    {
     "name": "stderr",
     "output_type": "stream",
     "text": [
      "INFO:httpx:HTTP Request: GET https://api.openai.com/v1/batches/batch_68556ced3334819091f137bca9db0e19 \"HTTP/1.1 200 OK\"\n"
     ]
    },
    {
     "name": "stdout",
     "output_type": "stream",
     "text": [
      "当前状态：in_progress，等待中…\n"
     ]
    },
    {
     "name": "stderr",
     "output_type": "stream",
     "text": [
      "INFO:httpx:HTTP Request: GET https://api.openai.com/v1/batches/batch_68556ced3334819091f137bca9db0e19 \"HTTP/1.1 200 OK\"\n"
     ]
    },
    {
     "name": "stdout",
     "output_type": "stream",
     "text": [
      "当前状态：in_progress，等待中…\n"
     ]
    },
    {
     "name": "stderr",
     "output_type": "stream",
     "text": [
      "INFO:httpx:HTTP Request: GET https://api.openai.com/v1/batches/batch_68556ced3334819091f137bca9db0e19 \"HTTP/1.1 200 OK\"\n"
     ]
    },
    {
     "name": "stdout",
     "output_type": "stream",
     "text": [
      "当前状态：in_progress，等待中…\n"
     ]
    },
    {
     "name": "stderr",
     "output_type": "stream",
     "text": [
      "INFO:httpx:HTTP Request: GET https://api.openai.com/v1/batches/batch_68556ced3334819091f137bca9db0e19 \"HTTP/1.1 200 OK\"\n"
     ]
    },
    {
     "name": "stdout",
     "output_type": "stream",
     "text": [
      "当前状态：in_progress，等待中…\n"
     ]
    },
    {
     "name": "stderr",
     "output_type": "stream",
     "text": [
      "INFO:httpx:HTTP Request: GET https://api.openai.com/v1/batches/batch_68556ced3334819091f137bca9db0e19 \"HTTP/1.1 200 OK\"\n"
     ]
    },
    {
     "name": "stdout",
     "output_type": "stream",
     "text": [
      "当前状态：in_progress，等待中…\n"
     ]
    },
    {
     "name": "stderr",
     "output_type": "stream",
     "text": [
      "INFO:httpx:HTTP Request: GET https://api.openai.com/v1/batches/batch_68556ced3334819091f137bca9db0e19 \"HTTP/1.1 200 OK\"\n"
     ]
    },
    {
     "name": "stdout",
     "output_type": "stream",
     "text": [
      "当前状态：in_progress，等待中…\n"
     ]
    },
    {
     "name": "stderr",
     "output_type": "stream",
     "text": [
      "INFO:httpx:HTTP Request: GET https://api.openai.com/v1/batches/batch_68556ced3334819091f137bca9db0e19 \"HTTP/1.1 200 OK\"\n"
     ]
    },
    {
     "name": "stdout",
     "output_type": "stream",
     "text": [
      "当前状态：in_progress，等待中…\n"
     ]
    },
    {
     "name": "stderr",
     "output_type": "stream",
     "text": [
      "INFO:httpx:HTTP Request: GET https://api.openai.com/v1/batches/batch_68556ced3334819091f137bca9db0e19 \"HTTP/1.1 200 OK\"\n"
     ]
    },
    {
     "name": "stdout",
     "output_type": "stream",
     "text": [
      "当前状态：in_progress，等待中…\n"
     ]
    },
    {
     "name": "stderr",
     "output_type": "stream",
     "text": [
      "INFO:httpx:HTTP Request: GET https://api.openai.com/v1/batches/batch_68556ced3334819091f137bca9db0e19 \"HTTP/1.1 200 OK\"\n"
     ]
    },
    {
     "name": "stdout",
     "output_type": "stream",
     "text": [
      "当前状态：in_progress，等待中…\n"
     ]
    },
    {
     "name": "stderr",
     "output_type": "stream",
     "text": [
      "INFO:httpx:HTTP Request: GET https://api.openai.com/v1/batches/batch_68556ced3334819091f137bca9db0e19 \"HTTP/1.1 200 OK\"\n"
     ]
    },
    {
     "name": "stdout",
     "output_type": "stream",
     "text": [
      "当前状态：in_progress，等待中…\n"
     ]
    },
    {
     "name": "stderr",
     "output_type": "stream",
     "text": [
      "INFO:httpx:HTTP Request: GET https://api.openai.com/v1/batches/batch_68556ced3334819091f137bca9db0e19 \"HTTP/1.1 200 OK\"\n"
     ]
    },
    {
     "name": "stdout",
     "output_type": "stream",
     "text": [
      "当前状态：in_progress，等待中…\n"
     ]
    },
    {
     "name": "stderr",
     "output_type": "stream",
     "text": [
      "INFO:httpx:HTTP Request: GET https://api.openai.com/v1/batches/batch_68556ced3334819091f137bca9db0e19 \"HTTP/1.1 200 OK\"\n"
     ]
    },
    {
     "name": "stdout",
     "output_type": "stream",
     "text": [
      "当前状态：in_progress，等待中…\n"
     ]
    },
    {
     "name": "stderr",
     "output_type": "stream",
     "text": [
      "INFO:httpx:HTTP Request: GET https://api.openai.com/v1/batches/batch_68556ced3334819091f137bca9db0e19 \"HTTP/1.1 200 OK\"\n"
     ]
    },
    {
     "name": "stdout",
     "output_type": "stream",
     "text": [
      "当前状态：in_progress，等待中…\n"
     ]
    },
    {
     "name": "stderr",
     "output_type": "stream",
     "text": [
      "INFO:httpx:HTTP Request: GET https://api.openai.com/v1/batches/batch_68556ced3334819091f137bca9db0e19 \"HTTP/1.1 200 OK\"\n"
     ]
    },
    {
     "name": "stdout",
     "output_type": "stream",
     "text": [
      "当前状态：in_progress，等待中…\n"
     ]
    },
    {
     "name": "stderr",
     "output_type": "stream",
     "text": [
      "INFO:httpx:HTTP Request: GET https://api.openai.com/v1/batches/batch_68556ced3334819091f137bca9db0e19 \"HTTP/1.1 200 OK\"\n"
     ]
    },
    {
     "name": "stdout",
     "output_type": "stream",
     "text": [
      "当前状态：in_progress，等待中…\n"
     ]
    },
    {
     "name": "stderr",
     "output_type": "stream",
     "text": [
      "INFO:httpx:HTTP Request: GET https://api.openai.com/v1/batches/batch_68556ced3334819091f137bca9db0e19 \"HTTP/1.1 200 OK\"\n"
     ]
    },
    {
     "name": "stdout",
     "output_type": "stream",
     "text": [
      "当前状态：in_progress，等待中…\n"
     ]
    },
    {
     "name": "stderr",
     "output_type": "stream",
     "text": [
      "INFO:httpx:HTTP Request: GET https://api.openai.com/v1/batches/batch_68556ced3334819091f137bca9db0e19 \"HTTP/1.1 200 OK\"\n"
     ]
    },
    {
     "name": "stdout",
     "output_type": "stream",
     "text": [
      "当前状态：in_progress，等待中…\n"
     ]
    },
    {
     "name": "stderr",
     "output_type": "stream",
     "text": [
      "INFO:httpx:HTTP Request: GET https://api.openai.com/v1/batches/batch_68556ced3334819091f137bca9db0e19 \"HTTP/1.1 200 OK\"\n"
     ]
    },
    {
     "name": "stdout",
     "output_type": "stream",
     "text": [
      "当前状态：in_progress，等待中…\n"
     ]
    },
    {
     "name": "stderr",
     "output_type": "stream",
     "text": [
      "INFO:httpx:HTTP Request: GET https://api.openai.com/v1/batches/batch_68556ced3334819091f137bca9db0e19 \"HTTP/1.1 200 OK\"\n"
     ]
    },
    {
     "name": "stdout",
     "output_type": "stream",
     "text": [
      "当前状态：in_progress，等待中…\n"
     ]
    },
    {
     "name": "stderr",
     "output_type": "stream",
     "text": [
      "INFO:httpx:HTTP Request: GET https://api.openai.com/v1/batches/batch_68556ced3334819091f137bca9db0e19 \"HTTP/1.1 200 OK\"\n"
     ]
    },
    {
     "name": "stdout",
     "output_type": "stream",
     "text": [
      "当前状态：in_progress，等待中…\n"
     ]
    },
    {
     "name": "stderr",
     "output_type": "stream",
     "text": [
      "INFO:httpx:HTTP Request: GET https://api.openai.com/v1/batches/batch_68556ced3334819091f137bca9db0e19 \"HTTP/1.1 200 OK\"\n"
     ]
    },
    {
     "name": "stdout",
     "output_type": "stream",
     "text": [
      "当前状态：in_progress，等待中…\n"
     ]
    },
    {
     "name": "stderr",
     "output_type": "stream",
     "text": [
      "INFO:httpx:HTTP Request: GET https://api.openai.com/v1/batches/batch_68556ced3334819091f137bca9db0e19 \"HTTP/1.1 200 OK\"\n"
     ]
    },
    {
     "name": "stdout",
     "output_type": "stream",
     "text": [
      "当前状态：in_progress，等待中…\n"
     ]
    },
    {
     "name": "stderr",
     "output_type": "stream",
     "text": [
      "INFO:httpx:HTTP Request: GET https://api.openai.com/v1/batches/batch_68556ced3334819091f137bca9db0e19 \"HTTP/1.1 200 OK\"\n"
     ]
    },
    {
     "name": "stdout",
     "output_type": "stream",
     "text": [
      "当前状态：in_progress，等待中…\n"
     ]
    },
    {
     "name": "stderr",
     "output_type": "stream",
     "text": [
      "INFO:httpx:HTTP Request: GET https://api.openai.com/v1/batches/batch_68556ced3334819091f137bca9db0e19 \"HTTP/1.1 200 OK\"\n"
     ]
    },
    {
     "name": "stdout",
     "output_type": "stream",
     "text": [
      "当前状态：in_progress，等待中…\n"
     ]
    },
    {
     "name": "stderr",
     "output_type": "stream",
     "text": [
      "INFO:httpx:HTTP Request: GET https://api.openai.com/v1/batches/batch_68556ced3334819091f137bca9db0e19 \"HTTP/1.1 200 OK\"\n"
     ]
    },
    {
     "name": "stdout",
     "output_type": "stream",
     "text": [
      "当前状态：in_progress，等待中…\n"
     ]
    },
    {
     "name": "stderr",
     "output_type": "stream",
     "text": [
      "INFO:httpx:HTTP Request: GET https://api.openai.com/v1/batches/batch_68556ced3334819091f137bca9db0e19 \"HTTP/1.1 200 OK\"\n"
     ]
    },
    {
     "name": "stdout",
     "output_type": "stream",
     "text": [
      "当前状态：in_progress，等待中…\n"
     ]
    },
    {
     "name": "stderr",
     "output_type": "stream",
     "text": [
      "INFO:httpx:HTTP Request: GET https://api.openai.com/v1/batches/batch_68556ced3334819091f137bca9db0e19 \"HTTP/1.1 200 OK\"\n"
     ]
    },
    {
     "name": "stdout",
     "output_type": "stream",
     "text": [
      "当前状态：in_progress，等待中…\n"
     ]
    },
    {
     "name": "stderr",
     "output_type": "stream",
     "text": [
      "INFO:httpx:HTTP Request: GET https://api.openai.com/v1/batches/batch_68556ced3334819091f137bca9db0e19 \"HTTP/1.1 200 OK\"\n"
     ]
    },
    {
     "name": "stdout",
     "output_type": "stream",
     "text": [
      "当前状态：in_progress，等待中…\n"
     ]
    },
    {
     "name": "stderr",
     "output_type": "stream",
     "text": [
      "INFO:httpx:HTTP Request: GET https://api.openai.com/v1/batches/batch_68556ced3334819091f137bca9db0e19 \"HTTP/1.1 200 OK\"\n"
     ]
    },
    {
     "name": "stdout",
     "output_type": "stream",
     "text": [
      "当前状态：in_progress，等待中…\n"
     ]
    },
    {
     "name": "stderr",
     "output_type": "stream",
     "text": [
      "INFO:httpx:HTTP Request: GET https://api.openai.com/v1/batches/batch_68556ced3334819091f137bca9db0e19 \"HTTP/1.1 200 OK\"\n"
     ]
    },
    {
     "name": "stdout",
     "output_type": "stream",
     "text": [
      "当前状态：in_progress，等待中…\n"
     ]
    },
    {
     "name": "stderr",
     "output_type": "stream",
     "text": [
      "INFO:httpx:HTTP Request: GET https://api.openai.com/v1/batches/batch_68556ced3334819091f137bca9db0e19 \"HTTP/1.1 200 OK\"\n"
     ]
    },
    {
     "name": "stdout",
     "output_type": "stream",
     "text": [
      "当前状态：in_progress，等待中…\n"
     ]
    },
    {
     "name": "stderr",
     "output_type": "stream",
     "text": [
      "INFO:httpx:HTTP Request: GET https://api.openai.com/v1/batches/batch_68556ced3334819091f137bca9db0e19 \"HTTP/1.1 200 OK\"\n"
     ]
    },
    {
     "name": "stdout",
     "output_type": "stream",
     "text": [
      "当前状态：in_progress，等待中…\n"
     ]
    },
    {
     "name": "stderr",
     "output_type": "stream",
     "text": [
      "INFO:httpx:HTTP Request: GET https://api.openai.com/v1/batches/batch_68556ced3334819091f137bca9db0e19 \"HTTP/1.1 200 OK\"\n"
     ]
    },
    {
     "name": "stdout",
     "output_type": "stream",
     "text": [
      "当前状态：in_progress，等待中…\n"
     ]
    },
    {
     "name": "stderr",
     "output_type": "stream",
     "text": [
      "INFO:httpx:HTTP Request: GET https://api.openai.com/v1/batches/batch_68556ced3334819091f137bca9db0e19 \"HTTP/1.1 200 OK\"\n"
     ]
    },
    {
     "name": "stdout",
     "output_type": "stream",
     "text": [
      "当前状态：in_progress，等待中…\n"
     ]
    },
    {
     "name": "stderr",
     "output_type": "stream",
     "text": [
      "INFO:httpx:HTTP Request: GET https://api.openai.com/v1/batches/batch_68556ced3334819091f137bca9db0e19 \"HTTP/1.1 200 OK\"\n"
     ]
    },
    {
     "name": "stdout",
     "output_type": "stream",
     "text": [
      "当前状态：in_progress，等待中…\n"
     ]
    },
    {
     "name": "stderr",
     "output_type": "stream",
     "text": [
      "INFO:httpx:HTTP Request: GET https://api.openai.com/v1/batches/batch_68556ced3334819091f137bca9db0e19 \"HTTP/1.1 200 OK\"\n"
     ]
    },
    {
     "name": "stdout",
     "output_type": "stream",
     "text": [
      "当前状态：in_progress，等待中…\n"
     ]
    },
    {
     "name": "stderr",
     "output_type": "stream",
     "text": [
      "INFO:httpx:HTTP Request: GET https://api.openai.com/v1/batches/batch_68556ced3334819091f137bca9db0e19 \"HTTP/1.1 200 OK\"\n"
     ]
    },
    {
     "name": "stdout",
     "output_type": "stream",
     "text": [
      "当前状态：in_progress，等待中…\n"
     ]
    },
    {
     "name": "stderr",
     "output_type": "stream",
     "text": [
      "INFO:httpx:HTTP Request: GET https://api.openai.com/v1/batches/batch_68556ced3334819091f137bca9db0e19 \"HTTP/1.1 200 OK\"\n"
     ]
    },
    {
     "name": "stdout",
     "output_type": "stream",
     "text": [
      "当前状态：in_progress，等待中…\n"
     ]
    },
    {
     "name": "stderr",
     "output_type": "stream",
     "text": [
      "INFO:httpx:HTTP Request: GET https://api.openai.com/v1/batches/batch_68556ced3334819091f137bca9db0e19 \"HTTP/1.1 200 OK\"\n"
     ]
    },
    {
     "name": "stdout",
     "output_type": "stream",
     "text": [
      "当前状态：in_progress，等待中…\n"
     ]
    },
    {
     "name": "stderr",
     "output_type": "stream",
     "text": [
      "INFO:httpx:HTTP Request: GET https://api.openai.com/v1/batches/batch_68556ced3334819091f137bca9db0e19 \"HTTP/1.1 200 OK\"\n"
     ]
    },
    {
     "name": "stdout",
     "output_type": "stream",
     "text": [
      "当前状态：in_progress，等待中…\n"
     ]
    },
    {
     "name": "stderr",
     "output_type": "stream",
     "text": [
      "INFO:httpx:HTTP Request: GET https://api.openai.com/v1/batches/batch_68556ced3334819091f137bca9db0e19 \"HTTP/1.1 200 OK\"\n"
     ]
    },
    {
     "name": "stdout",
     "output_type": "stream",
     "text": [
      "当前状态：in_progress，等待中…\n"
     ]
    },
    {
     "name": "stderr",
     "output_type": "stream",
     "text": [
      "INFO:httpx:HTTP Request: GET https://api.openai.com/v1/batches/batch_68556ced3334819091f137bca9db0e19 \"HTTP/1.1 200 OK\"\n"
     ]
    },
    {
     "name": "stdout",
     "output_type": "stream",
     "text": [
      "当前状态：in_progress，等待中…\n"
     ]
    },
    {
     "name": "stderr",
     "output_type": "stream",
     "text": [
      "INFO:httpx:HTTP Request: GET https://api.openai.com/v1/batches/batch_68556ced3334819091f137bca9db0e19 \"HTTP/1.1 200 OK\"\n"
     ]
    },
    {
     "name": "stdout",
     "output_type": "stream",
     "text": [
      "当前状态：in_progress，等待中…\n"
     ]
    },
    {
     "name": "stderr",
     "output_type": "stream",
     "text": [
      "INFO:httpx:HTTP Request: GET https://api.openai.com/v1/batches/batch_68556ced3334819091f137bca9db0e19 \"HTTP/1.1 200 OK\"\n"
     ]
    },
    {
     "name": "stdout",
     "output_type": "stream",
     "text": [
      "当前状态：in_progress，等待中…\n"
     ]
    },
    {
     "name": "stderr",
     "output_type": "stream",
     "text": [
      "INFO:httpx:HTTP Request: GET https://api.openai.com/v1/batches/batch_68556ced3334819091f137bca9db0e19 \"HTTP/1.1 200 OK\"\n"
     ]
    },
    {
     "name": "stdout",
     "output_type": "stream",
     "text": [
      "当前状态：in_progress，等待中…\n"
     ]
    },
    {
     "name": "stderr",
     "output_type": "stream",
     "text": [
      "INFO:httpx:HTTP Request: GET https://api.openai.com/v1/batches/batch_68556ced3334819091f137bca9db0e19 \"HTTP/1.1 200 OK\"\n"
     ]
    },
    {
     "name": "stdout",
     "output_type": "stream",
     "text": [
      "当前状态：in_progress，等待中…\n"
     ]
    },
    {
     "name": "stderr",
     "output_type": "stream",
     "text": [
      "INFO:httpx:HTTP Request: GET https://api.openai.com/v1/batches/batch_68556ced3334819091f137bca9db0e19 \"HTTP/1.1 200 OK\"\n"
     ]
    },
    {
     "name": "stdout",
     "output_type": "stream",
     "text": [
      "当前状态：in_progress，等待中…\n"
     ]
    },
    {
     "name": "stderr",
     "output_type": "stream",
     "text": [
      "INFO:httpx:HTTP Request: GET https://api.openai.com/v1/batches/batch_68556ced3334819091f137bca9db0e19 \"HTTP/1.1 200 OK\"\n"
     ]
    },
    {
     "name": "stdout",
     "output_type": "stream",
     "text": [
      "当前状态：in_progress，等待中…\n"
     ]
    },
    {
     "name": "stderr",
     "output_type": "stream",
     "text": [
      "INFO:httpx:HTTP Request: GET https://api.openai.com/v1/batches/batch_68556ced3334819091f137bca9db0e19 \"HTTP/1.1 200 OK\"\n"
     ]
    },
    {
     "name": "stdout",
     "output_type": "stream",
     "text": [
      "当前状态：in_progress，等待中…\n"
     ]
    },
    {
     "name": "stderr",
     "output_type": "stream",
     "text": [
      "INFO:httpx:HTTP Request: GET https://api.openai.com/v1/batches/batch_68556ced3334819091f137bca9db0e19 \"HTTP/1.1 200 OK\"\n"
     ]
    },
    {
     "name": "stdout",
     "output_type": "stream",
     "text": [
      "当前状态：in_progress，等待中…\n"
     ]
    },
    {
     "name": "stderr",
     "output_type": "stream",
     "text": [
      "INFO:httpx:HTTP Request: GET https://api.openai.com/v1/batches/batch_68556ced3334819091f137bca9db0e19 \"HTTP/1.1 200 OK\"\n"
     ]
    },
    {
     "name": "stdout",
     "output_type": "stream",
     "text": [
      "当前状态：in_progress，等待中…\n"
     ]
    },
    {
     "name": "stderr",
     "output_type": "stream",
     "text": [
      "INFO:httpx:HTTP Request: GET https://api.openai.com/v1/batches/batch_68556ced3334819091f137bca9db0e19 \"HTTP/1.1 200 OK\"\n"
     ]
    },
    {
     "name": "stdout",
     "output_type": "stream",
     "text": [
      "当前状态：in_progress，等待中…\n"
     ]
    },
    {
     "name": "stderr",
     "output_type": "stream",
     "text": [
      "INFO:httpx:HTTP Request: GET https://api.openai.com/v1/batches/batch_68556ced3334819091f137bca9db0e19 \"HTTP/1.1 200 OK\"\n"
     ]
    },
    {
     "name": "stdout",
     "output_type": "stream",
     "text": [
      "当前状态：in_progress，等待中…\n"
     ]
    },
    {
     "name": "stderr",
     "output_type": "stream",
     "text": [
      "INFO:httpx:HTTP Request: GET https://api.openai.com/v1/batches/batch_68556ced3334819091f137bca9db0e19 \"HTTP/1.1 200 OK\"\n"
     ]
    },
    {
     "name": "stdout",
     "output_type": "stream",
     "text": [
      "当前状态：in_progress，等待中…\n"
     ]
    },
    {
     "name": "stderr",
     "output_type": "stream",
     "text": [
      "INFO:httpx:HTTP Request: GET https://api.openai.com/v1/batches/batch_68556ced3334819091f137bca9db0e19 \"HTTP/1.1 200 OK\"\n"
     ]
    },
    {
     "name": "stdout",
     "output_type": "stream",
     "text": [
      "当前状态：in_progress，等待中…\n"
     ]
    },
    {
     "name": "stderr",
     "output_type": "stream",
     "text": [
      "INFO:httpx:HTTP Request: GET https://api.openai.com/v1/batches/batch_68556ced3334819091f137bca9db0e19 \"HTTP/1.1 200 OK\"\n"
     ]
    },
    {
     "name": "stdout",
     "output_type": "stream",
     "text": [
      "当前状态：in_progress，等待中…\n"
     ]
    },
    {
     "name": "stderr",
     "output_type": "stream",
     "text": [
      "INFO:httpx:HTTP Request: GET https://api.openai.com/v1/batches/batch_68556ced3334819091f137bca9db0e19 \"HTTP/1.1 200 OK\"\n"
     ]
    },
    {
     "name": "stdout",
     "output_type": "stream",
     "text": [
      "当前状态：finalizing，等待中…\n"
     ]
    },
    {
     "name": "stderr",
     "output_type": "stream",
     "text": [
      "INFO:httpx:HTTP Request: GET https://api.openai.com/v1/batches/batch_68556ced3334819091f137bca9db0e19 \"HTTP/1.1 200 OK\"\n"
     ]
    },
    {
     "name": "stdout",
     "output_type": "stream",
     "text": [
      "处理完成，结果保存在output/batch_results_300_2.jsonl\n",
      "Batch batch_68556ced3334819091f137bca9db0e19 status: completed\n"
     ]
    },
    {
     "name": "stderr",
     "output_type": "stream",
     "text": [
      "INFO:httpx:HTTP Request: GET https://api.openai.com/v1/batches/batch_68556d818e008190a656c0ee629c5f67 \"HTTP/1.1 200 OK\"\n"
     ]
    },
    {
     "name": "stdout",
     "output_type": "stream",
     "text": [
      "处理完成，结果保存在output/batch_results_311_1.jsonl\n",
      "Batch batch_68556d818e008190a656c0ee629c5f67 status: completed\n"
     ]
    },
    {
     "name": "stderr",
     "output_type": "stream",
     "text": [
      "INFO:httpx:HTTP Request: GET https://api.openai.com/v1/batches/batch_68556d91e7888190a99ae107653021a8 \"HTTP/1.1 200 OK\"\n"
     ]
    },
    {
     "name": "stdout",
     "output_type": "stream",
     "text": [
      "处理完成，结果保存在output/batch_results_311_2.jsonl\n",
      "Batch batch_68556d91e7888190a99ae107653021a8 status: completed\n"
     ]
    },
    {
     "name": "stderr",
     "output_type": "stream",
     "text": [
      "INFO:httpx:HTTP Request: GET https://api.openai.com/v1/batches/batch_68556da95058819097c99ff1d7ec7c2b \"HTTP/1.1 200 OK\"\n"
     ]
    },
    {
     "name": "stdout",
     "output_type": "stream",
     "text": [
      "处理完成，结果保存在output/batch_results_397_1.jsonl\n",
      "Batch batch_68556da95058819097c99ff1d7ec7c2b status: completed\n"
     ]
    },
    {
     "name": "stderr",
     "output_type": "stream",
     "text": [
      "INFO:httpx:HTTP Request: GET https://api.openai.com/v1/batches/batch_68556db82fdc819096e2c16b06e17c23 \"HTTP/1.1 200 OK\"\n"
     ]
    },
    {
     "name": "stdout",
     "output_type": "stream",
     "text": [
      "处理完成，结果保存在output/batch_results_397_2.jsonl\n",
      "Batch batch_68556db82fdc819096e2c16b06e17c23 status: completed\n"
     ]
    }
   ],
   "source": [
    "for it, jobs in tmp_jobs.items():\n",
    "    cnt = 0\n",
    "    for job in jobs:\n",
    "        cnt += 1\n",
    "        batch_id = job.id\n",
    "        results_file = f\"output/batch_results_{it}_{cnt}.jsonl\"\n",
    "        status = evaluator.query_results(batch_id, results_file=results_file)\n",
    "        print(f\"Batch {batch_id} status: {status.status}\")"
   ]
  },
  {
   "cell_type": "code",
   "execution_count": 5,
   "metadata": {},
   "outputs": [],
   "source": [
    "with open(\"output/batch_jobs.json\", \"r\") as f:\n",
    "    jobs = json.load(f)"
   ]
  },
  {
   "cell_type": "code",
   "execution_count": 6,
   "metadata": {},
   "outputs": [
    {
     "data": {
      "text/plain": [
       "{'id': 'batch_6855217a8a688190ad81bc0156174fe4',\n",
       " 'input_file_id': 'file-MLM1Xrafi6o2hPncrxp2GD'}"
      ]
     },
     "execution_count": 6,
     "metadata": {},
     "output_type": "execute_result"
    }
   ],
   "source": [
    "jobs[0]"
   ]
  },
  {
   "cell_type": "code",
   "execution_count": null,
   "metadata": {},
   "outputs": [],
   "source": [
    "status = evaluator.query_results(\"batch_6855217a8a688190ad81bc0156174fe4\")"
   ]
  },
  {
   "cell_type": "code",
   "execution_count": null,
   "metadata": {},
   "outputs": [],
   "source": [
    "for k, v in status.to_dict().items():\n",
    "    print(f\"{k}: {v}\")"
   ]
  },
  {
   "cell_type": "code",
   "execution_count": 7,
   "metadata": {},
   "outputs": [
    {
     "name": "stderr",
     "output_type": "stream",
     "text": [
      "  0%|          | 0/443 [00:00<?, ?it/s]INFO:httpx:HTTP Request: GET https://api.openai.com/v1/batches/batch_6855217a8a688190ad81bc0156174fe4 \"HTTP/1.1 200 OK\"\n",
      "  0%|          | 1/443 [00:02<16:04,  2.18s/it]"
     ]
    },
    {
     "name": "stdout",
     "output_type": "stream",
     "text": [
      "处理完成，结果保存在output/batch_results_1.jsonl\n"
     ]
    },
    {
     "name": "stderr",
     "output_type": "stream",
     "text": [
      "INFO:httpx:HTTP Request: GET https://api.openai.com/v1/batches/batch_685526e43b248190bd378bf2906c7ad0 \"HTTP/1.1 200 OK\"\n",
      "  0%|          | 2/443 [00:03<10:44,  1.46s/it]"
     ]
    },
    {
     "name": "stdout",
     "output_type": "stream",
     "text": [
      "处理完成，结果保存在output/batch_results_2.jsonl\n"
     ]
    },
    {
     "name": "stderr",
     "output_type": "stream",
     "text": [
      "INFO:httpx:HTTP Request: GET https://api.openai.com/v1/batches/batch_685526f80e7881908cbd31cef118c964 \"HTTP/1.1 200 OK\"\n",
      "  1%|          | 3/443 [00:03<08:37,  1.18s/it]"
     ]
    },
    {
     "name": "stdout",
     "output_type": "stream",
     "text": [
      "处理完成，结果保存在output/batch_results_3.jsonl\n"
     ]
    },
    {
     "name": "stderr",
     "output_type": "stream",
     "text": [
      "INFO:httpx:HTTP Request: GET https://api.openai.com/v1/batches/batch_685526fd4a708190992b998ae87d4517 \"HTTP/1.1 200 OK\"\n",
      "  1%|          | 4/443 [00:05<08:29,  1.16s/it]"
     ]
    },
    {
     "name": "stdout",
     "output_type": "stream",
     "text": [
      "处理完成，结果保存在output/batch_results_4.jsonl\n"
     ]
    },
    {
     "name": "stderr",
     "output_type": "stream",
     "text": [
      "INFO:httpx:HTTP Request: GET https://api.openai.com/v1/batches/batch_6855270b54288190a0ebb0f1f90e549d \"HTTP/1.1 200 OK\"\n",
      "  1%|          | 5/443 [00:06<08:49,  1.21s/it]"
     ]
    },
    {
     "name": "stdout",
     "output_type": "stream",
     "text": [
      "处理完成，结果保存在output/batch_results_5.jsonl\n"
     ]
    },
    {
     "name": "stderr",
     "output_type": "stream",
     "text": [
      "INFO:httpx:HTTP Request: GET https://api.openai.com/v1/batches/batch_68552719bb2481909b1ae680f4bb53eb \"HTTP/1.1 200 OK\"\n",
      "  1%|▏         | 6/443 [00:07<08:08,  1.12s/it]"
     ]
    },
    {
     "name": "stdout",
     "output_type": "stream",
     "text": [
      "处理完成，结果保存在output/batch_results_6.jsonl\n"
     ]
    },
    {
     "name": "stderr",
     "output_type": "stream",
     "text": [
      "INFO:httpx:HTTP Request: GET https://api.openai.com/v1/batches/batch_68552722db9081909c6635bd1d3726fa \"HTTP/1.1 200 OK\"\n",
      "  2%|▏         | 7/443 [00:08<08:19,  1.15s/it]"
     ]
    },
    {
     "name": "stdout",
     "output_type": "stream",
     "text": [
      "处理完成，结果保存在output/batch_results_7.jsonl\n"
     ]
    },
    {
     "name": "stderr",
     "output_type": "stream",
     "text": [
      "INFO:httpx:HTTP Request: GET https://api.openai.com/v1/batches/batch_685527331f808190b433ee5279107ad6 \"HTTP/1.1 200 OK\"\n",
      "  2%|▏         | 8/443 [00:09<07:34,  1.05s/it]"
     ]
    },
    {
     "name": "stdout",
     "output_type": "stream",
     "text": [
      "处理完成，结果保存在output/batch_results_8.jsonl\n"
     ]
    },
    {
     "name": "stderr",
     "output_type": "stream",
     "text": [
      "INFO:httpx:HTTP Request: GET https://api.openai.com/v1/batches/batch_6855273b9e888190994e5ecf89600ff4 \"HTTP/1.1 200 OK\"\n",
      "  2%|▏         | 9/443 [00:10<07:17,  1.01s/it]"
     ]
    },
    {
     "name": "stdout",
     "output_type": "stream",
     "text": [
      "处理完成，结果保存在output/batch_results_9.jsonl\n"
     ]
    },
    {
     "name": "stderr",
     "output_type": "stream",
     "text": [
      "INFO:httpx:HTTP Request: GET https://api.openai.com/v1/batches/batch_6855274bdfc48190b74904e462721e2f \"HTTP/1.1 200 OK\"\n",
      "  2%|▏         | 10/443 [00:11<06:53,  1.05it/s]"
     ]
    },
    {
     "name": "stdout",
     "output_type": "stream",
     "text": [
      "处理完成，结果保存在output/batch_results_10.jsonl\n"
     ]
    },
    {
     "name": "stderr",
     "output_type": "stream",
     "text": [
      "INFO:httpx:HTTP Request: GET https://api.openai.com/v1/batches/batch_6855275b1de481908396dc1707bd838b \"HTTP/1.1 200 OK\"\n",
      "  2%|▏         | 11/443 [00:12<07:29,  1.04s/it]"
     ]
    },
    {
     "name": "stdout",
     "output_type": "stream",
     "text": [
      "处理完成，结果保存在output/batch_results_11.jsonl\n"
     ]
    },
    {
     "name": "stderr",
     "output_type": "stream",
     "text": [
      "INFO:httpx:HTTP Request: GET https://api.openai.com/v1/batches/batch_685527720bec8190b4df7e0cacdb077f \"HTTP/1.1 200 OK\"\n",
      "  3%|▎         | 12/443 [00:13<07:06,  1.01it/s]"
     ]
    },
    {
     "name": "stdout",
     "output_type": "stream",
     "text": [
      "处理完成，结果保存在output/batch_results_12.jsonl\n"
     ]
    },
    {
     "name": "stderr",
     "output_type": "stream",
     "text": [
      "INFO:httpx:HTTP Request: GET https://api.openai.com/v1/batches/batch_685527848d208190a05671c97a0ad0d8 \"HTTP/1.1 200 OK\"\n",
      "  3%|▎         | 13/443 [00:14<07:25,  1.03s/it]"
     ]
    },
    {
     "name": "stdout",
     "output_type": "stream",
     "text": [
      "处理完成，结果保存在output/batch_results_13.jsonl\n"
     ]
    },
    {
     "name": "stderr",
     "output_type": "stream",
     "text": [
      "INFO:httpx:HTTP Request: GET https://api.openai.com/v1/batches/batch_68552796dea48190826d909d07cbb7b8 \"HTTP/1.1 200 OK\"\n",
      "  3%|▎         | 14/443 [00:15<07:55,  1.11s/it]"
     ]
    },
    {
     "name": "stdout",
     "output_type": "stream",
     "text": [
      "处理完成，结果保存在output/batch_results_14.jsonl\n"
     ]
    },
    {
     "name": "stderr",
     "output_type": "stream",
     "text": [
      "INFO:httpx:HTTP Request: GET https://api.openai.com/v1/batches/batch_685527a12a4081908ec983357c830e9f \"HTTP/1.1 200 OK\"\n",
      "  3%|▎         | 15/443 [00:16<07:57,  1.12s/it]"
     ]
    },
    {
     "name": "stdout",
     "output_type": "stream",
     "text": [
      "处理完成，结果保存在output/batch_results_15.jsonl\n"
     ]
    },
    {
     "name": "stderr",
     "output_type": "stream",
     "text": [
      "INFO:httpx:HTTP Request: GET https://api.openai.com/v1/batches/batch_685527a998388190ba4e3a107a25d666 \"HTTP/1.1 200 OK\"\n",
      "  4%|▎         | 16/443 [00:17<07:28,  1.05s/it]"
     ]
    },
    {
     "name": "stdout",
     "output_type": "stream",
     "text": [
      "处理完成，结果保存在output/batch_results_16.jsonl\n"
     ]
    },
    {
     "name": "stderr",
     "output_type": "stream",
     "text": [
      "INFO:httpx:HTTP Request: GET https://api.openai.com/v1/batches/batch_685527bf1dbc8190a779589500296dc1 \"HTTP/1.1 200 OK\"\n",
      "  4%|▍         | 17/443 [00:18<07:42,  1.09s/it]"
     ]
    },
    {
     "name": "stdout",
     "output_type": "stream",
     "text": [
      "处理完成，结果保存在output/batch_results_17.jsonl\n"
     ]
    },
    {
     "name": "stderr",
     "output_type": "stream",
     "text": [
      "INFO:httpx:HTTP Request: GET https://api.openai.com/v1/batches/batch_685527df7e9881909567fd758e77fe52 \"HTTP/1.1 200 OK\"\n",
      "  4%|▍         | 18/443 [00:19<07:43,  1.09s/it]"
     ]
    },
    {
     "name": "stdout",
     "output_type": "stream",
     "text": [
      "处理完成，结果保存在output/batch_results_18.jsonl\n"
     ]
    },
    {
     "name": "stderr",
     "output_type": "stream",
     "text": [
      "INFO:httpx:HTTP Request: GET https://api.openai.com/v1/batches/batch_685527f50ee8819097e439375cd626a6 \"HTTP/1.1 200 OK\"\n",
      "  4%|▍         | 19/443 [00:21<08:18,  1.18s/it]"
     ]
    },
    {
     "name": "stdout",
     "output_type": "stream",
     "text": [
      "处理完成，结果保存在output/batch_results_19.jsonl\n"
     ]
    },
    {
     "name": "stderr",
     "output_type": "stream",
     "text": [
      "INFO:httpx:HTTP Request: GET https://api.openai.com/v1/batches/batch_685527f98ebc8190b698370cd0d54b33 \"HTTP/1.1 200 OK\"\n",
      "  5%|▍         | 20/443 [00:22<07:36,  1.08s/it]"
     ]
    },
    {
     "name": "stdout",
     "output_type": "stream",
     "text": [
      "处理完成，结果保存在output/batch_results_20.jsonl\n"
     ]
    },
    {
     "name": "stderr",
     "output_type": "stream",
     "text": [
      "INFO:httpx:HTTP Request: GET https://api.openai.com/v1/batches/batch_6855280e0e0c8190b6b8a166bce4b2bb \"HTTP/1.1 200 OK\"\n",
      "  5%|▍         | 21/443 [00:23<07:40,  1.09s/it]"
     ]
    },
    {
     "name": "stdout",
     "output_type": "stream",
     "text": [
      "处理完成，结果保存在output/batch_results_21.jsonl\n"
     ]
    },
    {
     "name": "stderr",
     "output_type": "stream",
     "text": [
      "INFO:httpx:HTTP Request: GET https://api.openai.com/v1/batches/batch_6855281b40008190944fe6cee42bf9fa \"HTTP/1.1 200 OK\"\n",
      "  5%|▍         | 22/443 [00:24<07:41,  1.10s/it]"
     ]
    },
    {
     "name": "stdout",
     "output_type": "stream",
     "text": [
      "处理完成，结果保存在output/batch_results_22.jsonl\n"
     ]
    },
    {
     "name": "stderr",
     "output_type": "stream",
     "text": [
      "INFO:httpx:HTTP Request: GET https://api.openai.com/v1/batches/batch_6855282340cc81908a1f2e48f37026a6 \"HTTP/1.1 200 OK\"\n",
      "  5%|▌         | 23/443 [00:25<07:18,  1.04s/it]"
     ]
    },
    {
     "name": "stdout",
     "output_type": "stream",
     "text": [
      "处理完成，结果保存在output/batch_results_23.jsonl\n"
     ]
    },
    {
     "name": "stderr",
     "output_type": "stream",
     "text": [
      "INFO:httpx:HTTP Request: GET https://api.openai.com/v1/batches/batch_6855283fe9e08190816483b97ec2df24 \"HTTP/1.1 200 OK\"\n",
      "  5%|▌         | 24/443 [00:26<07:03,  1.01s/it]"
     ]
    },
    {
     "name": "stdout",
     "output_type": "stream",
     "text": [
      "处理完成，结果保存在output/batch_results_24.jsonl\n"
     ]
    },
    {
     "name": "stderr",
     "output_type": "stream",
     "text": [
      "INFO:httpx:HTTP Request: GET https://api.openai.com/v1/batches/batch_6855284ef8dc8190bf64a9f104b47a83 \"HTTP/1.1 200 OK\"\n",
      "  6%|▌         | 25/443 [00:27<06:37,  1.05it/s]"
     ]
    },
    {
     "name": "stdout",
     "output_type": "stream",
     "text": [
      "处理完成，结果保存在output/batch_results_25.jsonl\n"
     ]
    },
    {
     "name": "stderr",
     "output_type": "stream",
     "text": [
      "INFO:httpx:HTTP Request: GET https://api.openai.com/v1/batches/batch_6855285b23b48190950b9c5b8ed89db6 \"HTTP/1.1 200 OK\"\n",
      "  6%|▌         | 26/443 [00:27<06:26,  1.08it/s]"
     ]
    },
    {
     "name": "stdout",
     "output_type": "stream",
     "text": [
      "处理完成，结果保存在output/batch_results_26.jsonl\n"
     ]
    },
    {
     "name": "stderr",
     "output_type": "stream",
     "text": [
      "INFO:httpx:HTTP Request: GET https://api.openai.com/v1/batches/batch_68552869e9fc81909f7f3fcb020ded81 \"HTTP/1.1 200 OK\"\n",
      "  6%|▌         | 27/443 [00:29<07:00,  1.01s/it]"
     ]
    },
    {
     "name": "stdout",
     "output_type": "stream",
     "text": [
      "处理完成，结果保存在output/batch_results_27.jsonl\n"
     ]
    },
    {
     "name": "stderr",
     "output_type": "stream",
     "text": [
      "INFO:httpx:HTTP Request: GET https://api.openai.com/v1/batches/batch_685528837c9c8190bb42d2aa653b74c3 \"HTTP/1.1 200 OK\"\n",
      "  6%|▋         | 28/443 [00:30<06:56,  1.00s/it]"
     ]
    },
    {
     "name": "stdout",
     "output_type": "stream",
     "text": [
      "处理完成，结果保存在output/batch_results_28.jsonl\n"
     ]
    },
    {
     "name": "stderr",
     "output_type": "stream",
     "text": [
      "INFO:httpx:HTTP Request: GET https://api.openai.com/v1/batches/batch_6855289663fc81908bbfa44afcd3c031 \"HTTP/1.1 200 OK\"\n",
      "  7%|▋         | 29/443 [00:31<06:57,  1.01s/it]"
     ]
    },
    {
     "name": "stdout",
     "output_type": "stream",
     "text": [
      "处理完成，结果保存在output/batch_results_29.jsonl\n"
     ]
    },
    {
     "name": "stderr",
     "output_type": "stream",
     "text": [
      "INFO:httpx:HTTP Request: GET https://api.openai.com/v1/batches/batch_685528a9e7548190a8dc95d936d11c66 \"HTTP/1.1 200 OK\"\n",
      "  7%|▋         | 30/443 [00:32<07:25,  1.08s/it]"
     ]
    },
    {
     "name": "stdout",
     "output_type": "stream",
     "text": [
      "处理完成，结果保存在output/batch_results_30.jsonl\n"
     ]
    },
    {
     "name": "stderr",
     "output_type": "stream",
     "text": [
      "INFO:httpx:HTTP Request: GET https://api.openai.com/v1/batches/batch_685528b833f08190bb0900aaa4fa76b6 \"HTTP/1.1 200 OK\"\n",
      "  7%|▋         | 31/443 [00:33<07:14,  1.05s/it]"
     ]
    },
    {
     "name": "stdout",
     "output_type": "stream",
     "text": [
      "处理完成，结果保存在output/batch_results_31.jsonl\n"
     ]
    },
    {
     "name": "stderr",
     "output_type": "stream",
     "text": [
      "INFO:httpx:HTTP Request: GET https://api.openai.com/v1/batches/batch_685528bd0c4c81909929767e1721958a \"HTTP/1.1 200 OK\"\n",
      "  7%|▋         | 32/443 [00:34<07:48,  1.14s/it]INFO:httpx:HTTP Request: GET https://api.openai.com/v1/batches/batch_685528d20034819090d408071bdcfa3f \"HTTP/1.1 200 OK\"\n"
     ]
    },
    {
     "name": "stdout",
     "output_type": "stream",
     "text": [
      "处理完成，结果保存在output/batch_results_32.jsonl\n"
     ]
    },
    {
     "name": "stderr",
     "output_type": "stream",
     "text": [
      "  7%|▋         | 33/443 [00:35<07:37,  1.12s/it]"
     ]
    },
    {
     "name": "stdout",
     "output_type": "stream",
     "text": [
      "处理完成，结果保存在output/batch_results_33.jsonl\n"
     ]
    },
    {
     "name": "stderr",
     "output_type": "stream",
     "text": [
      "INFO:httpx:HTTP Request: GET https://api.openai.com/v1/batches/batch_685528ea3acc8190806153a1b1f31660 \"HTTP/1.1 200 OK\"\n",
      "  8%|▊         | 34/443 [00:36<07:07,  1.04s/it]"
     ]
    },
    {
     "name": "stdout",
     "output_type": "stream",
     "text": [
      "处理完成，结果保存在output/batch_results_34.jsonl\n"
     ]
    },
    {
     "name": "stderr",
     "output_type": "stream",
     "text": [
      "INFO:httpx:HTTP Request: GET https://api.openai.com/v1/batches/batch_685528fe697c8190aa88f28157280e94 \"HTTP/1.1 200 OK\"\n",
      "  8%|▊         | 35/443 [00:37<06:55,  1.02s/it]"
     ]
    },
    {
     "name": "stdout",
     "output_type": "stream",
     "text": [
      "处理完成，结果保存在output/batch_results_35.jsonl\n"
     ]
    },
    {
     "name": "stderr",
     "output_type": "stream",
     "text": [
      "INFO:httpx:HTTP Request: GET https://api.openai.com/v1/batches/batch_685529098534819088890b1dff88bd07 \"HTTP/1.1 200 OK\"\n",
      "  8%|▊         | 36/443 [00:39<07:34,  1.12s/it]"
     ]
    },
    {
     "name": "stdout",
     "output_type": "stream",
     "text": [
      "处理完成，结果保存在output/batch_results_36.jsonl\n"
     ]
    },
    {
     "name": "stderr",
     "output_type": "stream",
     "text": [
      "INFO:httpx:HTTP Request: GET https://api.openai.com/v1/batches/batch_68552914a74c8190bc24ea5d949b3cad \"HTTP/1.1 200 OK\"\n",
      "  8%|▊         | 37/443 [00:40<07:59,  1.18s/it]"
     ]
    },
    {
     "name": "stdout",
     "output_type": "stream",
     "text": [
      "处理完成，结果保存在output/batch_results_37.jsonl\n"
     ]
    },
    {
     "name": "stderr",
     "output_type": "stream",
     "text": [
      "INFO:httpx:HTTP Request: GET https://api.openai.com/v1/batches/batch_6855291f146481908701521dfa7e4e53 \"HTTP/1.1 200 OK\"\n",
      "  9%|▊         | 38/443 [00:41<07:52,  1.17s/it]"
     ]
    },
    {
     "name": "stdout",
     "output_type": "stream",
     "text": [
      "处理完成，结果保存在output/batch_results_38.jsonl\n"
     ]
    },
    {
     "name": "stderr",
     "output_type": "stream",
     "text": [
      "INFO:httpx:HTTP Request: GET https://api.openai.com/v1/batches/batch_6855292d93c881908b8f4bb6a479bce2 \"HTTP/1.1 200 OK\"\n",
      "  9%|▉         | 39/443 [00:42<07:59,  1.19s/it]"
     ]
    },
    {
     "name": "stdout",
     "output_type": "stream",
     "text": [
      "处理完成，结果保存在output/batch_results_39.jsonl\n"
     ]
    },
    {
     "name": "stderr",
     "output_type": "stream",
     "text": [
      "INFO:httpx:HTTP Request: GET https://api.openai.com/v1/batches/batch_6855297230948190b14b5b9c6fc40a1e \"HTTP/1.1 200 OK\"\n",
      "  9%|▉         | 40/443 [00:43<07:36,  1.13s/it]"
     ]
    },
    {
     "name": "stdout",
     "output_type": "stream",
     "text": [
      "处理完成，结果保存在output/batch_results_40.jsonl\n"
     ]
    },
    {
     "name": "stderr",
     "output_type": "stream",
     "text": [
      "INFO:httpx:HTTP Request: GET https://api.openai.com/v1/batches/batch_6855297bb93c8190a4db5e637bf5a746 \"HTTP/1.1 200 OK\"\n",
      "  9%|▉         | 41/443 [00:44<07:32,  1.13s/it]"
     ]
    },
    {
     "name": "stdout",
     "output_type": "stream",
     "text": [
      "处理完成，结果保存在output/batch_results_41.jsonl\n"
     ]
    },
    {
     "name": "stderr",
     "output_type": "stream",
     "text": [
      "INFO:httpx:HTTP Request: GET https://api.openai.com/v1/batches/batch_6855298a84748190b3ceaee8121264a6 \"HTTP/1.1 200 OK\"\n",
      "  9%|▉         | 42/443 [00:46<07:38,  1.14s/it]"
     ]
    },
    {
     "name": "stdout",
     "output_type": "stream",
     "text": [
      "处理完成，结果保存在output/batch_results_42.jsonl\n"
     ]
    },
    {
     "name": "stderr",
     "output_type": "stream",
     "text": [
      "INFO:httpx:HTTP Request: GET https://api.openai.com/v1/batches/batch_685529a044748190b0574ef6c2ea612c \"HTTP/1.1 200 OK\"\n",
      " 10%|▉         | 43/443 [00:47<07:34,  1.14s/it]"
     ]
    },
    {
     "name": "stdout",
     "output_type": "stream",
     "text": [
      "处理完成，结果保存在output/batch_results_43.jsonl\n"
     ]
    },
    {
     "name": "stderr",
     "output_type": "stream",
     "text": [
      "INFO:httpx:HTTP Request: GET https://api.openai.com/v1/batches/batch_685529c330a48190b0e7a39074f16700 \"HTTP/1.1 200 OK\"\n",
      " 10%|▉         | 44/443 [00:47<06:58,  1.05s/it]"
     ]
    },
    {
     "name": "stdout",
     "output_type": "stream",
     "text": [
      "处理完成，结果保存在output/batch_results_44.jsonl\n"
     ]
    },
    {
     "name": "stderr",
     "output_type": "stream",
     "text": [
      "INFO:httpx:HTTP Request: GET https://api.openai.com/v1/batches/batch_685529cc17e081908dfc2dac6883a621 \"HTTP/1.1 200 OK\"\n",
      " 10%|█         | 45/443 [00:49<07:20,  1.11s/it]"
     ]
    },
    {
     "name": "stdout",
     "output_type": "stream",
     "text": [
      "处理完成，结果保存在output/batch_results_45.jsonl\n"
     ]
    },
    {
     "name": "stderr",
     "output_type": "stream",
     "text": [
      "INFO:httpx:HTTP Request: GET https://api.openai.com/v1/batches/batch_685529e427e48190835609e5eca2467a \"HTTP/1.1 200 OK\"\n",
      " 10%|█         | 46/443 [00:50<06:50,  1.03s/it]"
     ]
    },
    {
     "name": "stdout",
     "output_type": "stream",
     "text": [
      "处理完成，结果保存在output/batch_results_46.jsonl\n"
     ]
    },
    {
     "name": "stderr",
     "output_type": "stream",
     "text": [
      "INFO:httpx:HTTP Request: GET https://api.openai.com/v1/batches/batch_685529f05b04819086ae59f62a52bb4d \"HTTP/1.1 200 OK\"\n",
      " 11%|█         | 47/443 [00:51<06:59,  1.06s/it]"
     ]
    },
    {
     "name": "stdout",
     "output_type": "stream",
     "text": [
      "处理完成，结果保存在output/batch_results_47.jsonl\n"
     ]
    },
    {
     "name": "stderr",
     "output_type": "stream",
     "text": [
      "INFO:httpx:HTTP Request: GET https://api.openai.com/v1/batches/batch_685529fd85808190b7ca852c67addc13 \"HTTP/1.1 200 OK\"\n",
      " 11%|█         | 48/443 [00:52<07:05,  1.08s/it]"
     ]
    },
    {
     "name": "stdout",
     "output_type": "stream",
     "text": [
      "处理完成，结果保存在output/batch_results_48.jsonl\n"
     ]
    },
    {
     "name": "stderr",
     "output_type": "stream",
     "text": [
      "INFO:httpx:HTTP Request: GET https://api.openai.com/v1/batches/batch_68552a1d05588190b471cbfdd7b7f527 \"HTTP/1.1 200 OK\"\n",
      " 11%|█         | 49/443 [00:53<06:44,  1.03s/it]"
     ]
    },
    {
     "name": "stdout",
     "output_type": "stream",
     "text": [
      "处理完成，结果保存在output/batch_results_49.jsonl\n"
     ]
    },
    {
     "name": "stderr",
     "output_type": "stream",
     "text": [
      "INFO:httpx:HTTP Request: GET https://api.openai.com/v1/batches/batch_68552a3be16c8190b7bb36142a396777 \"HTTP/1.1 200 OK\"\n",
      " 11%|█▏        | 50/443 [00:54<06:56,  1.06s/it]"
     ]
    },
    {
     "name": "stdout",
     "output_type": "stream",
     "text": [
      "处理完成，结果保存在output/batch_results_50.jsonl\n"
     ]
    },
    {
     "name": "stderr",
     "output_type": "stream",
     "text": [
      "INFO:httpx:HTTP Request: GET https://api.openai.com/v1/batches/batch_68552a4b9f488190a458aad0eb8150bf \"HTTP/1.1 200 OK\"\n",
      " 12%|█▏        | 51/443 [00:55<06:25,  1.02it/s]"
     ]
    },
    {
     "name": "stdout",
     "output_type": "stream",
     "text": [
      "处理完成，结果保存在output/batch_results_51.jsonl\n"
     ]
    },
    {
     "name": "stderr",
     "output_type": "stream",
     "text": [
      "INFO:httpx:HTTP Request: GET https://api.openai.com/v1/batches/batch_68552a517bec8190b8cd6faa1d9911a9 \"HTTP/1.1 200 OK\"\n",
      " 12%|█▏        | 52/443 [00:56<07:13,  1.11s/it]"
     ]
    },
    {
     "name": "stdout",
     "output_type": "stream",
     "text": [
      "处理完成，结果保存在output/batch_results_52.jsonl\n"
     ]
    },
    {
     "name": "stderr",
     "output_type": "stream",
     "text": [
      "INFO:httpx:HTTP Request: GET https://api.openai.com/v1/batches/batch_68552a61268c8190b72144e8847e1864 \"HTTP/1.1 200 OK\"\n",
      " 12%|█▏        | 53/443 [00:57<06:45,  1.04s/it]"
     ]
    },
    {
     "name": "stdout",
     "output_type": "stream",
     "text": [
      "处理完成，结果保存在output/batch_results_53.jsonl\n"
     ]
    },
    {
     "name": "stderr",
     "output_type": "stream",
     "text": [
      "INFO:httpx:HTTP Request: GET https://api.openai.com/v1/batches/batch_68552a7993a48190b58623f4967a9a62 \"HTTP/1.1 200 OK\"\n",
      " 12%|█▏        | 54/443 [00:58<06:25,  1.01it/s]"
     ]
    },
    {
     "name": "stdout",
     "output_type": "stream",
     "text": [
      "处理完成，结果保存在output/batch_results_54.jsonl\n"
     ]
    },
    {
     "name": "stderr",
     "output_type": "stream",
     "text": [
      "INFO:httpx:HTTP Request: GET https://api.openai.com/v1/batches/batch_68552aa3ce40819094672e93848a6400 \"HTTP/1.1 200 OK\"\n",
      " 12%|█▏        | 55/443 [00:59<06:50,  1.06s/it]"
     ]
    },
    {
     "name": "stdout",
     "output_type": "stream",
     "text": [
      "处理完成，结果保存在output/batch_results_55.jsonl\n"
     ]
    },
    {
     "name": "stderr",
     "output_type": "stream",
     "text": [
      "INFO:httpx:HTTP Request: GET https://api.openai.com/v1/batches/batch_68552ab548108190bb514382912e0261 \"HTTP/1.1 200 OK\"\n",
      " 13%|█▎        | 56/443 [01:00<06:53,  1.07s/it]"
     ]
    },
    {
     "name": "stdout",
     "output_type": "stream",
     "text": [
      "处理完成，结果保存在output/batch_results_56.jsonl\n"
     ]
    },
    {
     "name": "stderr",
     "output_type": "stream",
     "text": [
      "INFO:httpx:HTTP Request: GET https://api.openai.com/v1/batches/batch_68552ac0a468819099e605f4da943d2b \"HTTP/1.1 200 OK\"\n",
      " 13%|█▎        | 57/443 [01:01<07:08,  1.11s/it]"
     ]
    },
    {
     "name": "stdout",
     "output_type": "stream",
     "text": [
      "处理完成，结果保存在output/batch_results_57.jsonl\n"
     ]
    },
    {
     "name": "stderr",
     "output_type": "stream",
     "text": [
      "INFO:httpx:HTTP Request: GET https://api.openai.com/v1/batches/batch_68552aceac288190a9ffaf53fc74f0bc \"HTTP/1.1 200 OK\"\n",
      " 13%|█▎        | 58/443 [01:03<07:39,  1.19s/it]"
     ]
    },
    {
     "name": "stdout",
     "output_type": "stream",
     "text": [
      "处理完成，结果保存在output/batch_results_58.jsonl\n"
     ]
    },
    {
     "name": "stderr",
     "output_type": "stream",
     "text": [
      "INFO:httpx:HTTP Request: GET https://api.openai.com/v1/batches/batch_68552ade250c81908610a7cdec951b47 \"HTTP/1.1 200 OK\"\n",
      " 13%|█▎        | 59/443 [01:04<06:54,  1.08s/it]"
     ]
    },
    {
     "name": "stdout",
     "output_type": "stream",
     "text": [
      "处理完成，结果保存在output/batch_results_59.jsonl\n"
     ]
    },
    {
     "name": "stderr",
     "output_type": "stream",
     "text": [
      "INFO:httpx:HTTP Request: GET https://api.openai.com/v1/batches/batch_68552afc4de08190b8fa836d76b11df3 \"HTTP/1.1 200 OK\"\n",
      " 14%|█▎        | 60/443 [01:05<07:02,  1.10s/it]"
     ]
    },
    {
     "name": "stdout",
     "output_type": "stream",
     "text": [
      "处理完成，结果保存在output/batch_results_60.jsonl\n"
     ]
    },
    {
     "name": "stderr",
     "output_type": "stream",
     "text": [
      "INFO:httpx:HTTP Request: GET https://api.openai.com/v1/batches/batch_68552b14dd948190ae95e61293ccb5ea \"HTTP/1.1 200 OK\"\n",
      " 14%|█▍        | 61/443 [01:06<06:58,  1.10s/it]"
     ]
    },
    {
     "name": "stdout",
     "output_type": "stream",
     "text": [
      "处理完成，结果保存在output/batch_results_61.jsonl\n"
     ]
    },
    {
     "name": "stderr",
     "output_type": "stream",
     "text": [
      "INFO:httpx:HTTP Request: GET https://api.openai.com/v1/batches/batch_68552b2e028c819091b59a65326d5ca8 \"HTTP/1.1 200 OK\"\n",
      " 14%|█▍        | 62/443 [01:07<07:04,  1.11s/it]"
     ]
    },
    {
     "name": "stdout",
     "output_type": "stream",
     "text": [
      "处理完成，结果保存在output/batch_results_62.jsonl\n"
     ]
    },
    {
     "name": "stderr",
     "output_type": "stream",
     "text": [
      "INFO:httpx:HTTP Request: GET https://api.openai.com/v1/batches/batch_68552b430f1c8190ae0e212357966903 \"HTTP/1.1 200 OK\"\n",
      " 14%|█▍        | 63/443 [01:08<06:26,  1.02s/it]"
     ]
    },
    {
     "name": "stdout",
     "output_type": "stream",
     "text": [
      "处理完成，结果保存在output/batch_results_63.jsonl\n"
     ]
    },
    {
     "name": "stderr",
     "output_type": "stream",
     "text": [
      "INFO:httpx:HTTP Request: GET https://api.openai.com/v1/batches/batch_68552b4b40048190b65a5768a88d678b \"HTTP/1.1 200 OK\"\n",
      " 14%|█▍        | 64/443 [01:09<06:05,  1.04it/s]"
     ]
    },
    {
     "name": "stdout",
     "output_type": "stream",
     "text": [
      "处理完成，结果保存在output/batch_results_64.jsonl\n"
     ]
    },
    {
     "name": "stderr",
     "output_type": "stream",
     "text": [
      "INFO:httpx:HTTP Request: GET https://api.openai.com/v1/batches/batch_68552b672070819096e43aae7ef8f5ba \"HTTP/1.1 200 OK\"\n",
      " 15%|█▍        | 65/443 [01:10<06:11,  1.02it/s]"
     ]
    },
    {
     "name": "stdout",
     "output_type": "stream",
     "text": [
      "处理完成，结果保存在output/batch_results_65.jsonl\n"
     ]
    },
    {
     "name": "stderr",
     "output_type": "stream",
     "text": [
      "INFO:httpx:HTTP Request: GET https://api.openai.com/v1/batches/batch_68552b715b448190be19ec1fff796eca \"HTTP/1.1 200 OK\"\n",
      " 15%|█▍        | 66/443 [01:11<06:28,  1.03s/it]"
     ]
    },
    {
     "name": "stdout",
     "output_type": "stream",
     "text": [
      "处理完成，结果保存在output/batch_results_66.jsonl\n"
     ]
    },
    {
     "name": "stderr",
     "output_type": "stream",
     "text": [
      "INFO:httpx:HTTP Request: GET https://api.openai.com/v1/batches/batch_68552b81d378819094efa724911e2bc3 \"HTTP/1.1 200 OK\"\n",
      " 15%|█▌        | 67/443 [01:12<06:04,  1.03it/s]"
     ]
    },
    {
     "name": "stdout",
     "output_type": "stream",
     "text": [
      "处理完成，结果保存在output/batch_results_67.jsonl\n"
     ]
    },
    {
     "name": "stderr",
     "output_type": "stream",
     "text": [
      "INFO:httpx:HTTP Request: GET https://api.openai.com/v1/batches/batch_68552b8b3d80819087a5632387367f84 \"HTTP/1.1 200 OK\"\n",
      " 15%|█▌        | 68/443 [01:13<06:26,  1.03s/it]"
     ]
    },
    {
     "name": "stdout",
     "output_type": "stream",
     "text": [
      "处理完成，结果保存在output/batch_results_68.jsonl\n"
     ]
    },
    {
     "name": "stderr",
     "output_type": "stream",
     "text": [
      "INFO:httpx:HTTP Request: GET https://api.openai.com/v1/batches/batch_68552b9a419c819093757e9b10178b87 \"HTTP/1.1 200 OK\"\n",
      " 16%|█▌        | 69/443 [01:14<06:43,  1.08s/it]"
     ]
    },
    {
     "name": "stdout",
     "output_type": "stream",
     "text": [
      "处理完成，结果保存在output/batch_results_69.jsonl\n"
     ]
    },
    {
     "name": "stderr",
     "output_type": "stream",
     "text": [
      "INFO:httpx:HTTP Request: GET https://api.openai.com/v1/batches/batch_68552ba5aec88190b096dc6b4ea811c4 \"HTTP/1.1 200 OK\"\n",
      " 16%|█▌        | 70/443 [01:15<06:41,  1.08s/it]"
     ]
    },
    {
     "name": "stdout",
     "output_type": "stream",
     "text": [
      "处理完成，结果保存在output/batch_results_70.jsonl\n"
     ]
    },
    {
     "name": "stderr",
     "output_type": "stream",
     "text": [
      "INFO:httpx:HTTP Request: GET https://api.openai.com/v1/batches/batch_68552bae0d2c819097d50086b238dd3a \"HTTP/1.1 200 OK\"\n",
      " 16%|█▌        | 71/443 [01:16<06:09,  1.01it/s]"
     ]
    },
    {
     "name": "stdout",
     "output_type": "stream",
     "text": [
      "处理完成，结果保存在output/batch_results_71.jsonl\n"
     ]
    },
    {
     "name": "stderr",
     "output_type": "stream",
     "text": [
      "INFO:httpx:HTTP Request: GET https://api.openai.com/v1/batches/batch_68552bc1f55c8190b67545db62809045 \"HTTP/1.1 200 OK\"\n",
      " 16%|█▋        | 72/443 [01:17<06:26,  1.04s/it]"
     ]
    },
    {
     "name": "stdout",
     "output_type": "stream",
     "text": [
      "处理完成，结果保存在output/batch_results_72.jsonl\n"
     ]
    },
    {
     "name": "stderr",
     "output_type": "stream",
     "text": [
      "INFO:httpx:HTTP Request: GET https://api.openai.com/v1/batches/batch_68552bcb7e5c8190902d272df2bbc099 \"HTTP/1.1 200 OK\"\n",
      " 16%|█▋        | 73/443 [01:18<06:50,  1.11s/it]"
     ]
    },
    {
     "name": "stdout",
     "output_type": "stream",
     "text": [
      "处理完成，结果保存在output/batch_results_73.jsonl\n"
     ]
    },
    {
     "name": "stderr",
     "output_type": "stream",
     "text": [
      "INFO:httpx:HTTP Request: GET https://api.openai.com/v1/batches/batch_68552bd349b88190a971a50260f6cfaa \"HTTP/1.1 200 OK\"\n",
      " 17%|█▋        | 74/443 [01:19<06:04,  1.01it/s]"
     ]
    },
    {
     "name": "stdout",
     "output_type": "stream",
     "text": [
      "处理完成，结果保存在output/batch_results_74.jsonl\n"
     ]
    },
    {
     "name": "stderr",
     "output_type": "stream",
     "text": [
      "INFO:httpx:HTTP Request: GET https://api.openai.com/v1/batches/batch_68552bfc30048190b31458245445089a \"HTTP/1.1 200 OK\"\n",
      " 17%|█▋        | 75/443 [01:20<06:37,  1.08s/it]"
     ]
    },
    {
     "name": "stdout",
     "output_type": "stream",
     "text": [
      "处理完成，结果保存在output/batch_results_75.jsonl\n"
     ]
    },
    {
     "name": "stderr",
     "output_type": "stream",
     "text": [
      "INFO:httpx:HTTP Request: GET https://api.openai.com/v1/batches/batch_68552c12050c81909d5fb2e1e21949cc \"HTTP/1.1 200 OK\"\n",
      " 17%|█▋        | 76/443 [01:21<06:55,  1.13s/it]"
     ]
    },
    {
     "name": "stdout",
     "output_type": "stream",
     "text": [
      "处理完成，结果保存在output/batch_results_76.jsonl\n"
     ]
    },
    {
     "name": "stderr",
     "output_type": "stream",
     "text": [
      "INFO:httpx:HTTP Request: GET https://api.openai.com/v1/batches/batch_68552c2ea2cc8190b5f76a8698734b47 \"HTTP/1.1 200 OK\"\n",
      " 17%|█▋        | 77/443 [01:23<07:17,  1.19s/it]"
     ]
    },
    {
     "name": "stdout",
     "output_type": "stream",
     "text": [
      "处理完成，结果保存在output/batch_results_77.jsonl\n"
     ]
    },
    {
     "name": "stderr",
     "output_type": "stream",
     "text": [
      "INFO:httpx:HTTP Request: GET https://api.openai.com/v1/batches/batch_68552c4c0bf0819095b75be8aaaec421 \"HTTP/1.1 200 OK\"\n",
      " 18%|█▊        | 78/443 [01:24<07:19,  1.20s/it]"
     ]
    },
    {
     "name": "stdout",
     "output_type": "stream",
     "text": [
      "处理完成，结果保存在output/batch_results_78.jsonl\n"
     ]
    },
    {
     "name": "stderr",
     "output_type": "stream",
     "text": [
      "INFO:httpx:HTTP Request: GET https://api.openai.com/v1/batches/batch_68552c60c33481909e41ee40e5881fde \"HTTP/1.1 200 OK\"\n",
      " 18%|█▊        | 79/443 [01:25<06:37,  1.09s/it]"
     ]
    },
    {
     "name": "stdout",
     "output_type": "stream",
     "text": [
      "处理完成，结果保存在output/batch_results_79.jsonl\n"
     ]
    },
    {
     "name": "stderr",
     "output_type": "stream",
     "text": [
      "INFO:httpx:HTTP Request: GET https://api.openai.com/v1/batches/batch_68552c7a802c8190921a840d9b9a1458 \"HTTP/1.1 200 OK\"\n",
      " 18%|█▊        | 80/443 [01:26<06:43,  1.11s/it]"
     ]
    },
    {
     "name": "stdout",
     "output_type": "stream",
     "text": [
      "处理完成，结果保存在output/batch_results_80.jsonl\n"
     ]
    },
    {
     "name": "stderr",
     "output_type": "stream",
     "text": [
      "INFO:httpx:HTTP Request: GET https://api.openai.com/v1/batches/batch_68552caf777881908eacc86f1d98e75f \"HTTP/1.1 200 OK\"\n",
      " 18%|█▊        | 81/443 [01:27<06:10,  1.02s/it]"
     ]
    },
    {
     "name": "stdout",
     "output_type": "stream",
     "text": [
      "处理完成，结果保存在output/batch_results_81.jsonl\n"
     ]
    },
    {
     "name": "stderr",
     "output_type": "stream",
     "text": [
      "INFO:httpx:HTTP Request: GET https://api.openai.com/v1/batches/batch_68552cfab60c8190a668ea884b87983f \"HTTP/1.1 200 OK\"\n",
      " 19%|█▊        | 82/443 [01:27<04:45,  1.27it/s]"
     ]
    },
    {
     "name": "stdout",
     "output_type": "stream",
     "text": [
      "Batch 作业验证或执行失败，错误信息： Errors(data=[BatchError(code='maximum_input_file_size_exceeded', line=None, message='The batch input file is larger than the 209715200 maximum for the gpt-4o model. Please try again with a smaller batch.', param=None)], object='list')\n"
     ]
    },
    {
     "name": "stderr",
     "output_type": "stream",
     "text": [
      "INFO:httpx:HTTP Request: GET https://api.openai.com/v1/batches/batch_68552d3511ec8190ad1c5170f302ed60 \"HTTP/1.1 200 OK\"\n",
      " 19%|█▊        | 83/443 [01:28<05:34,  1.08it/s]"
     ]
    },
    {
     "name": "stdout",
     "output_type": "stream",
     "text": [
      "处理完成，结果保存在output/batch_results_83.jsonl\n"
     ]
    },
    {
     "name": "stderr",
     "output_type": "stream",
     "text": [
      "INFO:httpx:HTTP Request: GET https://api.openai.com/v1/batches/batch_68552d3ffb048190b6603fed9dfda33d \"HTTP/1.1 200 OK\"\n",
      " 19%|█▉        | 84/443 [01:29<05:51,  1.02it/s]"
     ]
    },
    {
     "name": "stdout",
     "output_type": "stream",
     "text": [
      "处理完成，结果保存在output/batch_results_84.jsonl\n"
     ]
    },
    {
     "name": "stderr",
     "output_type": "stream",
     "text": [
      "INFO:httpx:HTTP Request: GET https://api.openai.com/v1/batches/batch_68552d5af46c8190bf6e847641735e4a \"HTTP/1.1 200 OK\"\n",
      " 19%|█▉        | 85/443 [01:30<05:35,  1.07it/s]"
     ]
    },
    {
     "name": "stdout",
     "output_type": "stream",
     "text": [
      "处理完成，结果保存在output/batch_results_85.jsonl\n"
     ]
    },
    {
     "name": "stderr",
     "output_type": "stream",
     "text": [
      "INFO:httpx:HTTP Request: GET https://api.openai.com/v1/batches/batch_68552d74b9a48190a97d5d5c148dcff2 \"HTTP/1.1 200 OK\"\n",
      " 19%|█▉        | 86/443 [01:31<05:44,  1.04it/s]"
     ]
    },
    {
     "name": "stdout",
     "output_type": "stream",
     "text": [
      "处理完成，结果保存在output/batch_results_86.jsonl\n"
     ]
    },
    {
     "name": "stderr",
     "output_type": "stream",
     "text": [
      "INFO:httpx:HTTP Request: GET https://api.openai.com/v1/batches/batch_68552d7d15c88190aece031e04fd3599 \"HTTP/1.1 200 OK\"\n",
      " 20%|█▉        | 87/443 [01:32<05:28,  1.08it/s]"
     ]
    },
    {
     "name": "stdout",
     "output_type": "stream",
     "text": [
      "处理完成，结果保存在output/batch_results_87.jsonl\n"
     ]
    },
    {
     "name": "stderr",
     "output_type": "stream",
     "text": [
      "INFO:httpx:HTTP Request: GET https://api.openai.com/v1/batches/batch_68552d9736288190922a05138aa0f555 \"HTTP/1.1 200 OK\"\n",
      " 20%|█▉        | 88/443 [01:33<05:46,  1.02it/s]"
     ]
    },
    {
     "name": "stdout",
     "output_type": "stream",
     "text": [
      "处理完成，结果保存在output/batch_results_88.jsonl\n"
     ]
    },
    {
     "name": "stderr",
     "output_type": "stream",
     "text": [
      "INFO:httpx:HTTP Request: GET https://api.openai.com/v1/batches/batch_68552daf10a48190a204c0ac06a3a8ac \"HTTP/1.1 200 OK\"\n",
      " 20%|██        | 89/443 [01:34<05:35,  1.06it/s]"
     ]
    },
    {
     "name": "stdout",
     "output_type": "stream",
     "text": [
      "处理完成，结果保存在output/batch_results_89.jsonl\n"
     ]
    },
    {
     "name": "stderr",
     "output_type": "stream",
     "text": [
      "INFO:httpx:HTTP Request: GET https://api.openai.com/v1/batches/batch_68552dbe5ff08190b177d57759a5b8db \"HTTP/1.1 200 OK\"\n",
      " 20%|██        | 90/443 [01:35<05:59,  1.02s/it]"
     ]
    },
    {
     "name": "stdout",
     "output_type": "stream",
     "text": [
      "处理完成，结果保存在output/batch_results_90.jsonl\n"
     ]
    },
    {
     "name": "stderr",
     "output_type": "stream",
     "text": [
      "INFO:httpx:HTTP Request: GET https://api.openai.com/v1/batches/batch_68552dc34bbc8190ace41fce3af88890 \"HTTP/1.1 200 OK\"\n",
      " 21%|██        | 91/443 [01:36<06:12,  1.06s/it]"
     ]
    },
    {
     "name": "stdout",
     "output_type": "stream",
     "text": [
      "处理完成，结果保存在output/batch_results_91.jsonl\n"
     ]
    },
    {
     "name": "stderr",
     "output_type": "stream",
     "text": [
      "INFO:httpx:HTTP Request: GET https://api.openai.com/v1/batches/batch_68552e1589c0819084197bc73ee7175a \"HTTP/1.1 200 OK\"\n",
      " 21%|██        | 92/443 [01:37<04:42,  1.24it/s]"
     ]
    },
    {
     "name": "stdout",
     "output_type": "stream",
     "text": [
      "Batch 作业验证或执行失败，错误信息： Errors(data=[BatchError(code='maximum_input_file_size_exceeded', line=None, message='The batch input file is larger than the 209715200 maximum for the gpt-4o model. Please try again with a smaller batch.', param=None)], object='list')\n"
     ]
    },
    {
     "name": "stderr",
     "output_type": "stream",
     "text": [
      "INFO:httpx:HTTP Request: GET https://api.openai.com/v1/batches/batch_68552e4002b881909c136a496ae68741 \"HTTP/1.1 200 OK\"\n",
      " 21%|██        | 93/443 [01:38<05:33,  1.05it/s]"
     ]
    },
    {
     "name": "stdout",
     "output_type": "stream",
     "text": [
      "处理完成，结果保存在output/batch_results_93.jsonl\n"
     ]
    },
    {
     "name": "stderr",
     "output_type": "stream",
     "text": [
      "INFO:httpx:HTTP Request: GET https://api.openai.com/v1/batches/batch_68552e5bf12881909f96d44ce00b8ae6 \"HTTP/1.1 200 OK\"\n",
      " 21%|██        | 94/443 [01:39<05:58,  1.03s/it]"
     ]
    },
    {
     "name": "stdout",
     "output_type": "stream",
     "text": [
      "处理完成，结果保存在output/batch_results_94.jsonl\n"
     ]
    },
    {
     "name": "stderr",
     "output_type": "stream",
     "text": [
      "INFO:httpx:HTTP Request: GET https://api.openai.com/v1/batches/batch_68552e7109748190883171cec3c828fd \"HTTP/1.1 200 OK\"\n",
      " 21%|██▏       | 95/443 [01:40<06:26,  1.11s/it]"
     ]
    },
    {
     "name": "stdout",
     "output_type": "stream",
     "text": [
      "处理完成，结果保存在output/batch_results_95.jsonl\n"
     ]
    },
    {
     "name": "stderr",
     "output_type": "stream",
     "text": [
      "INFO:httpx:HTTP Request: GET https://api.openai.com/v1/batches/batch_68552e7a9fc481909014b1149a416e6e \"HTTP/1.1 200 OK\"\n",
      " 22%|██▏       | 96/443 [01:41<05:56,  1.03s/it]"
     ]
    },
    {
     "name": "stdout",
     "output_type": "stream",
     "text": [
      "处理完成，结果保存在output/batch_results_96.jsonl\n"
     ]
    },
    {
     "name": "stderr",
     "output_type": "stream",
     "text": [
      "INFO:httpx:HTTP Request: GET https://api.openai.com/v1/batches/batch_68552e9b970081908550dcdbc2ce0db4 \"HTTP/1.1 200 OK\"\n",
      " 22%|██▏       | 97/443 [01:42<05:39,  1.02it/s]"
     ]
    },
    {
     "name": "stdout",
     "output_type": "stream",
     "text": [
      "处理完成，结果保存在output/batch_results_97.jsonl\n"
     ]
    },
    {
     "name": "stderr",
     "output_type": "stream",
     "text": [
      "INFO:httpx:HTTP Request: GET https://api.openai.com/v1/batches/batch_68552ea823688190b3ba054a2adfa5f9 \"HTTP/1.1 200 OK\"\n",
      " 22%|██▏       | 98/443 [01:43<05:48,  1.01s/it]"
     ]
    },
    {
     "name": "stdout",
     "output_type": "stream",
     "text": [
      "处理完成，结果保存在output/batch_results_98.jsonl\n"
     ]
    },
    {
     "name": "stderr",
     "output_type": "stream",
     "text": [
      "INFO:httpx:HTTP Request: GET https://api.openai.com/v1/batches/batch_68552eb86b808190bb0b06409820c385 \"HTTP/1.1 200 OK\"\n",
      " 22%|██▏       | 99/443 [01:44<05:32,  1.03it/s]"
     ]
    },
    {
     "name": "stdout",
     "output_type": "stream",
     "text": [
      "处理完成，结果保存在output/batch_results_99.jsonl\n"
     ]
    },
    {
     "name": "stderr",
     "output_type": "stream",
     "text": [
      "INFO:httpx:HTTP Request: GET https://api.openai.com/v1/batches/batch_68552ec22d2c8190a3d761645c8f2a68 \"HTTP/1.1 200 OK\"\n",
      " 23%|██▎       | 100/443 [01:45<05:43,  1.00s/it]"
     ]
    },
    {
     "name": "stdout",
     "output_type": "stream",
     "text": [
      "处理完成，结果保存在output/batch_results_100.jsonl\n"
     ]
    },
    {
     "name": "stderr",
     "output_type": "stream",
     "text": [
      "INFO:httpx:HTTP Request: GET https://api.openai.com/v1/batches/batch_68552eccfbc881908f97fd30032fc4dc \"HTTP/1.1 200 OK\"\n",
      " 23%|██▎       | 101/443 [01:47<06:19,  1.11s/it]"
     ]
    },
    {
     "name": "stdout",
     "output_type": "stream",
     "text": [
      "处理完成，结果保存在output/batch_results_101.jsonl\n"
     ]
    },
    {
     "name": "stderr",
     "output_type": "stream",
     "text": [
      "INFO:httpx:HTTP Request: GET https://api.openai.com/v1/batches/batch_68552edf7fa08190b68d48fa172265d6 \"HTTP/1.1 200 OK\"\n",
      " 23%|██▎       | 102/443 [01:47<05:47,  1.02s/it]"
     ]
    },
    {
     "name": "stdout",
     "output_type": "stream",
     "text": [
      "处理完成，结果保存在output/batch_results_102.jsonl\n"
     ]
    },
    {
     "name": "stderr",
     "output_type": "stream",
     "text": [
      "INFO:httpx:HTTP Request: GET https://api.openai.com/v1/batches/batch_68552ef4ada88190bf160a4d72ceac05 \"HTTP/1.1 200 OK\"\n",
      " 23%|██▎       | 103/443 [01:50<07:48,  1.38s/it]"
     ]
    },
    {
     "name": "stdout",
     "output_type": "stream",
     "text": [
      "处理完成，结果保存在output/batch_results_103.jsonl\n"
     ]
    },
    {
     "name": "stderr",
     "output_type": "stream",
     "text": [
      "INFO:httpx:HTTP Request: GET https://api.openai.com/v1/batches/batch_68552f088cb48190baeb2c976a73542f \"HTTP/1.1 200 OK\"\n",
      " 23%|██▎       | 104/443 [01:50<06:47,  1.20s/it]"
     ]
    },
    {
     "name": "stdout",
     "output_type": "stream",
     "text": [
      "处理完成，结果保存在output/batch_results_104.jsonl\n"
     ]
    },
    {
     "name": "stderr",
     "output_type": "stream",
     "text": [
      "INFO:httpx:HTTP Request: GET https://api.openai.com/v1/batches/batch_68552f11bc30819091978bd918b845bd \"HTTP/1.1 200 OK\"\n",
      " 24%|██▎       | 105/443 [01:51<06:20,  1.13s/it]"
     ]
    },
    {
     "name": "stdout",
     "output_type": "stream",
     "text": [
      "处理完成，结果保存在output/batch_results_105.jsonl\n"
     ]
    },
    {
     "name": "stderr",
     "output_type": "stream",
     "text": [
      "INFO:httpx:HTTP Request: GET https://api.openai.com/v1/batches/batch_68552f2b25d48190b9a3203c82f2f673 \"HTTP/1.1 200 OK\"\n",
      " 24%|██▍       | 106/443 [01:52<06:11,  1.10s/it]"
     ]
    },
    {
     "name": "stdout",
     "output_type": "stream",
     "text": [
      "处理完成，结果保存在output/batch_results_106.jsonl\n"
     ]
    },
    {
     "name": "stderr",
     "output_type": "stream",
     "text": [
      "INFO:httpx:HTTP Request: GET https://api.openai.com/v1/batches/batch_68552f5571908190a821927a6b12fb70 \"HTTP/1.1 200 OK\"\n",
      " 24%|██▍       | 107/443 [01:54<06:38,  1.19s/it]"
     ]
    },
    {
     "name": "stdout",
     "output_type": "stream",
     "text": [
      "处理完成，结果保存在output/batch_results_107.jsonl\n"
     ]
    },
    {
     "name": "stderr",
     "output_type": "stream",
     "text": [
      "INFO:httpx:HTTP Request: GET https://api.openai.com/v1/batches/batch_68552f722088819094dcf7f1437cd030 \"HTTP/1.1 200 OK\"\n",
      " 24%|██▍       | 108/443 [01:55<06:31,  1.17s/it]"
     ]
    },
    {
     "name": "stdout",
     "output_type": "stream",
     "text": [
      "处理完成，结果保存在output/batch_results_108.jsonl\n"
     ]
    },
    {
     "name": "stderr",
     "output_type": "stream",
     "text": [
      "INFO:httpx:HTTP Request: GET https://api.openai.com/v1/batches/batch_68552f90a1dc8190891ca8178365adab \"HTTP/1.1 200 OK\"\n",
      " 25%|██▍       | 109/443 [01:56<06:25,  1.15s/it]"
     ]
    },
    {
     "name": "stdout",
     "output_type": "stream",
     "text": [
      "处理完成，结果保存在output/batch_results_109.jsonl\n"
     ]
    },
    {
     "name": "stderr",
     "output_type": "stream",
     "text": [
      "INFO:httpx:HTTP Request: GET https://api.openai.com/v1/batches/batch_68552fa74f5c8190a1f954857b474c4a \"HTTP/1.1 200 OK\"\n",
      " 25%|██▍       | 110/443 [01:57<05:56,  1.07s/it]"
     ]
    },
    {
     "name": "stdout",
     "output_type": "stream",
     "text": [
      "处理完成，结果保存在output/batch_results_110.jsonl\n"
     ]
    },
    {
     "name": "stderr",
     "output_type": "stream",
     "text": [
      "INFO:httpx:HTTP Request: GET https://api.openai.com/v1/batches/batch_68552fb66cc881908e2eb9ec9cc056f3 \"HTTP/1.1 200 OK\"\n",
      " 25%|██▌       | 111/443 [01:58<05:59,  1.08s/it]"
     ]
    },
    {
     "name": "stdout",
     "output_type": "stream",
     "text": [
      "处理完成，结果保存在output/batch_results_111.jsonl\n"
     ]
    },
    {
     "name": "stderr",
     "output_type": "stream",
     "text": [
      "INFO:httpx:HTTP Request: GET https://api.openai.com/v1/batches/batch_68552fd135f88190ad0d1baa6c5f9d6b \"HTTP/1.1 200 OK\"\n",
      " 25%|██▌       | 112/443 [01:59<05:35,  1.01s/it]"
     ]
    },
    {
     "name": "stdout",
     "output_type": "stream",
     "text": [
      "处理完成，结果保存在output/batch_results_112.jsonl\n"
     ]
    },
    {
     "name": "stderr",
     "output_type": "stream",
     "text": [
      "INFO:httpx:HTTP Request: GET https://api.openai.com/v1/batches/batch_68552ff10c78819099d73fc742a55015 \"HTTP/1.1 200 OK\"\n",
      " 26%|██▌       | 113/443 [02:00<05:08,  1.07it/s]"
     ]
    },
    {
     "name": "stdout",
     "output_type": "stream",
     "text": [
      "处理完成，结果保存在output/batch_results_113.jsonl\n"
     ]
    },
    {
     "name": "stderr",
     "output_type": "stream",
     "text": [
      "INFO:httpx:HTTP Request: GET https://api.openai.com/v1/batches/batch_685530348d6c81909e495314139d170d \"HTTP/1.1 200 OK\"\n",
      " 26%|██▌       | 114/443 [02:00<03:59,  1.38it/s]"
     ]
    },
    {
     "name": "stdout",
     "output_type": "stream",
     "text": [
      "Batch 作业验证或执行失败，错误信息： Errors(data=[BatchError(code='maximum_input_file_size_exceeded', line=None, message='The batch input file is larger than the 209715200 maximum for the gpt-4o model. Please try again with a smaller batch.', param=None)], object='list')\n"
     ]
    },
    {
     "name": "stderr",
     "output_type": "stream",
     "text": [
      "INFO:httpx:HTTP Request: GET https://api.openai.com/v1/batches/batch_6855305071e08190ad79b388a335f315 \"HTTP/1.1 200 OK\"\n",
      " 26%|██▌       | 115/443 [02:01<04:11,  1.31it/s]"
     ]
    },
    {
     "name": "stdout",
     "output_type": "stream",
     "text": [
      "处理完成，结果保存在output/batch_results_115.jsonl\n"
     ]
    },
    {
     "name": "stderr",
     "output_type": "stream",
     "text": [
      "INFO:httpx:HTTP Request: GET https://api.openai.com/v1/batches/batch_685530564fe48190a38a94b35ebb0a97 \"HTTP/1.1 200 OK\"\n",
      " 26%|██▌       | 116/443 [02:02<04:45,  1.14it/s]"
     ]
    },
    {
     "name": "stdout",
     "output_type": "stream",
     "text": [
      "处理完成，结果保存在output/batch_results_116.jsonl\n"
     ]
    },
    {
     "name": "stderr",
     "output_type": "stream",
     "text": [
      "INFO:httpx:HTTP Request: GET https://api.openai.com/v1/batches/batch_685530a4ac048190a6c746620284b47e \"HTTP/1.1 200 OK\"\n",
      " 26%|██▋       | 117/443 [02:03<04:40,  1.16it/s]"
     ]
    },
    {
     "name": "stdout",
     "output_type": "stream",
     "text": [
      "处理完成，结果保存在output/batch_results_117.jsonl\n"
     ]
    },
    {
     "name": "stderr",
     "output_type": "stream",
     "text": [
      "INFO:httpx:HTTP Request: GET https://api.openai.com/v1/batches/batch_685530b9dd148190823915b81a810dc9 \"HTTP/1.1 200 OK\"\n",
      " 27%|██▋       | 118/443 [02:03<04:37,  1.17it/s]"
     ]
    },
    {
     "name": "stdout",
     "output_type": "stream",
     "text": [
      "处理完成，结果保存在output/batch_results_118.jsonl\n"
     ]
    },
    {
     "name": "stderr",
     "output_type": "stream",
     "text": [
      "INFO:httpx:HTTP Request: GET https://api.openai.com/v1/batches/batch_685530dbf8e881909a397682467440a1 \"HTTP/1.1 200 OK\"\n",
      " 27%|██▋       | 119/443 [02:04<04:34,  1.18it/s]"
     ]
    },
    {
     "name": "stdout",
     "output_type": "stream",
     "text": [
      "处理完成，结果保存在output/batch_results_119.jsonl\n"
     ]
    },
    {
     "name": "stderr",
     "output_type": "stream",
     "text": [
      "INFO:httpx:HTTP Request: GET https://api.openai.com/v1/batches/batch_685530f9628c8190afd46bf4fd5d70f0 \"HTTP/1.1 200 OK\"\n",
      " 27%|██▋       | 120/443 [02:05<04:39,  1.15it/s]"
     ]
    },
    {
     "name": "stdout",
     "output_type": "stream",
     "text": [
      "处理完成，结果保存在output/batch_results_120.jsonl\n"
     ]
    },
    {
     "name": "stderr",
     "output_type": "stream",
     "text": [
      "INFO:httpx:HTTP Request: GET https://api.openai.com/v1/batches/batch_6855310a09cc8190ac9701b2d4d208db \"HTTP/1.1 200 OK\"\n",
      " 27%|██▋       | 121/443 [02:06<05:11,  1.03it/s]"
     ]
    },
    {
     "name": "stdout",
     "output_type": "stream",
     "text": [
      "处理完成，结果保存在output/batch_results_121.jsonl\n"
     ]
    },
    {
     "name": "stderr",
     "output_type": "stream",
     "text": [
      "INFO:httpx:HTTP Request: GET https://api.openai.com/v1/batches/batch_685531186eac8190994037c5866e2e79 \"HTTP/1.1 200 OK\"\n",
      " 28%|██▊       | 122/443 [02:08<05:23,  1.01s/it]"
     ]
    },
    {
     "name": "stdout",
     "output_type": "stream",
     "text": [
      "处理完成，结果保存在output/batch_results_122.jsonl\n"
     ]
    },
    {
     "name": "stderr",
     "output_type": "stream",
     "text": [
      "INFO:httpx:HTTP Request: GET https://api.openai.com/v1/batches/batch_6855311e45bc819086b23b547de5a483 \"HTTP/1.1 200 OK\"\n",
      " 28%|██▊       | 123/443 [02:09<05:58,  1.12s/it]"
     ]
    },
    {
     "name": "stdout",
     "output_type": "stream",
     "text": [
      "处理完成，结果保存在output/batch_results_123.jsonl\n"
     ]
    },
    {
     "name": "stderr",
     "output_type": "stream",
     "text": [
      "INFO:httpx:HTTP Request: GET https://api.openai.com/v1/batches/batch_6855316c67a08190a5849b27f68916be \"HTTP/1.1 200 OK\"\n",
      " 28%|██▊       | 124/443 [02:09<04:34,  1.16it/s]"
     ]
    },
    {
     "name": "stdout",
     "output_type": "stream",
     "text": [
      "Batch 作业验证或执行失败，错误信息： Errors(data=[BatchError(code='maximum_input_file_size_exceeded', line=None, message='The batch input file is larger than the 209715200 maximum for the gpt-4o model. Please try again with a smaller batch.', param=None)], object='list')\n"
     ]
    },
    {
     "name": "stderr",
     "output_type": "stream",
     "text": [
      "INFO:httpx:HTTP Request: GET https://api.openai.com/v1/batches/batch_6855319f860081908736357795e1c66d \"HTTP/1.1 200 OK\"\n",
      " 28%|██▊       | 125/443 [02:10<04:46,  1.11it/s]"
     ]
    },
    {
     "name": "stdout",
     "output_type": "stream",
     "text": [
      "处理完成，结果保存在output/batch_results_125.jsonl\n"
     ]
    },
    {
     "name": "stderr",
     "output_type": "stream",
     "text": [
      "INFO:httpx:HTTP Request: GET https://api.openai.com/v1/batches/batch_685531ad28f48190b4aa86f973f9cf71 \"HTTP/1.1 200 OK\"\n",
      " 28%|██▊       | 126/443 [02:11<05:02,  1.05it/s]"
     ]
    },
    {
     "name": "stdout",
     "output_type": "stream",
     "text": [
      "处理完成，结果保存在output/batch_results_126.jsonl\n"
     ]
    },
    {
     "name": "stderr",
     "output_type": "stream",
     "text": [
      "INFO:httpx:HTTP Request: GET https://api.openai.com/v1/batches/batch_685531c52a388190b3c30d544aa753a5 \"HTTP/1.1 200 OK\"\n",
      " 29%|██▊       | 127/443 [02:12<05:12,  1.01it/s]"
     ]
    },
    {
     "name": "stdout",
     "output_type": "stream",
     "text": [
      "处理完成，结果保存在output/batch_results_127.jsonl\n"
     ]
    },
    {
     "name": "stderr",
     "output_type": "stream",
     "text": [
      "INFO:httpx:HTTP Request: GET https://api.openai.com/v1/batches/batch_685531e53454819090ee505c891fad4d \"HTTP/1.1 200 OK\"\n",
      " 29%|██▉       | 128/443 [02:13<04:58,  1.05it/s]"
     ]
    },
    {
     "name": "stdout",
     "output_type": "stream",
     "text": [
      "处理完成，结果保存在output/batch_results_128.jsonl\n"
     ]
    },
    {
     "name": "stderr",
     "output_type": "stream",
     "text": [
      "INFO:httpx:HTTP Request: GET https://api.openai.com/v1/batches/batch_685532027bc081909d27375a9424bdf4 \"HTTP/1.1 200 OK\"\n",
      " 29%|██▉       | 129/443 [02:14<04:52,  1.07it/s]"
     ]
    },
    {
     "name": "stdout",
     "output_type": "stream",
     "text": [
      "处理完成，结果保存在output/batch_results_129.jsonl\n"
     ]
    },
    {
     "name": "stderr",
     "output_type": "stream",
     "text": [
      "INFO:httpx:HTTP Request: GET https://api.openai.com/v1/batches/batch_6855321272348190bc61258972717954 \"HTTP/1.1 200 OK\"\n",
      " 29%|██▉       | 130/443 [02:15<04:48,  1.08it/s]"
     ]
    },
    {
     "name": "stdout",
     "output_type": "stream",
     "text": [
      "处理完成，结果保存在output/batch_results_130.jsonl\n"
     ]
    },
    {
     "name": "stderr",
     "output_type": "stream",
     "text": [
      "INFO:httpx:HTTP Request: GET https://api.openai.com/v1/batches/batch_6855321895ac8190a29d5454ad296164 \"HTTP/1.1 200 OK\"\n",
      " 30%|██▉       | 131/443 [02:16<04:42,  1.11it/s]"
     ]
    },
    {
     "name": "stdout",
     "output_type": "stream",
     "text": [
      "处理完成，结果保存在output/batch_results_131.jsonl\n"
     ]
    },
    {
     "name": "stderr",
     "output_type": "stream",
     "text": [
      "INFO:httpx:HTTP Request: GET https://api.openai.com/v1/batches/batch_68553229034881908960609930ad9584 \"HTTP/1.1 200 OK\"\n",
      " 30%|██▉       | 132/443 [02:17<05:03,  1.03it/s]"
     ]
    },
    {
     "name": "stdout",
     "output_type": "stream",
     "text": [
      "处理完成，结果保存在output/batch_results_132.jsonl\n"
     ]
    },
    {
     "name": "stderr",
     "output_type": "stream",
     "text": [
      "INFO:httpx:HTTP Request: GET https://api.openai.com/v1/batches/batch_6855322fbc44819098254e321dc9635d \"HTTP/1.1 200 OK\"\n",
      " 30%|███       | 133/443 [02:18<05:14,  1.02s/it]"
     ]
    },
    {
     "name": "stdout",
     "output_type": "stream",
     "text": [
      "处理完成，结果保存在output/batch_results_133.jsonl\n"
     ]
    },
    {
     "name": "stderr",
     "output_type": "stream",
     "text": [
      "INFO:httpx:HTTP Request: GET https://api.openai.com/v1/batches/batch_6855323a872c819085e263f80869371f \"HTTP/1.1 200 OK\"\n",
      " 30%|███       | 134/443 [02:19<05:14,  1.02s/it]"
     ]
    },
    {
     "name": "stdout",
     "output_type": "stream",
     "text": [
      "处理完成，结果保存在output/batch_results_134.jsonl\n"
     ]
    },
    {
     "name": "stderr",
     "output_type": "stream",
     "text": [
      "INFO:httpx:HTTP Request: GET https://api.openai.com/v1/batches/batch_68553256e7cc8190b11b954b2faaf8d9 \"HTTP/1.1 200 OK\"\n",
      " 30%|███       | 135/443 [02:20<04:54,  1.04it/s]"
     ]
    },
    {
     "name": "stdout",
     "output_type": "stream",
     "text": [
      "处理完成，结果保存在output/batch_results_135.jsonl\n"
     ]
    },
    {
     "name": "stderr",
     "output_type": "stream",
     "text": [
      "INFO:httpx:HTTP Request: GET https://api.openai.com/v1/batches/batch_68553260cba081909b3885baee4b0e1f \"HTTP/1.1 200 OK\"\n",
      " 31%|███       | 136/443 [02:21<04:39,  1.10it/s]"
     ]
    },
    {
     "name": "stdout",
     "output_type": "stream",
     "text": [
      "处理完成，结果保存在output/batch_results_136.jsonl\n"
     ]
    },
    {
     "name": "stderr",
     "output_type": "stream",
     "text": [
      "INFO:httpx:HTTP Request: GET https://api.openai.com/v1/batches/batch_68553274516c81909daf8668ca4503b8 \"HTTP/1.1 200 OK\"\n",
      " 31%|███       | 137/443 [02:22<04:37,  1.10it/s]"
     ]
    },
    {
     "name": "stdout",
     "output_type": "stream",
     "text": [
      "处理完成，结果保存在output/batch_results_137.jsonl\n"
     ]
    },
    {
     "name": "stderr",
     "output_type": "stream",
     "text": [
      "INFO:httpx:HTTP Request: GET https://api.openai.com/v1/batches/batch_6855328c514881908cd4d9cb1657eafb \"HTTP/1.1 200 OK\"\n",
      " 31%|███       | 138/443 [02:23<05:08,  1.01s/it]"
     ]
    },
    {
     "name": "stdout",
     "output_type": "stream",
     "text": [
      "处理完成，结果保存在output/batch_results_138.jsonl\n"
     ]
    },
    {
     "name": "stderr",
     "output_type": "stream",
     "text": [
      "INFO:httpx:HTTP Request: GET https://api.openai.com/v1/batches/batch_6855329e91108190a0bb5b16252fbcfb \"HTTP/1.1 200 OK\"\n",
      " 31%|███▏      | 139/443 [02:24<05:15,  1.04s/it]"
     ]
    },
    {
     "name": "stdout",
     "output_type": "stream",
     "text": [
      "处理完成，结果保存在output/batch_results_139.jsonl\n"
     ]
    },
    {
     "name": "stderr",
     "output_type": "stream",
     "text": [
      "INFO:httpx:HTTP Request: GET https://api.openai.com/v1/batches/batch_685532cf2c288190a7284180f7786a5d \"HTTP/1.1 200 OK\"\n",
      " 32%|███▏      | 140/443 [02:25<05:03,  1.00s/it]"
     ]
    },
    {
     "name": "stdout",
     "output_type": "stream",
     "text": [
      "处理完成，结果保存在output/batch_results_140.jsonl\n"
     ]
    },
    {
     "name": "stderr",
     "output_type": "stream",
     "text": [
      "INFO:httpx:HTTP Request: GET https://api.openai.com/v1/batches/batch_685532e2fb488190984a97a8ed93f4f7 \"HTTP/1.1 200 OK\"\n",
      " 32%|███▏      | 141/443 [02:26<05:25,  1.08s/it]"
     ]
    },
    {
     "name": "stdout",
     "output_type": "stream",
     "text": [
      "处理完成，结果保存在output/batch_results_141.jsonl\n"
     ]
    },
    {
     "name": "stderr",
     "output_type": "stream",
     "text": [
      "INFO:httpx:HTTP Request: GET https://api.openai.com/v1/batches/batch_68553302095c81909d333c784204fa4d \"HTTP/1.1 200 OK\"\n",
      " 32%|███▏      | 142/443 [02:27<05:19,  1.06s/it]"
     ]
    },
    {
     "name": "stdout",
     "output_type": "stream",
     "text": [
      "处理完成，结果保存在output/batch_results_142.jsonl\n"
     ]
    },
    {
     "name": "stderr",
     "output_type": "stream",
     "text": [
      "INFO:httpx:HTTP Request: GET https://api.openai.com/v1/batches/batch_6855333260f481908b409eb10db6cf6e \"HTTP/1.1 200 OK\"\n",
      " 32%|███▏      | 143/443 [02:28<04:58,  1.00it/s]"
     ]
    },
    {
     "name": "stdout",
     "output_type": "stream",
     "text": [
      "处理完成，结果保存在output/batch_results_143.jsonl\n"
     ]
    },
    {
     "name": "stderr",
     "output_type": "stream",
     "text": [
      "INFO:httpx:HTTP Request: GET https://api.openai.com/v1/batches/batch_68553350e298819093e9139d1cf0abbb \"HTTP/1.1 200 OK\"\n",
      " 33%|███▎      | 144/443 [02:29<04:46,  1.04it/s]"
     ]
    },
    {
     "name": "stdout",
     "output_type": "stream",
     "text": [
      "处理完成，结果保存在output/batch_results_144.jsonl\n"
     ]
    },
    {
     "name": "stderr",
     "output_type": "stream",
     "text": [
      "INFO:httpx:HTTP Request: GET https://api.openai.com/v1/batches/batch_6855335f52dc8190a7a98075fba78c63 \"HTTP/1.1 200 OK\"\n",
      " 33%|███▎      | 145/443 [02:30<04:36,  1.08it/s]"
     ]
    },
    {
     "name": "stdout",
     "output_type": "stream",
     "text": [
      "处理完成，结果保存在output/batch_results_145.jsonl\n"
     ]
    },
    {
     "name": "stderr",
     "output_type": "stream",
     "text": [
      "INFO:httpx:HTTP Request: GET https://api.openai.com/v1/batches/batch_68553381a33881908b8a8061728996e9 \"HTTP/1.1 200 OK\"\n",
      " 33%|███▎      | 146/443 [02:31<04:44,  1.04it/s]"
     ]
    },
    {
     "name": "stdout",
     "output_type": "stream",
     "text": [
      "处理完成，结果保存在output/batch_results_146.jsonl\n"
     ]
    },
    {
     "name": "stderr",
     "output_type": "stream",
     "text": [
      "INFO:httpx:HTTP Request: GET https://api.openai.com/v1/batches/batch_6855339766ac8190b4010b33eda0d75e \"HTTP/1.1 200 OK\"\n",
      " 33%|███▎      | 147/443 [02:32<04:41,  1.05it/s]"
     ]
    },
    {
     "name": "stdout",
     "output_type": "stream",
     "text": [
      "处理完成，结果保存在output/batch_results_147.jsonl\n"
     ]
    },
    {
     "name": "stderr",
     "output_type": "stream",
     "text": [
      "INFO:httpx:HTTP Request: GET https://api.openai.com/v1/batches/batch_6855339f21788190916af56450901d7e \"HTTP/1.1 200 OK\"\n",
      " 33%|███▎      | 148/443 [02:33<04:39,  1.06it/s]"
     ]
    },
    {
     "name": "stdout",
     "output_type": "stream",
     "text": [
      "处理完成，结果保存在output/batch_results_148.jsonl\n"
     ]
    },
    {
     "name": "stderr",
     "output_type": "stream",
     "text": [
      "INFO:httpx:HTTP Request: GET https://api.openai.com/v1/batches/batch_685533ba0d2481908b895254cdf05837 \"HTTP/1.1 200 OK\"\n",
      " 34%|███▎      | 149/443 [02:34<05:40,  1.16s/it]"
     ]
    },
    {
     "name": "stdout",
     "output_type": "stream",
     "text": [
      "处理完成，结果保存在output/batch_results_149.jsonl\n"
     ]
    },
    {
     "name": "stderr",
     "output_type": "stream",
     "text": [
      "INFO:httpx:HTTP Request: GET https://api.openai.com/v1/batches/batch_685533c867508190837fdf51bd3724dc \"HTTP/1.1 200 OK\"\n",
      " 34%|███▍      | 150/443 [02:35<05:41,  1.17s/it]"
     ]
    },
    {
     "name": "stdout",
     "output_type": "stream",
     "text": [
      "处理完成，结果保存在output/batch_results_150.jsonl\n"
     ]
    },
    {
     "name": "stderr",
     "output_type": "stream",
     "text": [
      "INFO:httpx:HTTP Request: GET https://api.openai.com/v1/batches/batch_685533d8f07c819084f1b4941ff38412 \"HTTP/1.1 200 OK\"\n",
      " 34%|███▍      | 151/443 [02:37<05:31,  1.14s/it]"
     ]
    },
    {
     "name": "stdout",
     "output_type": "stream",
     "text": [
      "处理完成，结果保存在output/batch_results_151.jsonl\n"
     ]
    },
    {
     "name": "stderr",
     "output_type": "stream",
     "text": [
      "INFO:httpx:HTTP Request: GET https://api.openai.com/v1/batches/batch_685533eee51c819083d34a29b75e3483 \"HTTP/1.1 200 OK\"\n",
      " 34%|███▍      | 152/443 [02:38<05:28,  1.13s/it]"
     ]
    },
    {
     "name": "stdout",
     "output_type": "stream",
     "text": [
      "处理完成，结果保存在output/batch_results_152.jsonl\n"
     ]
    },
    {
     "name": "stderr",
     "output_type": "stream",
     "text": [
      "INFO:httpx:HTTP Request: GET https://api.openai.com/v1/batches/batch_68553408bc3c8190bb0be6b760401cee \"HTTP/1.1 200 OK\"\n",
      " 35%|███▍      | 153/443 [02:39<05:29,  1.13s/it]"
     ]
    },
    {
     "name": "stdout",
     "output_type": "stream",
     "text": [
      "处理完成，结果保存在output/batch_results_153.jsonl\n"
     ]
    },
    {
     "name": "stderr",
     "output_type": "stream",
     "text": [
      "INFO:httpx:HTTP Request: GET https://api.openai.com/v1/batches/batch_6855341d5a3c81908b7932818b830c4f \"HTTP/1.1 200 OK\"\n",
      " 35%|███▍      | 154/443 [02:40<05:02,  1.05s/it]"
     ]
    },
    {
     "name": "stdout",
     "output_type": "stream",
     "text": [
      "处理完成，结果保存在output/batch_results_154.jsonl\n"
     ]
    },
    {
     "name": "stderr",
     "output_type": "stream",
     "text": [
      "INFO:httpx:HTTP Request: GET https://api.openai.com/v1/batches/batch_6855343089a08190ba82ddbbfad22748 \"HTTP/1.1 200 OK\"\n",
      " 35%|███▍      | 155/443 [02:41<04:57,  1.03s/it]"
     ]
    },
    {
     "name": "stdout",
     "output_type": "stream",
     "text": [
      "处理完成，结果保存在output/batch_results_155.jsonl\n"
     ]
    },
    {
     "name": "stderr",
     "output_type": "stream",
     "text": [
      "INFO:httpx:HTTP Request: GET https://api.openai.com/v1/batches/batch_6855344ce94c8190b390a23b16986bc0 \"HTTP/1.1 200 OK\"\n",
      " 35%|███▌      | 156/443 [02:42<04:50,  1.01s/it]"
     ]
    },
    {
     "name": "stdout",
     "output_type": "stream",
     "text": [
      "处理完成，结果保存在output/batch_results_156.jsonl\n"
     ]
    },
    {
     "name": "stderr",
     "output_type": "stream",
     "text": [
      "INFO:httpx:HTTP Request: GET https://api.openai.com/v1/batches/batch_6855345af8a0819094a8d333d157e96a \"HTTP/1.1 200 OK\"\n",
      " 35%|███▌      | 157/443 [02:42<04:36,  1.04it/s]"
     ]
    },
    {
     "name": "stdout",
     "output_type": "stream",
     "text": [
      "处理完成，结果保存在output/batch_results_157.jsonl\n"
     ]
    },
    {
     "name": "stderr",
     "output_type": "stream",
     "text": [
      "INFO:httpx:HTTP Request: GET https://api.openai.com/v1/batches/batch_6855346438188190a0b3618d4864d3bb \"HTTP/1.1 200 OK\"\n",
      " 36%|███▌      | 158/443 [02:43<04:26,  1.07it/s]"
     ]
    },
    {
     "name": "stdout",
     "output_type": "stream",
     "text": [
      "处理完成，结果保存在output/batch_results_158.jsonl\n"
     ]
    },
    {
     "name": "stderr",
     "output_type": "stream",
     "text": [
      "INFO:httpx:HTTP Request: GET https://api.openai.com/v1/batches/batch_6855348fd6288190bdac83d955593a13 \"HTTP/1.1 200 OK\"\n",
      " 36%|███▌      | 159/443 [02:45<04:55,  1.04s/it]"
     ]
    },
    {
     "name": "stdout",
     "output_type": "stream",
     "text": [
      "处理完成，结果保存在output/batch_results_159.jsonl\n"
     ]
    },
    {
     "name": "stderr",
     "output_type": "stream",
     "text": [
      "INFO:httpx:HTTP Request: GET https://api.openai.com/v1/batches/batch_68553498c77c8190a5056efe869c1c62 \"HTTP/1.1 200 OK\"\n",
      " 36%|███▌      | 160/443 [02:46<05:01,  1.07s/it]"
     ]
    },
    {
     "name": "stdout",
     "output_type": "stream",
     "text": [
      "处理完成，结果保存在output/batch_results_160.jsonl\n"
     ]
    },
    {
     "name": "stderr",
     "output_type": "stream",
     "text": [
      "INFO:httpx:HTTP Request: GET https://api.openai.com/v1/batches/batch_685534a718988190b6670cafd01b1822 \"HTTP/1.1 200 OK\"\n",
      " 36%|███▋      | 161/443 [02:47<04:49,  1.02s/it]"
     ]
    },
    {
     "name": "stdout",
     "output_type": "stream",
     "text": [
      "处理完成，结果保存在output/batch_results_161.jsonl\n"
     ]
    },
    {
     "name": "stderr",
     "output_type": "stream",
     "text": [
      "INFO:httpx:HTTP Request: GET https://api.openai.com/v1/batches/batch_685534adf5cc8190ae443543d85621c6 \"HTTP/1.1 200 OK\"\n",
      " 37%|███▋      | 162/443 [02:48<04:37,  1.01it/s]"
     ]
    },
    {
     "name": "stdout",
     "output_type": "stream",
     "text": [
      "处理完成，结果保存在output/batch_results_162.jsonl\n"
     ]
    },
    {
     "name": "stderr",
     "output_type": "stream",
     "text": [
      "INFO:httpx:HTTP Request: GET https://api.openai.com/v1/batches/batch_685534b8bab88190b37de9682ef65a49 \"HTTP/1.1 200 OK\"\n",
      " 37%|███▋      | 163/443 [02:49<05:06,  1.09s/it]"
     ]
    },
    {
     "name": "stdout",
     "output_type": "stream",
     "text": [
      "处理完成，结果保存在output/batch_results_163.jsonl\n"
     ]
    },
    {
     "name": "stderr",
     "output_type": "stream",
     "text": [
      "INFO:httpx:HTTP Request: GET https://api.openai.com/v1/batches/batch_685534cffd5481909419d57ad86f46f3 \"HTTP/1.1 200 OK\"\n",
      " 37%|███▋      | 164/443 [02:50<04:48,  1.03s/it]"
     ]
    },
    {
     "name": "stdout",
     "output_type": "stream",
     "text": [
      "处理完成，结果保存在output/batch_results_164.jsonl\n"
     ]
    },
    {
     "name": "stderr",
     "output_type": "stream",
     "text": [
      "INFO:httpx:HTTP Request: GET https://api.openai.com/v1/batches/batch_685534d8d5688190b9555b5c68e34f51 \"HTTP/1.1 200 OK\"\n",
      " 37%|███▋      | 165/443 [02:51<04:32,  1.02it/s]"
     ]
    },
    {
     "name": "stdout",
     "output_type": "stream",
     "text": [
      "处理完成，结果保存在output/batch_results_165.jsonl\n"
     ]
    },
    {
     "name": "stderr",
     "output_type": "stream",
     "text": [
      "INFO:httpx:HTTP Request: GET https://api.openai.com/v1/batches/batch_685534ddd5b48190a53e6a09429321fc \"HTTP/1.1 200 OK\"\n",
      " 37%|███▋      | 166/443 [02:52<04:21,  1.06it/s]"
     ]
    },
    {
     "name": "stdout",
     "output_type": "stream",
     "text": [
      "处理完成，结果保存在output/batch_results_166.jsonl\n"
     ]
    },
    {
     "name": "stderr",
     "output_type": "stream",
     "text": [
      "INFO:httpx:HTTP Request: GET https://api.openai.com/v1/batches/batch_685534f26a548190b0b9dd7470726c81 \"HTTP/1.1 200 OK\"\n",
      " 38%|███▊      | 167/443 [02:53<04:44,  1.03s/it]"
     ]
    },
    {
     "name": "stdout",
     "output_type": "stream",
     "text": [
      "处理完成，结果保存在output/batch_results_167.jsonl\n"
     ]
    },
    {
     "name": "stderr",
     "output_type": "stream",
     "text": [
      "INFO:httpx:HTTP Request: GET https://api.openai.com/v1/batches/batch_68553505041881909ec815eabfd04b43 \"HTTP/1.1 200 OK\"\n",
      " 38%|███▊      | 168/443 [02:54<04:40,  1.02s/it]"
     ]
    },
    {
     "name": "stdout",
     "output_type": "stream",
     "text": [
      "处理完成，结果保存在output/batch_results_168.jsonl\n"
     ]
    },
    {
     "name": "stderr",
     "output_type": "stream",
     "text": [
      "INFO:httpx:HTTP Request: GET https://api.openai.com/v1/batches/batch_6855352a5d908190b4225624597e1412 \"HTTP/1.1 200 OK\"\n",
      " 38%|███▊      | 169/443 [02:55<04:50,  1.06s/it]"
     ]
    },
    {
     "name": "stdout",
     "output_type": "stream",
     "text": [
      "处理完成，结果保存在output/batch_results_169.jsonl\n"
     ]
    },
    {
     "name": "stderr",
     "output_type": "stream",
     "text": [
      "INFO:httpx:HTTP Request: GET https://api.openai.com/v1/batches/batch_6855354d18488190a4183283ef7993ff \"HTTP/1.1 200 OK\"\n",
      " 38%|███▊      | 170/443 [02:56<04:39,  1.02s/it]"
     ]
    },
    {
     "name": "stdout",
     "output_type": "stream",
     "text": [
      "处理完成，结果保存在output/batch_results_170.jsonl\n"
     ]
    },
    {
     "name": "stderr",
     "output_type": "stream",
     "text": [
      "INFO:httpx:HTTP Request: GET https://api.openai.com/v1/batches/batch_6855356457ac8190b2b4894bc250103b \"HTTP/1.1 200 OK\"\n",
      " 39%|███▊      | 171/443 [02:57<04:24,  1.03it/s]"
     ]
    },
    {
     "name": "stdout",
     "output_type": "stream",
     "text": [
      "处理完成，结果保存在output/batch_results_171.jsonl\n"
     ]
    },
    {
     "name": "stderr",
     "output_type": "stream",
     "text": [
      "INFO:httpx:HTTP Request: GET https://api.openai.com/v1/batches/batch_685535834c1c8190999e33d5e21988e2 \"HTTP/1.1 200 OK\"\n",
      " 39%|███▉      | 172/443 [02:58<04:23,  1.03it/s]INFO:httpx:HTTP Request: GET https://api.openai.com/v1/batches/batch_6855359a461c8190bd3901b501f022d7 \"HTTP/1.1 200 OK\"\n"
     ]
    },
    {
     "name": "stdout",
     "output_type": "stream",
     "text": [
      "处理完成，结果保存在output/batch_results_172.jsonl\n"
     ]
    },
    {
     "name": "stderr",
     "output_type": "stream",
     "text": [
      " 39%|███▉      | 173/443 [02:59<04:36,  1.02s/it]"
     ]
    },
    {
     "name": "stdout",
     "output_type": "stream",
     "text": [
      "处理完成，结果保存在output/batch_results_173.jsonl\n"
     ]
    },
    {
     "name": "stderr",
     "output_type": "stream",
     "text": [
      "INFO:httpx:HTTP Request: GET https://api.openai.com/v1/batches/batch_685535cce6348190aeb03ecf6aeb8d98 \"HTTP/1.1 200 OK\"\n",
      " 39%|███▉      | 174/443 [03:00<04:23,  1.02it/s]"
     ]
    },
    {
     "name": "stdout",
     "output_type": "stream",
     "text": [
      "处理完成，结果保存在output/batch_results_174.jsonl\n"
     ]
    },
    {
     "name": "stderr",
     "output_type": "stream",
     "text": [
      "INFO:httpx:HTTP Request: GET https://api.openai.com/v1/batches/batch_685535dcf82c81909a0bff37e8144d2f \"HTTP/1.1 200 OK\"\n",
      " 40%|███▉      | 175/443 [03:01<04:22,  1.02it/s]"
     ]
    },
    {
     "name": "stdout",
     "output_type": "stream",
     "text": [
      "处理完成，结果保存在output/batch_results_175.jsonl\n"
     ]
    },
    {
     "name": "stderr",
     "output_type": "stream",
     "text": [
      "INFO:httpx:HTTP Request: GET https://api.openai.com/v1/batches/batch_685535e2e0b4819083ca6828e3a6afab \"HTTP/1.1 200 OK\"\n",
      " 40%|███▉      | 176/443 [03:02<04:15,  1.04it/s]"
     ]
    },
    {
     "name": "stdout",
     "output_type": "stream",
     "text": [
      "处理完成，结果保存在output/batch_results_176.jsonl\n"
     ]
    },
    {
     "name": "stderr",
     "output_type": "stream",
     "text": [
      "INFO:httpx:HTTP Request: GET https://api.openai.com/v1/batches/batch_6855366e1570819089984f95e9355dc6 \"HTTP/1.1 200 OK\"\n",
      " 40%|███▉      | 177/443 [03:02<04:11,  1.06it/s]"
     ]
    },
    {
     "name": "stdout",
     "output_type": "stream",
     "text": [
      "处理完成，结果保存在output/batch_results_177.jsonl\n"
     ]
    },
    {
     "name": "stderr",
     "output_type": "stream",
     "text": [
      "INFO:httpx:HTTP Request: GET https://api.openai.com/v1/batches/batch_68553679701c8190980477085533489f \"HTTP/1.1 200 OK\"\n",
      " 40%|████      | 178/443 [03:03<04:08,  1.06it/s]"
     ]
    },
    {
     "name": "stdout",
     "output_type": "stream",
     "text": [
      "处理完成，结果保存在output/batch_results_178.jsonl\n"
     ]
    },
    {
     "name": "stderr",
     "output_type": "stream",
     "text": [
      "INFO:httpx:HTTP Request: GET https://api.openai.com/v1/batches/batch_6855368832c881909fa49f17945671ed \"HTTP/1.1 200 OK\"\n",
      " 40%|████      | 179/443 [03:04<04:05,  1.08it/s]"
     ]
    },
    {
     "name": "stdout",
     "output_type": "stream",
     "text": [
      "处理完成，结果保存在output/batch_results_179.jsonl\n"
     ]
    },
    {
     "name": "stderr",
     "output_type": "stream",
     "text": [
      "INFO:httpx:HTTP Request: GET https://api.openai.com/v1/batches/batch_685536acd46c8190b495f228c571d816 \"HTTP/1.1 200 OK\"\n",
      " 41%|████      | 180/443 [03:05<04:05,  1.07it/s]"
     ]
    },
    {
     "name": "stdout",
     "output_type": "stream",
     "text": [
      "处理完成，结果保存在output/batch_results_180.jsonl\n"
     ]
    },
    {
     "name": "stderr",
     "output_type": "stream",
     "text": [
      "INFO:httpx:HTTP Request: GET https://api.openai.com/v1/batches/batch_685536b6976081909cb5397a90ab6a1c \"HTTP/1.1 200 OK\"\n",
      " 41%|████      | 181/443 [03:06<03:57,  1.10it/s]"
     ]
    },
    {
     "name": "stdout",
     "output_type": "stream",
     "text": [
      "处理完成，结果保存在output/batch_results_181.jsonl\n"
     ]
    },
    {
     "name": "stderr",
     "output_type": "stream",
     "text": [
      "INFO:httpx:HTTP Request: GET https://api.openai.com/v1/batches/batch_685536c5922c8190ba204c0bb5d54bee \"HTTP/1.1 200 OK\"\n",
      " 41%|████      | 182/443 [03:07<03:56,  1.11it/s]"
     ]
    },
    {
     "name": "stdout",
     "output_type": "stream",
     "text": [
      "处理完成，结果保存在output/batch_results_182.jsonl\n"
     ]
    },
    {
     "name": "stderr",
     "output_type": "stream",
     "text": [
      "INFO:httpx:HTTP Request: GET https://api.openai.com/v1/batches/batch_685536ceaf30819082f8c20c1dd2aa66 \"HTTP/1.1 200 OK\"\n",
      " 41%|████▏     | 183/443 [03:08<04:19,  1.00it/s]"
     ]
    },
    {
     "name": "stdout",
     "output_type": "stream",
     "text": [
      "处理完成，结果保存在output/batch_results_183.jsonl\n"
     ]
    },
    {
     "name": "stderr",
     "output_type": "stream",
     "text": [
      "INFO:httpx:HTTP Request: GET https://api.openai.com/v1/batches/batch_685536e3f8d08190809df90219bdf4ac \"HTTP/1.1 200 OK\"\n",
      " 42%|████▏     | 184/443 [03:09<04:25,  1.03s/it]"
     ]
    },
    {
     "name": "stdout",
     "output_type": "stream",
     "text": [
      "处理完成，结果保存在output/batch_results_184.jsonl\n"
     ]
    },
    {
     "name": "stderr",
     "output_type": "stream",
     "text": [
      "INFO:httpx:HTTP Request: GET https://api.openai.com/v1/batches/batch_685536ffcdcc819081242d796117b12d \"HTTP/1.1 200 OK\"\n",
      " 42%|████▏     | 185/443 [03:10<04:28,  1.04s/it]"
     ]
    },
    {
     "name": "stdout",
     "output_type": "stream",
     "text": [
      "处理完成，结果保存在output/batch_results_185.jsonl\n"
     ]
    },
    {
     "name": "stderr",
     "output_type": "stream",
     "text": [
      "INFO:httpx:HTTP Request: GET https://api.openai.com/v1/batches/batch_6855371578a0819082c34e7160e9307e \"HTTP/1.1 200 OK\"\n",
      " 42%|████▏     | 186/443 [03:11<04:21,  1.02s/it]"
     ]
    },
    {
     "name": "stdout",
     "output_type": "stream",
     "text": [
      "处理完成，结果保存在output/batch_results_186.jsonl\n"
     ]
    },
    {
     "name": "stderr",
     "output_type": "stream",
     "text": [
      "INFO:httpx:HTTP Request: GET https://api.openai.com/v1/batches/batch_6855372619e88190a11a606b0d8724bf \"HTTP/1.1 200 OK\"\n",
      " 42%|████▏     | 187/443 [03:12<04:12,  1.01it/s]"
     ]
    },
    {
     "name": "stdout",
     "output_type": "stream",
     "text": [
      "处理完成，结果保存在output/batch_results_187.jsonl\n"
     ]
    },
    {
     "name": "stderr",
     "output_type": "stream",
     "text": [
      "INFO:httpx:HTTP Request: GET https://api.openai.com/v1/batches/batch_68553756a88081908c09e740d0679e18 \"HTTP/1.1 200 OK\"\n",
      " 42%|████▏     | 188/443 [03:14<05:14,  1.23s/it]"
     ]
    },
    {
     "name": "stdout",
     "output_type": "stream",
     "text": [
      "处理完成，结果保存在output/batch_results_188.jsonl\n"
     ]
    },
    {
     "name": "stderr",
     "output_type": "stream",
     "text": [
      "INFO:httpx:HTTP Request: GET https://api.openai.com/v1/batches/batch_685537659080819097d8586b19d68426 \"HTTP/1.1 200 OK\"\n",
      " 43%|████▎     | 189/443 [03:15<04:52,  1.15s/it]"
     ]
    },
    {
     "name": "stdout",
     "output_type": "stream",
     "text": [
      "处理完成，结果保存在output/batch_results_189.jsonl\n"
     ]
    },
    {
     "name": "stderr",
     "output_type": "stream",
     "text": [
      "INFO:httpx:HTTP Request: GET https://api.openai.com/v1/batches/batch_68553773db088190a0a91e10c56a8632 \"HTTP/1.1 200 OK\"\n",
      " 43%|████▎     | 190/443 [03:16<05:06,  1.21s/it]"
     ]
    },
    {
     "name": "stdout",
     "output_type": "stream",
     "text": [
      "处理完成，结果保存在output/batch_results_190.jsonl\n"
     ]
    },
    {
     "name": "stderr",
     "output_type": "stream",
     "text": [
      "INFO:httpx:HTTP Request: GET https://api.openai.com/v1/batches/batch_6855378190e481909f0e6917840a537b \"HTTP/1.1 200 OK\"\n",
      " 43%|████▎     | 191/443 [03:17<04:48,  1.15s/it]"
     ]
    },
    {
     "name": "stdout",
     "output_type": "stream",
     "text": [
      "处理完成，结果保存在output/batch_results_191.jsonl\n"
     ]
    },
    {
     "name": "stderr",
     "output_type": "stream",
     "text": [
      "INFO:httpx:HTTP Request: GET https://api.openai.com/v1/batches/batch_68553786e0c8819092fa937a8b7d3a22 \"HTTP/1.1 200 OK\"\n",
      " 43%|████▎     | 192/443 [03:19<04:53,  1.17s/it]"
     ]
    },
    {
     "name": "stdout",
     "output_type": "stream",
     "text": [
      "处理完成，结果保存在output/batch_results_192.jsonl\n"
     ]
    },
    {
     "name": "stderr",
     "output_type": "stream",
     "text": [
      "INFO:httpx:HTTP Request: GET https://api.openai.com/v1/batches/batch_6855378fe044819091938c79d46015f4 \"HTTP/1.1 200 OK\"\n",
      " 44%|████▎     | 193/443 [03:20<04:50,  1.16s/it]"
     ]
    },
    {
     "name": "stdout",
     "output_type": "stream",
     "text": [
      "处理完成，结果保存在output/batch_results_193.jsonl\n"
     ]
    },
    {
     "name": "stderr",
     "output_type": "stream",
     "text": [
      "INFO:httpx:HTTP Request: GET https://api.openai.com/v1/batches/batch_68553798cdbc8190b41e0fb9928936ef \"HTTP/1.1 200 OK\"\n",
      " 44%|████▍     | 194/443 [03:21<04:37,  1.11s/it]"
     ]
    },
    {
     "name": "stdout",
     "output_type": "stream",
     "text": [
      "处理完成，结果保存在output/batch_results_194.jsonl\n"
     ]
    },
    {
     "name": "stderr",
     "output_type": "stream",
     "text": [
      "INFO:httpx:HTTP Request: GET https://api.openai.com/v1/batches/batch_685537a9d8a081909662467451a21d1f \"HTTP/1.1 200 OK\"\n",
      " 44%|████▍     | 195/443 [03:22<04:28,  1.08s/it]"
     ]
    },
    {
     "name": "stdout",
     "output_type": "stream",
     "text": [
      "处理完成，结果保存在output/batch_results_195.jsonl\n"
     ]
    },
    {
     "name": "stderr",
     "output_type": "stream",
     "text": [
      "INFO:httpx:HTTP Request: GET https://api.openai.com/v1/batches/batch_685537ceca008190936bdba3dd9cb801 \"HTTP/1.1 200 OK\"\n",
      " 44%|████▍     | 196/443 [03:23<04:36,  1.12s/it]"
     ]
    },
    {
     "name": "stdout",
     "output_type": "stream",
     "text": [
      "处理完成，结果保存在output/batch_results_196.jsonl\n"
     ]
    },
    {
     "name": "stderr",
     "output_type": "stream",
     "text": [
      "INFO:httpx:HTTP Request: GET https://api.openai.com/v1/batches/batch_685537da7c848190b420dc97440b2a71 \"HTTP/1.1 200 OK\"\n",
      " 44%|████▍     | 197/443 [03:24<04:38,  1.13s/it]"
     ]
    },
    {
     "name": "stdout",
     "output_type": "stream",
     "text": [
      "处理完成，结果保存在output/batch_results_197.jsonl\n"
     ]
    },
    {
     "name": "stderr",
     "output_type": "stream",
     "text": [
      "INFO:httpx:HTTP Request: GET https://api.openai.com/v1/batches/batch_685537de34dc8190ad4ab18a9aaabd1c \"HTTP/1.1 200 OK\"\n",
      " 45%|████▍     | 198/443 [03:25<04:18,  1.05s/it]"
     ]
    },
    {
     "name": "stdout",
     "output_type": "stream",
     "text": [
      "处理完成，结果保存在output/batch_results_198.jsonl\n"
     ]
    },
    {
     "name": "stderr",
     "output_type": "stream",
     "text": [
      "INFO:httpx:HTTP Request: GET https://api.openai.com/v1/batches/batch_685538036a488190ad29044491108f3d \"HTTP/1.1 200 OK\"\n",
      " 45%|████▍     | 199/443 [03:26<04:03,  1.00it/s]"
     ]
    },
    {
     "name": "stdout",
     "output_type": "stream",
     "text": [
      "处理完成，结果保存在output/batch_results_199.jsonl\n"
     ]
    },
    {
     "name": "stderr",
     "output_type": "stream",
     "text": [
      "INFO:httpx:HTTP Request: GET https://api.openai.com/v1/batches/batch_68553828281c8190b49e5b4bb8218707 \"HTTP/1.1 200 OK\"\n",
      " 45%|████▌     | 200/443 [03:27<04:08,  1.02s/it]"
     ]
    },
    {
     "name": "stdout",
     "output_type": "stream",
     "text": [
      "处理完成，结果保存在output/batch_results_200.jsonl\n"
     ]
    },
    {
     "name": "stderr",
     "output_type": "stream",
     "text": [
      "INFO:httpx:HTTP Request: GET https://api.openai.com/v1/batches/batch_68553831a41481908a171d97015d74c5 \"HTTP/1.1 200 OK\"\n",
      " 45%|████▌     | 201/443 [03:28<04:00,  1.01it/s]"
     ]
    },
    {
     "name": "stdout",
     "output_type": "stream",
     "text": [
      "处理完成，结果保存在output/batch_results_201.jsonl\n"
     ]
    },
    {
     "name": "stderr",
     "output_type": "stream",
     "text": [
      "INFO:httpx:HTTP Request: GET https://api.openai.com/v1/batches/batch_6855386698088190a9cebd7b15c291d3 \"HTTP/1.1 200 OK\"\n",
      " 46%|████▌     | 202/443 [03:29<04:27,  1.11s/it]"
     ]
    },
    {
     "name": "stdout",
     "output_type": "stream",
     "text": [
      "处理完成，结果保存在output/batch_results_202.jsonl\n"
     ]
    },
    {
     "name": "stderr",
     "output_type": "stream",
     "text": [
      "INFO:httpx:HTTP Request: GET https://api.openai.com/v1/batches/batch_6855387aee108190bff5c4028ff2b65e \"HTTP/1.1 200 OK\"\n",
      " 46%|████▌     | 203/443 [03:30<04:10,  1.04s/it]"
     ]
    },
    {
     "name": "stdout",
     "output_type": "stream",
     "text": [
      "处理完成，结果保存在output/batch_results_203.jsonl\n"
     ]
    },
    {
     "name": "stderr",
     "output_type": "stream",
     "text": [
      "INFO:httpx:HTTP Request: GET https://api.openai.com/v1/batches/batch_6855389666ec819092192db52c2fcee6 \"HTTP/1.1 200 OK\"\n",
      " 46%|████▌     | 204/443 [03:31<04:26,  1.11s/it]"
     ]
    },
    {
     "name": "stdout",
     "output_type": "stream",
     "text": [
      "处理完成，结果保存在output/batch_results_204.jsonl\n"
     ]
    },
    {
     "name": "stderr",
     "output_type": "stream",
     "text": [
      "INFO:httpx:HTTP Request: GET https://api.openai.com/v1/batches/batch_685538aa65788190b35ec35a8f465625 \"HTTP/1.1 200 OK\"\n",
      " 46%|████▋     | 205/443 [03:32<04:04,  1.03s/it]"
     ]
    },
    {
     "name": "stdout",
     "output_type": "stream",
     "text": [
      "处理完成，结果保存在output/batch_results_205.jsonl\n"
     ]
    },
    {
     "name": "stderr",
     "output_type": "stream",
     "text": [
      "INFO:httpx:HTTP Request: GET https://api.openai.com/v1/batches/batch_685538ca42908190be3154d5bdc86593 \"HTTP/1.1 200 OK\"\n",
      " 47%|████▋     | 206/443 [03:32<03:06,  1.27it/s]"
     ]
    },
    {
     "name": "stdout",
     "output_type": "stream",
     "text": [
      "Batch 作业验证或执行失败，错误信息： Errors(data=[BatchError(code='maximum_input_file_size_exceeded', line=None, message='The batch input file is larger than the 209715200 maximum for the gpt-4o model. Please try again with a smaller batch.', param=None)], object='list')\n"
     ]
    },
    {
     "name": "stderr",
     "output_type": "stream",
     "text": [
      "INFO:httpx:HTTP Request: GET https://api.openai.com/v1/batches/batch_685538f21d3c8190bd343c091ed2393a \"HTTP/1.1 200 OK\"\n",
      " 47%|████▋     | 207/443 [03:34<03:54,  1.01it/s]"
     ]
    },
    {
     "name": "stdout",
     "output_type": "stream",
     "text": [
      "处理完成，结果保存在output/batch_results_207.jsonl\n"
     ]
    },
    {
     "name": "stderr",
     "output_type": "stream",
     "text": [
      "INFO:httpx:HTTP Request: GET https://api.openai.com/v1/batches/batch_685538f826488190aef53fff396c60aa \"HTTP/1.1 200 OK\"\n",
      " 47%|████▋     | 208/443 [03:35<03:51,  1.02it/s]"
     ]
    },
    {
     "name": "stdout",
     "output_type": "stream",
     "text": [
      "处理完成，结果保存在output/batch_results_208.jsonl\n"
     ]
    },
    {
     "name": "stderr",
     "output_type": "stream",
     "text": [
      "INFO:httpx:HTTP Request: GET https://api.openai.com/v1/batches/batch_6855390f8d948190b2cf8d566b952de0 \"HTTP/1.1 200 OK\"\n",
      " 47%|████▋     | 209/443 [03:36<04:07,  1.06s/it]"
     ]
    },
    {
     "name": "stdout",
     "output_type": "stream",
     "text": [
      "处理完成，结果保存在output/batch_results_209.jsonl\n"
     ]
    },
    {
     "name": "stderr",
     "output_type": "stream",
     "text": [
      "INFO:httpx:HTTP Request: GET https://api.openai.com/v1/batches/batch_68553919b2788190b5f0d69ee0f01ccd \"HTTP/1.1 200 OK\"\n",
      " 47%|████▋     | 210/443 [03:37<04:10,  1.07s/it]"
     ]
    },
    {
     "name": "stdout",
     "output_type": "stream",
     "text": [
      "处理完成，结果保存在output/batch_results_210.jsonl\n"
     ]
    },
    {
     "name": "stderr",
     "output_type": "stream",
     "text": [
      "INFO:httpx:HTTP Request: GET https://api.openai.com/v1/batches/batch_685539292dd88190a7c12bf7266549aa \"HTTP/1.1 200 OK\"\n",
      " 48%|████▊     | 211/443 [03:38<03:56,  1.02s/it]"
     ]
    },
    {
     "name": "stdout",
     "output_type": "stream",
     "text": [
      "处理完成，结果保存在output/batch_results_211.jsonl\n"
     ]
    },
    {
     "name": "stderr",
     "output_type": "stream",
     "text": [
      "INFO:httpx:HTTP Request: GET https://api.openai.com/v1/batches/batch_6855394535e0819086caed1afb10999a \"HTTP/1.1 200 OK\"\n",
      " 48%|████▊     | 212/443 [03:39<03:45,  1.03it/s]"
     ]
    },
    {
     "name": "stdout",
     "output_type": "stream",
     "text": [
      "处理完成，结果保存在output/batch_results_212.jsonl\n"
     ]
    },
    {
     "name": "stderr",
     "output_type": "stream",
     "text": [
      "INFO:httpx:HTTP Request: GET https://api.openai.com/v1/batches/batch_68553957c08081909a6f70102e0701d0 \"HTTP/1.1 200 OK\"\n",
      " 48%|████▊     | 213/443 [03:40<03:54,  1.02s/it]"
     ]
    },
    {
     "name": "stdout",
     "output_type": "stream",
     "text": [
      "处理完成，结果保存在output/batch_results_213.jsonl\n"
     ]
    },
    {
     "name": "stderr",
     "output_type": "stream",
     "text": [
      "INFO:httpx:HTTP Request: GET https://api.openai.com/v1/batches/batch_68553962ed4c8190a9531cb240f74b5a \"HTTP/1.1 200 OK\"\n",
      " 48%|████▊     | 214/443 [03:41<03:48,  1.00it/s]"
     ]
    },
    {
     "name": "stdout",
     "output_type": "stream",
     "text": [
      "处理完成，结果保存在output/batch_results_214.jsonl\n"
     ]
    },
    {
     "name": "stderr",
     "output_type": "stream",
     "text": [
      "INFO:httpx:HTTP Request: GET https://api.openai.com/v1/batches/batch_6855397078688190b5de7e06e81e3213 \"HTTP/1.1 200 OK\"\n",
      " 49%|████▊     | 215/443 [03:42<03:37,  1.05it/s]"
     ]
    },
    {
     "name": "stdout",
     "output_type": "stream",
     "text": [
      "处理完成，结果保存在output/batch_results_215.jsonl\n"
     ]
    },
    {
     "name": "stderr",
     "output_type": "stream",
     "text": [
      "INFO:httpx:HTTP Request: GET https://api.openai.com/v1/batches/batch_685539a2a3548190a41538e62db8aabb \"HTTP/1.1 200 OK\"\n",
      " 49%|████▉     | 216/443 [03:43<03:34,  1.06it/s]"
     ]
    },
    {
     "name": "stdout",
     "output_type": "stream",
     "text": [
      "处理完成，结果保存在output/batch_results_216.jsonl\n"
     ]
    },
    {
     "name": "stderr",
     "output_type": "stream",
     "text": [
      "INFO:httpx:HTTP Request: GET https://api.openai.com/v1/batches/batch_685539bf5ddc8190962352c857a95d3a \"HTTP/1.1 200 OK\"\n",
      " 49%|████▉     | 217/443 [03:44<03:24,  1.10it/s]"
     ]
    },
    {
     "name": "stdout",
     "output_type": "stream",
     "text": [
      "处理完成，结果保存在output/batch_results_217.jsonl\n"
     ]
    },
    {
     "name": "stderr",
     "output_type": "stream",
     "text": [
      "INFO:httpx:HTTP Request: GET https://api.openai.com/v1/batches/batch_685539d8e1988190868d82ff40ad7fac \"HTTP/1.1 200 OK\"\n",
      " 49%|████▉     | 218/443 [03:44<03:17,  1.14it/s]"
     ]
    },
    {
     "name": "stdout",
     "output_type": "stream",
     "text": [
      "处理完成，结果保存在output/batch_results_218.jsonl\n"
     ]
    },
    {
     "name": "stderr",
     "output_type": "stream",
     "text": [
      "INFO:httpx:HTTP Request: GET https://api.openai.com/v1/batches/batch_685539e8a7c8819094bda2ee65836285 \"HTTP/1.1 200 OK\"\n",
      " 49%|████▉     | 219/443 [03:45<03:17,  1.13it/s]"
     ]
    },
    {
     "name": "stdout",
     "output_type": "stream",
     "text": [
      "处理完成，结果保存在output/batch_results_219.jsonl\n"
     ]
    },
    {
     "name": "stderr",
     "output_type": "stream",
     "text": [
      "INFO:httpx:HTTP Request: GET https://api.openai.com/v1/batches/batch_68553a0a4c50819088ee82c1f343f436 \"HTTP/1.1 200 OK\"\n",
      " 50%|████▉     | 220/443 [03:47<03:39,  1.02it/s]"
     ]
    },
    {
     "name": "stdout",
     "output_type": "stream",
     "text": [
      "处理完成，结果保存在output/batch_results_220.jsonl\n"
     ]
    },
    {
     "name": "stderr",
     "output_type": "stream",
     "text": [
      "INFO:httpx:HTTP Request: GET https://api.openai.com/v1/batches/batch_68553a19e8588190a1bb3b22c7c25a93 \"HTTP/1.1 200 OK\"\n",
      " 50%|████▉     | 221/443 [03:48<03:33,  1.04it/s]"
     ]
    },
    {
     "name": "stdout",
     "output_type": "stream",
     "text": [
      "处理完成，结果保存在output/batch_results_221.jsonl\n"
     ]
    },
    {
     "name": "stderr",
     "output_type": "stream",
     "text": [
      "INFO:httpx:HTTP Request: GET https://api.openai.com/v1/batches/batch_68553a299210819087128a565ea1eba6 \"HTTP/1.1 200 OK\"\n",
      " 50%|█████     | 222/443 [03:49<03:52,  1.05s/it]"
     ]
    },
    {
     "name": "stdout",
     "output_type": "stream",
     "text": [
      "处理完成，结果保存在output/batch_results_222.jsonl\n"
     ]
    },
    {
     "name": "stderr",
     "output_type": "stream",
     "text": [
      "INFO:httpx:HTTP Request: GET https://api.openai.com/v1/batches/batch_68553a31e0448190a3d8be7e718f2296 \"HTTP/1.1 200 OK\"\n",
      " 50%|█████     | 223/443 [03:50<03:41,  1.01s/it]"
     ]
    },
    {
     "name": "stdout",
     "output_type": "stream",
     "text": [
      "处理完成，结果保存在output/batch_results_223.jsonl\n"
     ]
    },
    {
     "name": "stderr",
     "output_type": "stream",
     "text": [
      "INFO:httpx:HTTP Request: GET https://api.openai.com/v1/batches/batch_68553a3bf92081908336f8b23bbc4cc7 \"HTTP/1.1 200 OK\"\n",
      " 51%|█████     | 224/443 [03:51<03:30,  1.04it/s]"
     ]
    },
    {
     "name": "stdout",
     "output_type": "stream",
     "text": [
      "处理完成，结果保存在output/batch_results_224.jsonl\n"
     ]
    },
    {
     "name": "stderr",
     "output_type": "stream",
     "text": [
      "INFO:httpx:HTTP Request: GET https://api.openai.com/v1/batches/batch_68553a60f8648190b437cdd2a051443a \"HTTP/1.1 200 OK\"\n",
      " 51%|█████     | 225/443 [03:51<03:19,  1.09it/s]"
     ]
    },
    {
     "name": "stdout",
     "output_type": "stream",
     "text": [
      "处理完成，结果保存在output/batch_results_225.jsonl\n"
     ]
    },
    {
     "name": "stderr",
     "output_type": "stream",
     "text": [
      "INFO:httpx:HTTP Request: GET https://api.openai.com/v1/batches/batch_68553a674fb4819087039201d2539bd7 \"HTTP/1.1 200 OK\"\n",
      " 51%|█████     | 226/443 [03:52<03:12,  1.13it/s]"
     ]
    },
    {
     "name": "stdout",
     "output_type": "stream",
     "text": [
      "处理完成，结果保存在output/batch_results_226.jsonl\n"
     ]
    },
    {
     "name": "stderr",
     "output_type": "stream",
     "text": [
      "INFO:httpx:HTTP Request: GET https://api.openai.com/v1/batches/batch_68553a7ec33c81908d27ecc8d55420fc \"HTTP/1.1 200 OK\"\n",
      " 51%|█████     | 227/443 [03:53<03:16,  1.10it/s]"
     ]
    },
    {
     "name": "stdout",
     "output_type": "stream",
     "text": [
      "处理完成，结果保存在output/batch_results_227.jsonl\n"
     ]
    },
    {
     "name": "stderr",
     "output_type": "stream",
     "text": [
      "INFO:httpx:HTTP Request: GET https://api.openai.com/v1/batches/batch_68553a9d23f88190b27d91233131240c \"HTTP/1.1 200 OK\"\n",
      " 51%|█████▏    | 228/443 [03:54<03:39,  1.02s/it]"
     ]
    },
    {
     "name": "stdout",
     "output_type": "stream",
     "text": [
      "处理完成，结果保存在output/batch_results_228.jsonl\n"
     ]
    },
    {
     "name": "stderr",
     "output_type": "stream",
     "text": [
      "INFO:httpx:HTTP Request: GET https://api.openai.com/v1/batches/batch_68553aa6dd6c81909361d3b68e6ac40f \"HTTP/1.1 200 OK\"\n",
      " 52%|█████▏    | 229/443 [03:55<03:27,  1.03it/s]"
     ]
    },
    {
     "name": "stdout",
     "output_type": "stream",
     "text": [
      "处理完成，结果保存在output/batch_results_229.jsonl\n"
     ]
    },
    {
     "name": "stderr",
     "output_type": "stream",
     "text": [
      "INFO:httpx:HTTP Request: GET https://api.openai.com/v1/batches/batch_68553aab82788190b4088c10b7319910 \"HTTP/1.1 200 OK\"\n",
      " 52%|█████▏    | 230/443 [03:56<03:24,  1.04it/s]"
     ]
    },
    {
     "name": "stdout",
     "output_type": "stream",
     "text": [
      "处理完成，结果保存在output/batch_results_230.jsonl\n"
     ]
    },
    {
     "name": "stderr",
     "output_type": "stream",
     "text": [
      "INFO:httpx:HTTP Request: GET https://api.openai.com/v1/batches/batch_68553acab458819092d68c61c5e9086a \"HTTP/1.1 200 OK\"\n",
      " 52%|█████▏    | 231/443 [03:57<03:26,  1.03it/s]"
     ]
    },
    {
     "name": "stdout",
     "output_type": "stream",
     "text": [
      "处理完成，结果保存在output/batch_results_231.jsonl\n"
     ]
    },
    {
     "name": "stderr",
     "output_type": "stream",
     "text": [
      "INFO:httpx:HTTP Request: GET https://api.openai.com/v1/batches/batch_68553adda47c8190860a764e4adfe73f \"HTTP/1.1 200 OK\"\n",
      " 52%|█████▏    | 232/443 [03:59<04:38,  1.32s/it]"
     ]
    },
    {
     "name": "stdout",
     "output_type": "stream",
     "text": [
      "处理完成，结果保存在output/batch_results_232.jsonl\n"
     ]
    },
    {
     "name": "stderr",
     "output_type": "stream",
     "text": [
      "INFO:httpx:HTTP Request: GET https://api.openai.com/v1/batches/batch_68553afb35a4819097b5edfd2a655484 \"HTTP/1.1 200 OK\"\n",
      " 53%|█████▎    | 233/443 [04:01<04:36,  1.32s/it]"
     ]
    },
    {
     "name": "stdout",
     "output_type": "stream",
     "text": [
      "处理完成，结果保存在output/batch_results_233.jsonl\n"
     ]
    },
    {
     "name": "stderr",
     "output_type": "stream",
     "text": [
      "INFO:httpx:HTTP Request: GET https://api.openai.com/v1/batches/batch_68553b1b49cc8190999c3ea2cbc2d4e3 \"HTTP/1.1 200 OK\"\n",
      " 53%|█████▎    | 234/443 [04:01<04:04,  1.17s/it]"
     ]
    },
    {
     "name": "stdout",
     "output_type": "stream",
     "text": [
      "处理完成，结果保存在output/batch_results_234.jsonl\n"
     ]
    },
    {
     "name": "stderr",
     "output_type": "stream",
     "text": [
      "INFO:httpx:HTTP Request: GET https://api.openai.com/v1/batches/batch_68553b2b413c8190a2f55954fdff601b \"HTTP/1.1 200 OK\"\n",
      " 53%|█████▎    | 235/443 [04:02<03:42,  1.07s/it]"
     ]
    },
    {
     "name": "stdout",
     "output_type": "stream",
     "text": [
      "处理完成，结果保存在output/batch_results_235.jsonl\n"
     ]
    },
    {
     "name": "stderr",
     "output_type": "stream",
     "text": [
      "INFO:httpx:HTTP Request: GET https://api.openai.com/v1/batches/batch_68553b665f00819090fbf1d48b28a6bb \"HTTP/1.1 200 OK\"\n",
      " 53%|█████▎    | 236/443 [04:03<03:44,  1.09s/it]"
     ]
    },
    {
     "name": "stdout",
     "output_type": "stream",
     "text": [
      "处理完成，结果保存在output/batch_results_236.jsonl\n"
     ]
    },
    {
     "name": "stderr",
     "output_type": "stream",
     "text": [
      "INFO:httpx:HTTP Request: GET https://api.openai.com/v1/batches/batch_68553b8481ac8190ad94d3d728bd68c2 \"HTTP/1.1 200 OK\"\n",
      " 53%|█████▎    | 237/443 [04:04<03:30,  1.02s/it]"
     ]
    },
    {
     "name": "stdout",
     "output_type": "stream",
     "text": [
      "处理完成，结果保存在output/batch_results_237.jsonl\n"
     ]
    },
    {
     "name": "stderr",
     "output_type": "stream",
     "text": [
      "INFO:httpx:HTTP Request: GET https://api.openai.com/v1/batches/batch_68553babced08190a7eb7d84e24e50de \"HTTP/1.1 200 OK\"\n",
      " 54%|█████▎    | 238/443 [04:05<03:26,  1.01s/it]"
     ]
    },
    {
     "name": "stdout",
     "output_type": "stream",
     "text": [
      "处理完成，结果保存在output/batch_results_238.jsonl\n"
     ]
    },
    {
     "name": "stderr",
     "output_type": "stream",
     "text": [
      "INFO:httpx:HTTP Request: GET https://api.openai.com/v1/batches/batch_68553bc36ff48190856952f14a946060 \"HTTP/1.1 200 OK\"\n",
      " 54%|█████▍    | 239/443 [04:06<03:13,  1.06it/s]"
     ]
    },
    {
     "name": "stdout",
     "output_type": "stream",
     "text": [
      "处理完成，结果保存在output/batch_results_239.jsonl\n"
     ]
    },
    {
     "name": "stderr",
     "output_type": "stream",
     "text": [
      "INFO:httpx:HTTP Request: GET https://api.openai.com/v1/batches/batch_68553bcac8e48190b6096e85894204fe \"HTTP/1.1 200 OK\"\n",
      " 54%|█████▍    | 240/443 [04:07<03:07,  1.08it/s]"
     ]
    },
    {
     "name": "stdout",
     "output_type": "stream",
     "text": [
      "处理完成，结果保存在output/batch_results_240.jsonl\n"
     ]
    },
    {
     "name": "stderr",
     "output_type": "stream",
     "text": [
      "INFO:httpx:HTTP Request: GET https://api.openai.com/v1/batches/batch_68553be7b8488190bd3baa2f4f5c30f0 \"HTTP/1.1 200 OK\"\n",
      " 54%|█████▍    | 241/443 [04:08<03:12,  1.05it/s]INFO:httpx:HTTP Request: GET https://api.openai.com/v1/batches/batch_68553bf1542881909a40af232c105867 \"HTTP/1.1 200 OK\"\n"
     ]
    },
    {
     "name": "stdout",
     "output_type": "stream",
     "text": [
      "处理完成，结果保存在output/batch_results_241.jsonl\n"
     ]
    },
    {
     "name": "stderr",
     "output_type": "stream",
     "text": [
      " 55%|█████▍    | 242/443 [04:09<03:40,  1.10s/it]"
     ]
    },
    {
     "name": "stdout",
     "output_type": "stream",
     "text": [
      "处理完成，结果保存在output/batch_results_242.jsonl\n"
     ]
    },
    {
     "name": "stderr",
     "output_type": "stream",
     "text": [
      "INFO:httpx:HTTP Request: GET https://api.openai.com/v1/batches/batch_68553c01b7088190ab82d55dfdb5e14f \"HTTP/1.1 200 OK\"\n",
      " 55%|█████▍    | 243/443 [04:11<03:41,  1.11s/it]"
     ]
    },
    {
     "name": "stdout",
     "output_type": "stream",
     "text": [
      "处理完成，结果保存在output/batch_results_243.jsonl\n"
     ]
    },
    {
     "name": "stderr",
     "output_type": "stream",
     "text": [
      "INFO:httpx:HTTP Request: GET https://api.openai.com/v1/batches/batch_68553c14da0481909c2988669a9042fd \"HTTP/1.1 200 OK\"\n",
      " 55%|█████▌    | 244/443 [04:11<03:25,  1.03s/it]"
     ]
    },
    {
     "name": "stdout",
     "output_type": "stream",
     "text": [
      "处理完成，结果保存在output/batch_results_244.jsonl\n"
     ]
    },
    {
     "name": "stderr",
     "output_type": "stream",
     "text": [
      "INFO:httpx:HTTP Request: GET https://api.openai.com/v1/batches/batch_68553c25588481909d53e84e7bc6fe7b \"HTTP/1.1 200 OK\"\n",
      " 55%|█████▌    | 245/443 [04:12<03:11,  1.03it/s]"
     ]
    },
    {
     "name": "stdout",
     "output_type": "stream",
     "text": [
      "处理完成，结果保存在output/batch_results_245.jsonl\n"
     ]
    },
    {
     "name": "stderr",
     "output_type": "stream",
     "text": [
      "INFO:httpx:HTTP Request: GET https://api.openai.com/v1/batches/batch_68553c330d2881909d4a86c8607b3772 \"HTTP/1.1 200 OK\"\n",
      " 56%|█████▌    | 246/443 [04:13<03:11,  1.03it/s]"
     ]
    },
    {
     "name": "stdout",
     "output_type": "stream",
     "text": [
      "处理完成，结果保存在output/batch_results_246.jsonl\n"
     ]
    },
    {
     "name": "stderr",
     "output_type": "stream",
     "text": [
      "INFO:httpx:HTTP Request: GET https://api.openai.com/v1/batches/batch_68553c4342a08190a9719a038ff4b146 \"HTTP/1.1 200 OK\"\n",
      " 56%|█████▌    | 247/443 [04:14<03:17,  1.01s/it]"
     ]
    },
    {
     "name": "stdout",
     "output_type": "stream",
     "text": [
      "处理完成，结果保存在output/batch_results_247.jsonl\n"
     ]
    },
    {
     "name": "stderr",
     "output_type": "stream",
     "text": [
      "INFO:httpx:HTTP Request: GET https://api.openai.com/v1/batches/batch_68553c6b5b1081909e209cc152d1c989 \"HTTP/1.1 200 OK\"\n",
      " 56%|█████▌    | 248/443 [04:15<03:12,  1.01it/s]"
     ]
    },
    {
     "name": "stdout",
     "output_type": "stream",
     "text": [
      "处理完成，结果保存在output/batch_results_248.jsonl\n"
     ]
    },
    {
     "name": "stderr",
     "output_type": "stream",
     "text": [
      "INFO:httpx:HTTP Request: GET https://api.openai.com/v1/batches/batch_68553c8902c88190828bc20004ffdee3 \"HTTP/1.1 200 OK\"\n",
      " 56%|█████▌    | 249/443 [04:18<05:24,  1.67s/it]"
     ]
    },
    {
     "name": "stdout",
     "output_type": "stream",
     "text": [
      "处理完成，结果保存在output/batch_results_249.jsonl\n"
     ]
    },
    {
     "name": "stderr",
     "output_type": "stream",
     "text": [
      "INFO:httpx:HTTP Request: GET https://api.openai.com/v1/batches/batch_68553c99afe48190ab652c3d67ac5ba4 \"HTTP/1.1 200 OK\"\n",
      " 56%|█████▋    | 250/443 [04:19<04:44,  1.47s/it]"
     ]
    },
    {
     "name": "stdout",
     "output_type": "stream",
     "text": [
      "处理完成，结果保存在output/batch_results_250.jsonl\n"
     ]
    },
    {
     "name": "stderr",
     "output_type": "stream",
     "text": [
      "INFO:httpx:HTTP Request: GET https://api.openai.com/v1/batches/batch_68553cacfc8881909867eab3821766a8 \"HTTP/1.1 200 OK\"\n",
      " 57%|█████▋    | 251/443 [04:21<04:23,  1.37s/it]"
     ]
    },
    {
     "name": "stdout",
     "output_type": "stream",
     "text": [
      "处理完成，结果保存在output/batch_results_251.jsonl\n"
     ]
    },
    {
     "name": "stderr",
     "output_type": "stream",
     "text": [
      "INFO:httpx:HTTP Request: GET https://api.openai.com/v1/batches/batch_68553cbb62c881909589bdde3b448730 \"HTTP/1.1 200 OK\"\n",
      " 57%|█████▋    | 252/443 [04:21<03:50,  1.21s/it]"
     ]
    },
    {
     "name": "stdout",
     "output_type": "stream",
     "text": [
      "处理完成，结果保存在output/batch_results_252.jsonl\n"
     ]
    },
    {
     "name": "stderr",
     "output_type": "stream",
     "text": [
      "INFO:httpx:HTTP Request: GET https://api.openai.com/v1/batches/batch_68553cca44d48190949312707e5eb3c4 \"HTTP/1.1 200 OK\"\n",
      " 57%|█████▋    | 253/443 [04:23<03:43,  1.18s/it]"
     ]
    },
    {
     "name": "stdout",
     "output_type": "stream",
     "text": [
      "处理完成，结果保存在output/batch_results_253.jsonl\n"
     ]
    },
    {
     "name": "stderr",
     "output_type": "stream",
     "text": [
      "INFO:httpx:HTTP Request: GET https://api.openai.com/v1/batches/batch_68553ce9e040819083db83e1e77de23e \"HTTP/1.1 200 OK\"\n",
      " 57%|█████▋    | 254/443 [04:23<03:28,  1.10s/it]"
     ]
    },
    {
     "name": "stdout",
     "output_type": "stream",
     "text": [
      "处理完成，结果保存在output/batch_results_254.jsonl\n"
     ]
    },
    {
     "name": "stderr",
     "output_type": "stream",
     "text": [
      "INFO:httpx:HTTP Request: GET https://api.openai.com/v1/batches/batch_68553cf02c748190a8997c387feb771e \"HTTP/1.1 200 OK\"\n",
      " 58%|█████▊    | 255/443 [04:24<03:11,  1.02s/it]"
     ]
    },
    {
     "name": "stdout",
     "output_type": "stream",
     "text": [
      "处理完成，结果保存在output/batch_results_255.jsonl\n"
     ]
    },
    {
     "name": "stderr",
     "output_type": "stream",
     "text": [
      "INFO:httpx:HTTP Request: GET https://api.openai.com/v1/batches/batch_68553cf820008190a48a6a3e3bc72dc2 \"HTTP/1.1 200 OK\"\n",
      " 58%|█████▊    | 256/443 [04:26<03:28,  1.12s/it]"
     ]
    },
    {
     "name": "stdout",
     "output_type": "stream",
     "text": [
      "处理完成，结果保存在output/batch_results_256.jsonl\n"
     ]
    },
    {
     "name": "stderr",
     "output_type": "stream",
     "text": [
      "INFO:httpx:HTTP Request: GET https://api.openai.com/v1/batches/batch_68553d02caf88190ab574ffbe8883c97 \"HTTP/1.1 200 OK\"\n",
      " 58%|█████▊    | 257/443 [04:27<03:30,  1.13s/it]INFO:httpx:HTTP Request: GET https://api.openai.com/v1/batches/batch_68553d0a43e8819081daaa4a7dae0de7 \"HTTP/1.1 200 OK\"\n"
     ]
    },
    {
     "name": "stdout",
     "output_type": "stream",
     "text": [
      "处理完成，结果保存在output/batch_results_257.jsonl\n"
     ]
    },
    {
     "name": "stderr",
     "output_type": "stream",
     "text": [
      " 58%|█████▊    | 258/443 [04:28<03:08,  1.02s/it]"
     ]
    },
    {
     "name": "stdout",
     "output_type": "stream",
     "text": [
      "处理完成，结果保存在output/batch_results_258.jsonl\n"
     ]
    },
    {
     "name": "stderr",
     "output_type": "stream",
     "text": [
      "INFO:httpx:HTTP Request: GET https://api.openai.com/v1/batches/batch_68553d1dfd98819096261ad1fbf0cb61 \"HTTP/1.1 200 OK\"\n",
      " 58%|█████▊    | 259/443 [04:29<03:05,  1.01s/it]"
     ]
    },
    {
     "name": "stdout",
     "output_type": "stream",
     "text": [
      "处理完成，结果保存在output/batch_results_259.jsonl\n"
     ]
    },
    {
     "name": "stderr",
     "output_type": "stream",
     "text": [
      "INFO:httpx:HTTP Request: GET https://api.openai.com/v1/batches/batch_68553d2e29988190abb145f7bb0b4924 \"HTTP/1.1 200 OK\"\n",
      " 59%|█████▊    | 260/443 [04:29<02:54,  1.05it/s]"
     ]
    },
    {
     "name": "stdout",
     "output_type": "stream",
     "text": [
      "处理完成，结果保存在output/batch_results_260.jsonl\n"
     ]
    },
    {
     "name": "stderr",
     "output_type": "stream",
     "text": [
      "INFO:httpx:HTTP Request: GET https://api.openai.com/v1/batches/batch_68553d35c5f481908986d91d0a0db02e \"HTTP/1.1 200 OK\"\n",
      " 59%|█████▉    | 261/443 [04:30<02:45,  1.10it/s]"
     ]
    },
    {
     "name": "stdout",
     "output_type": "stream",
     "text": [
      "处理完成，结果保存在output/batch_results_261.jsonl\n"
     ]
    },
    {
     "name": "stderr",
     "output_type": "stream",
     "text": [
      "INFO:httpx:HTTP Request: GET https://api.openai.com/v1/batches/batch_68553d420d9c8190acf3704e5940ee84 \"HTTP/1.1 200 OK\"\n",
      " 59%|█████▉    | 262/443 [04:31<02:58,  1.02it/s]"
     ]
    },
    {
     "name": "stdout",
     "output_type": "stream",
     "text": [
      "处理完成，结果保存在output/batch_results_262.jsonl\n"
     ]
    },
    {
     "name": "stderr",
     "output_type": "stream",
     "text": [
      "INFO:httpx:HTTP Request: GET https://api.openai.com/v1/batches/batch_68553d57e22c8190851b8c0e42a00b66 \"HTTP/1.1 200 OK\"\n",
      " 59%|█████▉    | 263/443 [04:32<02:47,  1.08it/s]"
     ]
    },
    {
     "name": "stdout",
     "output_type": "stream",
     "text": [
      "处理完成，结果保存在output/batch_results_263.jsonl\n"
     ]
    },
    {
     "name": "stderr",
     "output_type": "stream",
     "text": [
      "INFO:httpx:HTTP Request: GET https://api.openai.com/v1/batches/batch_68553d7410f08190a0de2a80441b84ab \"HTTP/1.1 200 OK\"\n",
      " 60%|█████▉    | 264/443 [04:33<02:39,  1.12it/s]"
     ]
    },
    {
     "name": "stdout",
     "output_type": "stream",
     "text": [
      "处理完成，结果保存在output/batch_results_264.jsonl\n"
     ]
    },
    {
     "name": "stderr",
     "output_type": "stream",
     "text": [
      "INFO:httpx:HTTP Request: GET https://api.openai.com/v1/batches/batch_68553d97dd708190be24ccf254ad16f0 \"HTTP/1.1 200 OK\"\n",
      " 60%|█████▉    | 265/443 [04:34<03:01,  1.02s/it]"
     ]
    },
    {
     "name": "stdout",
     "output_type": "stream",
     "text": [
      "处理完成，结果保存在output/batch_results_265.jsonl\n"
     ]
    },
    {
     "name": "stderr",
     "output_type": "stream",
     "text": [
      "INFO:httpx:HTTP Request: GET https://api.openai.com/v1/batches/batch_68553db4bdf48190b5063c2364ca6dde \"HTTP/1.1 200 OK\"\n",
      " 60%|██████    | 266/443 [04:35<02:49,  1.04it/s]"
     ]
    },
    {
     "name": "stdout",
     "output_type": "stream",
     "text": [
      "处理完成，结果保存在output/batch_results_266.jsonl\n"
     ]
    },
    {
     "name": "stderr",
     "output_type": "stream",
     "text": [
      "INFO:httpx:HTTP Request: GET https://api.openai.com/v1/batches/batch_68553dc3f40081908d8144f2e35313fe \"HTTP/1.1 200 OK\"\n",
      " 60%|██████    | 267/443 [04:36<02:58,  1.01s/it]"
     ]
    },
    {
     "name": "stdout",
     "output_type": "stream",
     "text": [
      "处理完成，结果保存在output/batch_results_267.jsonl\n"
     ]
    },
    {
     "name": "stderr",
     "output_type": "stream",
     "text": [
      "INFO:httpx:HTTP Request: GET https://api.openai.com/v1/batches/batch_68553de32c548190ba821b1c827f8886 \"HTTP/1.1 200 OK\"\n",
      " 60%|██████    | 268/443 [04:37<03:03,  1.05s/it]"
     ]
    },
    {
     "name": "stdout",
     "output_type": "stream",
     "text": [
      "处理完成，结果保存在output/batch_results_268.jsonl\n"
     ]
    },
    {
     "name": "stderr",
     "output_type": "stream",
     "text": [
      "INFO:httpx:HTTP Request: GET https://api.openai.com/v1/batches/batch_68553e11f7548190b1b7f9fff30be13f \"HTTP/1.1 200 OK\"\n",
      " 61%|██████    | 269/443 [04:38<02:51,  1.01it/s]"
     ]
    },
    {
     "name": "stdout",
     "output_type": "stream",
     "text": [
      "处理完成，结果保存在output/batch_results_269.jsonl\n"
     ]
    },
    {
     "name": "stderr",
     "output_type": "stream",
     "text": [
      "INFO:httpx:HTTP Request: GET https://api.openai.com/v1/batches/batch_68553e3ce4908190bf148099a5a1f08f \"HTTP/1.1 200 OK\"\n",
      " 61%|██████    | 270/443 [04:39<02:43,  1.06it/s]"
     ]
    },
    {
     "name": "stdout",
     "output_type": "stream",
     "text": [
      "处理完成，结果保存在output/batch_results_270.jsonl\n"
     ]
    },
    {
     "name": "stderr",
     "output_type": "stream",
     "text": [
      "INFO:httpx:HTTP Request: GET https://api.openai.com/v1/batches/batch_68553e4697048190943e769e14ab5c16 \"HTTP/1.1 200 OK\"\n",
      " 61%|██████    | 271/443 [04:41<03:27,  1.21s/it]"
     ]
    },
    {
     "name": "stdout",
     "output_type": "stream",
     "text": [
      "处理完成，结果保存在output/batch_results_271.jsonl\n"
     ]
    },
    {
     "name": "stderr",
     "output_type": "stream",
     "text": [
      "INFO:httpx:HTTP Request: GET https://api.openai.com/v1/batches/batch_68553e5782a48190a00facb4c52e696c \"HTTP/1.1 200 OK\"\n",
      " 61%|██████▏   | 272/443 [04:42<03:23,  1.19s/it]"
     ]
    },
    {
     "name": "stdout",
     "output_type": "stream",
     "text": [
      "处理完成，结果保存在output/batch_results_272.jsonl\n"
     ]
    },
    {
     "name": "stderr",
     "output_type": "stream",
     "text": [
      "INFO:httpx:HTTP Request: GET https://api.openai.com/v1/batches/batch_68553e61d41c8190a390147e34e64890 \"HTTP/1.1 200 OK\"\n",
      " 62%|██████▏   | 273/443 [04:43<03:05,  1.09s/it]"
     ]
    },
    {
     "name": "stdout",
     "output_type": "stream",
     "text": [
      "处理完成，结果保存在output/batch_results_273.jsonl\n"
     ]
    },
    {
     "name": "stderr",
     "output_type": "stream",
     "text": [
      "INFO:httpx:HTTP Request: GET https://api.openai.com/v1/batches/batch_68553e763af481909092faa87f5f02e4 \"HTTP/1.1 200 OK\"\n",
      " 62%|██████▏   | 274/443 [04:44<02:49,  1.00s/it]"
     ]
    },
    {
     "name": "stdout",
     "output_type": "stream",
     "text": [
      "处理完成，结果保存在output/batch_results_274.jsonl\n"
     ]
    },
    {
     "name": "stderr",
     "output_type": "stream",
     "text": [
      "INFO:httpx:HTTP Request: GET https://api.openai.com/v1/batches/batch_68553e9038c4819096b8b3d6b5c8e19e \"HTTP/1.1 200 OK\"\n",
      " 62%|██████▏   | 275/443 [04:45<03:15,  1.16s/it]"
     ]
    },
    {
     "name": "stdout",
     "output_type": "stream",
     "text": [
      "处理完成，结果保存在output/batch_results_275.jsonl\n"
     ]
    },
    {
     "name": "stderr",
     "output_type": "stream",
     "text": [
      "INFO:httpx:HTTP Request: GET https://api.openai.com/v1/batches/batch_68553ea374e081909200351fb3fda7ac \"HTTP/1.1 200 OK\"\n",
      " 62%|██████▏   | 276/443 [04:46<02:56,  1.06s/it]INFO:httpx:HTTP Request: GET https://api.openai.com/v1/batches/batch_68553eaff8348190bc8faf1279a93fce \"HTTP/1.1 200 OK\"\n"
     ]
    },
    {
     "name": "stdout",
     "output_type": "stream",
     "text": [
      "处理完成，结果保存在output/batch_results_276.jsonl\n"
     ]
    },
    {
     "name": "stderr",
     "output_type": "stream",
     "text": [
      " 63%|██████▎   | 277/443 [04:47<02:42,  1.02it/s]INFO:httpx:HTTP Request: GET https://api.openai.com/v1/batches/batch_68553eb4cd088190aee1ab3a46ba10a1 \"HTTP/1.1 200 OK\"\n"
     ]
    },
    {
     "name": "stdout",
     "output_type": "stream",
     "text": [
      "处理完成，结果保存在output/batch_results_277.jsonl\n"
     ]
    },
    {
     "name": "stderr",
     "output_type": "stream",
     "text": [
      " 63%|██████▎   | 278/443 [04:48<02:32,  1.08it/s]"
     ]
    },
    {
     "name": "stdout",
     "output_type": "stream",
     "text": [
      "处理完成，结果保存在output/batch_results_278.jsonl\n"
     ]
    },
    {
     "name": "stderr",
     "output_type": "stream",
     "text": [
      "INFO:httpx:HTTP Request: GET https://api.openai.com/v1/batches/batch_68553ed630888190ac1ebf59831c930a \"HTTP/1.1 200 OK\"\n",
      " 63%|██████▎   | 279/443 [04:49<02:34,  1.06it/s]"
     ]
    },
    {
     "name": "stdout",
     "output_type": "stream",
     "text": [
      "处理完成，结果保存在output/batch_results_279.jsonl\n"
     ]
    },
    {
     "name": "stderr",
     "output_type": "stream",
     "text": [
      "INFO:httpx:HTTP Request: GET https://api.openai.com/v1/batches/batch_68553eee37148190a0e56b331bc08d16 \"HTTP/1.1 200 OK\"\n",
      " 63%|██████▎   | 280/443 [04:50<02:35,  1.05it/s]"
     ]
    },
    {
     "name": "stdout",
     "output_type": "stream",
     "text": [
      "处理完成，结果保存在output/batch_results_280.jsonl\n"
     ]
    },
    {
     "name": "stderr",
     "output_type": "stream",
     "text": [
      "INFO:httpx:HTTP Request: GET https://api.openai.com/v1/batches/batch_68553f1203b88190af23494dfb332258 \"HTTP/1.1 200 OK\"\n",
      " 63%|██████▎   | 281/443 [04:50<02:25,  1.11it/s]"
     ]
    },
    {
     "name": "stdout",
     "output_type": "stream",
     "text": [
      "处理完成，结果保存在output/batch_results_281.jsonl\n"
     ]
    },
    {
     "name": "stderr",
     "output_type": "stream",
     "text": [
      "INFO:httpx:HTTP Request: GET https://api.openai.com/v1/batches/batch_68553f1fce048190a4276ebec35a1b6a \"HTTP/1.1 200 OK\"\n",
      " 64%|██████▎   | 282/443 [04:51<02:18,  1.16it/s]"
     ]
    },
    {
     "name": "stdout",
     "output_type": "stream",
     "text": [
      "处理完成，结果保存在output/batch_results_282.jsonl\n"
     ]
    },
    {
     "name": "stderr",
     "output_type": "stream",
     "text": [
      "INFO:httpx:HTTP Request: GET https://api.openai.com/v1/batches/batch_68553f2b4b888190b4a2638f56d2226e \"HTTP/1.1 200 OK\"\n",
      " 64%|██████▍   | 283/443 [04:52<02:26,  1.09it/s]"
     ]
    },
    {
     "name": "stdout",
     "output_type": "stream",
     "text": [
      "处理完成，结果保存在output/batch_results_283.jsonl\n"
     ]
    },
    {
     "name": "stderr",
     "output_type": "stream",
     "text": [
      "INFO:httpx:HTTP Request: GET https://api.openai.com/v1/batches/batch_68553f3bcc008190a47bc04ff85d024e \"HTTP/1.1 200 OK\"\n",
      " 64%|██████▍   | 284/443 [04:53<02:35,  1.02it/s]"
     ]
    },
    {
     "name": "stdout",
     "output_type": "stream",
     "text": [
      "处理完成，结果保存在output/batch_results_284.jsonl\n"
     ]
    },
    {
     "name": "stderr",
     "output_type": "stream",
     "text": [
      "INFO:httpx:HTTP Request: GET https://api.openai.com/v1/batches/batch_68553f4925b88190808b47a5f03e4b8f \"HTTP/1.1 200 OK\"\n",
      " 64%|██████▍   | 285/443 [04:54<02:44,  1.04s/it]"
     ]
    },
    {
     "name": "stdout",
     "output_type": "stream",
     "text": [
      "处理完成，结果保存在output/batch_results_285.jsonl\n"
     ]
    },
    {
     "name": "stderr",
     "output_type": "stream",
     "text": [
      "INFO:httpx:HTTP Request: GET https://api.openai.com/v1/batches/batch_68553f5a8d808190b4d7d2edd7686101 \"HTTP/1.1 200 OK\"\n",
      " 65%|██████▍   | 286/443 [04:56<02:47,  1.07s/it]"
     ]
    },
    {
     "name": "stdout",
     "output_type": "stream",
     "text": [
      "处理完成，结果保存在output/batch_results_286.jsonl\n"
     ]
    },
    {
     "name": "stderr",
     "output_type": "stream",
     "text": [
      "INFO:httpx:HTTP Request: GET https://api.openai.com/v1/batches/batch_68553f6306508190b63e428ce9c2da46 \"HTTP/1.1 200 OK\"\n",
      " 65%|██████▍   | 287/443 [04:57<02:50,  1.09s/it]"
     ]
    },
    {
     "name": "stdout",
     "output_type": "stream",
     "text": [
      "处理完成，结果保存在output/batch_results_287.jsonl\n"
     ]
    },
    {
     "name": "stderr",
     "output_type": "stream",
     "text": [
      "INFO:httpx:HTTP Request: GET https://api.openai.com/v1/batches/batch_68553f69b9148190bcae89a0b236b0e3 \"HTTP/1.1 200 OK\"\n",
      " 65%|██████▌   | 288/443 [04:58<02:49,  1.09s/it]"
     ]
    },
    {
     "name": "stdout",
     "output_type": "stream",
     "text": [
      "处理完成，结果保存在output/batch_results_288.jsonl\n"
     ]
    },
    {
     "name": "stderr",
     "output_type": "stream",
     "text": [
      "INFO:httpx:HTTP Request: GET https://api.openai.com/v1/batches/batch_68553f772b1881908d5ee1d8d0f184a4 \"HTTP/1.1 200 OK\"\n",
      " 65%|██████▌   | 289/443 [04:59<02:47,  1.09s/it]"
     ]
    },
    {
     "name": "stdout",
     "output_type": "stream",
     "text": [
      "处理完成，结果保存在output/batch_results_289.jsonl\n"
     ]
    },
    {
     "name": "stderr",
     "output_type": "stream",
     "text": [
      "INFO:httpx:HTTP Request: GET https://api.openai.com/v1/batches/batch_68553f836b3c81909bbb6c35421bd831 \"HTTP/1.1 200 OK\"\n",
      " 65%|██████▌   | 290/443 [05:00<02:50,  1.11s/it]"
     ]
    },
    {
     "name": "stdout",
     "output_type": "stream",
     "text": [
      "处理完成，结果保存在output/batch_results_290.jsonl\n"
     ]
    },
    {
     "name": "stderr",
     "output_type": "stream",
     "text": [
      "INFO:httpx:HTTP Request: GET https://api.openai.com/v1/batches/batch_68553fb28af48190914dc6cb743b8266 \"HTTP/1.1 200 OK\"\n",
      " 66%|██████▌   | 291/443 [05:01<02:38,  1.04s/it]"
     ]
    },
    {
     "name": "stdout",
     "output_type": "stream",
     "text": [
      "处理完成，结果保存在output/batch_results_291.jsonl\n"
     ]
    },
    {
     "name": "stderr",
     "output_type": "stream",
     "text": [
      "INFO:httpx:HTTP Request: GET https://api.openai.com/v1/batches/batch_68553fbec6b08190baed6e4317a1db91 \"HTTP/1.1 200 OK\"\n",
      " 66%|██████▌   | 292/443 [05:02<02:30,  1.00it/s]"
     ]
    },
    {
     "name": "stdout",
     "output_type": "stream",
     "text": [
      "处理完成，结果保存在output/batch_results_292.jsonl\n"
     ]
    },
    {
     "name": "stderr",
     "output_type": "stream",
     "text": [
      "INFO:httpx:HTTP Request: GET https://api.openai.com/v1/batches/batch_68553fc5e5888190ada39826bc39d0d3 \"HTTP/1.1 200 OK\"\n",
      " 66%|██████▌   | 293/443 [05:03<02:17,  1.09it/s]"
     ]
    },
    {
     "name": "stdout",
     "output_type": "stream",
     "text": [
      "处理完成，结果保存在output/batch_results_293.jsonl\n"
     ]
    },
    {
     "name": "stderr",
     "output_type": "stream",
     "text": [
      "INFO:httpx:HTTP Request: GET https://api.openai.com/v1/batches/batch_68553fd8c3c881909edc4d2398b06ee3 \"HTTP/1.1 200 OK\"\n",
      " 66%|██████▋   | 294/443 [05:04<02:27,  1.01it/s]"
     ]
    },
    {
     "name": "stdout",
     "output_type": "stream",
     "text": [
      "处理完成，结果保存在output/batch_results_294.jsonl\n"
     ]
    },
    {
     "name": "stderr",
     "output_type": "stream",
     "text": [
      "INFO:httpx:HTTP Request: GET https://api.openai.com/v1/batches/batch_68553fec7ef88190bcecf480183d6184 \"HTTP/1.1 200 OK\"\n",
      " 67%|██████▋   | 295/443 [05:05<02:19,  1.06it/s]"
     ]
    },
    {
     "name": "stdout",
     "output_type": "stream",
     "text": [
      "处理完成，结果保存在output/batch_results_295.jsonl\n"
     ]
    },
    {
     "name": "stderr",
     "output_type": "stream",
     "text": [
      "INFO:httpx:HTTP Request: GET https://api.openai.com/v1/batches/batch_6855400a312481908f95ee428bd6ddeb \"HTTP/1.1 200 OK\"\n",
      " 67%|██████▋   | 296/443 [05:06<02:26,  1.00it/s]"
     ]
    },
    {
     "name": "stdout",
     "output_type": "stream",
     "text": [
      "处理完成，结果保存在output/batch_results_296.jsonl\n"
     ]
    },
    {
     "name": "stderr",
     "output_type": "stream",
     "text": [
      "INFO:httpx:HTTP Request: GET https://api.openai.com/v1/batches/batch_6855406d564881908582855a483925d9 \"HTTP/1.1 200 OK\"\n",
      " 67%|██████▋   | 297/443 [05:07<02:30,  1.03s/it]"
     ]
    },
    {
     "name": "stdout",
     "output_type": "stream",
     "text": [
      "处理完成，结果保存在output/batch_results_297.jsonl\n"
     ]
    },
    {
     "name": "stderr",
     "output_type": "stream",
     "text": [
      "INFO:httpx:HTTP Request: GET https://api.openai.com/v1/batches/batch_685540809e9481909ae40e88370f57a7 \"HTTP/1.1 200 OK\"\n",
      " 67%|██████▋   | 298/443 [05:08<02:19,  1.04it/s]"
     ]
    },
    {
     "name": "stdout",
     "output_type": "stream",
     "text": [
      "处理完成，结果保存在output/batch_results_298.jsonl\n"
     ]
    },
    {
     "name": "stderr",
     "output_type": "stream",
     "text": [
      "INFO:httpx:HTTP Request: GET https://api.openai.com/v1/batches/batch_6855409ff1008190927114d1abb241ea \"HTTP/1.1 200 OK\"\n",
      " 67%|██████▋   | 299/443 [05:09<02:18,  1.04it/s]"
     ]
    },
    {
     "name": "stdout",
     "output_type": "stream",
     "text": [
      "处理完成，结果保存在output/batch_results_299.jsonl\n"
     ]
    },
    {
     "name": "stderr",
     "output_type": "stream",
     "text": [
      "INFO:httpx:HTTP Request: GET https://api.openai.com/v1/batches/batch_685540cd5abc8190a042fd60aa9c1c42 \"HTTP/1.1 200 OK\"\n",
      " 68%|██████▊   | 300/443 [05:09<01:45,  1.35it/s]"
     ]
    },
    {
     "name": "stdout",
     "output_type": "stream",
     "text": [
      "Batch 作业验证或执行失败，错误信息： Errors(data=[BatchError(code='maximum_input_file_size_exceeded', line=None, message='The batch input file is larger than the 209715200 maximum for the gpt-4o model. Please try again with a smaller batch.', param=None)], object='list')\n"
     ]
    },
    {
     "name": "stderr",
     "output_type": "stream",
     "text": [
      "INFO:httpx:HTTP Request: GET https://api.openai.com/v1/batches/batch_685540f487e08190bb05e1bfa1c07802 \"HTTP/1.1 200 OK\"\n",
      " 68%|██████▊   | 301/443 [05:10<02:05,  1.13it/s]"
     ]
    },
    {
     "name": "stdout",
     "output_type": "stream",
     "text": [
      "处理完成，结果保存在output/batch_results_301.jsonl\n"
     ]
    },
    {
     "name": "stderr",
     "output_type": "stream",
     "text": [
      "INFO:httpx:HTTP Request: GET https://api.openai.com/v1/batches/batch_685541200df48190b9751f540c843dcf \"HTTP/1.1 200 OK\"\n",
      " 68%|██████▊   | 302/443 [05:11<02:25,  1.03s/it]"
     ]
    },
    {
     "name": "stdout",
     "output_type": "stream",
     "text": [
      "处理完成，结果保存在output/batch_results_302.jsonl\n"
     ]
    },
    {
     "name": "stderr",
     "output_type": "stream",
     "text": [
      "INFO:httpx:HTTP Request: GET https://api.openai.com/v1/batches/batch_6855412f20748190a9f2c20e81cb0b74 \"HTTP/1.1 200 OK\"\n",
      " 68%|██████▊   | 303/443 [05:13<02:38,  1.13s/it]"
     ]
    },
    {
     "name": "stdout",
     "output_type": "stream",
     "text": [
      "处理完成，结果保存在output/batch_results_303.jsonl\n"
     ]
    },
    {
     "name": "stderr",
     "output_type": "stream",
     "text": [
      "INFO:httpx:HTTP Request: GET https://api.openai.com/v1/batches/batch_685541456f0c81909a61ede1f0e3df77 \"HTTP/1.1 200 OK\"\n",
      " 69%|██████▊   | 304/443 [05:14<02:26,  1.06s/it]"
     ]
    },
    {
     "name": "stdout",
     "output_type": "stream",
     "text": [
      "处理完成，结果保存在output/batch_results_304.jsonl\n"
     ]
    },
    {
     "name": "stderr",
     "output_type": "stream",
     "text": [
      "INFO:httpx:HTTP Request: GET https://api.openai.com/v1/batches/batch_685541562adc8190b4a81c1333d15181 \"HTTP/1.1 200 OK\"\n",
      " 69%|██████▉   | 305/443 [05:15<02:19,  1.01s/it]"
     ]
    },
    {
     "name": "stdout",
     "output_type": "stream",
     "text": [
      "处理完成，结果保存在output/batch_results_305.jsonl\n"
     ]
    },
    {
     "name": "stderr",
     "output_type": "stream",
     "text": [
      "INFO:httpx:HTTP Request: GET https://api.openai.com/v1/batches/batch_68554163793c81909d33d6aee74d2a0c \"HTTP/1.1 200 OK\"\n",
      " 69%|██████▉   | 306/443 [05:16<02:17,  1.00s/it]"
     ]
    },
    {
     "name": "stdout",
     "output_type": "stream",
     "text": [
      "处理完成，结果保存在output/batch_results_306.jsonl\n"
     ]
    },
    {
     "name": "stderr",
     "output_type": "stream",
     "text": [
      "INFO:httpx:HTTP Request: GET https://api.openai.com/v1/batches/batch_68554177191081909b625ea75d3c5b9d \"HTTP/1.1 200 OK\"\n",
      " 69%|██████▉   | 307/443 [05:17<02:26,  1.07s/it]"
     ]
    },
    {
     "name": "stdout",
     "output_type": "stream",
     "text": [
      "处理完成，结果保存在output/batch_results_307.jsonl\n"
     ]
    },
    {
     "name": "stderr",
     "output_type": "stream",
     "text": [
      "INFO:httpx:HTTP Request: GET https://api.openai.com/v1/batches/batch_68554181ce408190aa23dbebca4f17b1 \"HTTP/1.1 200 OK\"\n",
      " 70%|██████▉   | 308/443 [05:18<02:33,  1.14s/it]"
     ]
    },
    {
     "name": "stdout",
     "output_type": "stream",
     "text": [
      "处理完成，结果保存在output/batch_results_308.jsonl\n"
     ]
    },
    {
     "name": "stderr",
     "output_type": "stream",
     "text": [
      "INFO:httpx:HTTP Request: GET https://api.openai.com/v1/batches/batch_6855419713f88190a9ed5af1a8f51f74 \"HTTP/1.1 200 OK\"\n",
      " 70%|██████▉   | 309/443 [05:20<02:56,  1.32s/it]"
     ]
    },
    {
     "name": "stdout",
     "output_type": "stream",
     "text": [
      "处理完成，结果保存在output/batch_results_309.jsonl\n"
     ]
    },
    {
     "name": "stderr",
     "output_type": "stream",
     "text": [
      "INFO:httpx:HTTP Request: GET https://api.openai.com/v1/batches/batch_6855419d4af0819098356caf4ee591d4 \"HTTP/1.1 200 OK\"\n",
      " 70%|██████▉   | 310/443 [05:21<02:45,  1.25s/it]"
     ]
    },
    {
     "name": "stdout",
     "output_type": "stream",
     "text": [
      "处理完成，结果保存在output/batch_results_310.jsonl\n"
     ]
    },
    {
     "name": "stderr",
     "output_type": "stream",
     "text": [
      "INFO:httpx:HTTP Request: GET https://api.openai.com/v1/batches/batch_685541e03b9081908c436c6d8baa3c72 \"HTTP/1.1 200 OK\"\n",
      " 70%|███████   | 311/443 [05:21<02:04,  1.06it/s]"
     ]
    },
    {
     "name": "stdout",
     "output_type": "stream",
     "text": [
      "Batch 作业验证或执行失败，错误信息： Errors(data=[BatchError(code='maximum_input_file_size_exceeded', line=None, message='The batch input file is larger than the 209715200 maximum for the gpt-4o model. Please try again with a smaller batch.', param=None)], object='list')\n"
     ]
    },
    {
     "name": "stderr",
     "output_type": "stream",
     "text": [
      "INFO:httpx:HTTP Request: GET https://api.openai.com/v1/batches/batch_685541faa7e88190ade8a6c65cefbace \"HTTP/1.1 200 OK\"\n",
      " 70%|███████   | 312/443 [05:22<02:16,  1.04s/it]"
     ]
    },
    {
     "name": "stdout",
     "output_type": "stream",
     "text": [
      "处理完成，结果保存在output/batch_results_312.jsonl\n"
     ]
    },
    {
     "name": "stderr",
     "output_type": "stream",
     "text": [
      "INFO:httpx:HTTP Request: GET https://api.openai.com/v1/batches/batch_6855420e8a688190b69021762bb57c05 \"HTTP/1.1 200 OK\"\n",
      " 71%|███████   | 313/443 [05:23<02:12,  1.02s/it]"
     ]
    },
    {
     "name": "stdout",
     "output_type": "stream",
     "text": [
      "处理完成，结果保存在output/batch_results_313.jsonl\n"
     ]
    },
    {
     "name": "stderr",
     "output_type": "stream",
     "text": [
      "INFO:httpx:HTTP Request: GET https://api.openai.com/v1/batches/batch_68554231fdf08190ab532f8f3280b16e \"HTTP/1.1 200 OK\"\n",
      " 71%|███████   | 314/443 [05:24<02:03,  1.05it/s]"
     ]
    },
    {
     "name": "stdout",
     "output_type": "stream",
     "text": [
      "处理完成，结果保存在output/batch_results_314.jsonl\n"
     ]
    },
    {
     "name": "stderr",
     "output_type": "stream",
     "text": [
      "INFO:httpx:HTTP Request: GET https://api.openai.com/v1/batches/batch_6855424a6f348190be07aa9b6583068a \"HTTP/1.1 200 OK\"\n",
      " 71%|███████   | 315/443 [05:25<02:08,  1.00s/it]"
     ]
    },
    {
     "name": "stdout",
     "output_type": "stream",
     "text": [
      "处理完成，结果保存在output/batch_results_315.jsonl\n"
     ]
    },
    {
     "name": "stderr",
     "output_type": "stream",
     "text": [
      "INFO:httpx:HTTP Request: GET https://api.openai.com/v1/batches/batch_68554259479c819096dcda088be8897a \"HTTP/1.1 200 OK\"\n",
      " 71%|███████▏  | 316/443 [05:26<02:10,  1.03s/it]"
     ]
    },
    {
     "name": "stdout",
     "output_type": "stream",
     "text": [
      "处理完成，结果保存在output/batch_results_316.jsonl\n"
     ]
    },
    {
     "name": "stderr",
     "output_type": "stream",
     "text": [
      "INFO:httpx:HTTP Request: GET https://api.openai.com/v1/batches/batch_6855426108dc819089368d469b202700 \"HTTP/1.1 200 OK\"\n",
      " 72%|███████▏  | 317/443 [05:27<02:00,  1.04it/s]"
     ]
    },
    {
     "name": "stdout",
     "output_type": "stream",
     "text": [
      "处理完成，结果保存在output/batch_results_317.jsonl\n"
     ]
    },
    {
     "name": "stderr",
     "output_type": "stream",
     "text": [
      "INFO:httpx:HTTP Request: GET https://api.openai.com/v1/batches/batch_685542704ec48190b1c8ef4a8d76d38d \"HTTP/1.1 200 OK\"\n",
      " 72%|███████▏  | 318/443 [05:29<02:17,  1.10s/it]"
     ]
    },
    {
     "name": "stdout",
     "output_type": "stream",
     "text": [
      "处理完成，结果保存在output/batch_results_318.jsonl\n"
     ]
    },
    {
     "name": "stderr",
     "output_type": "stream",
     "text": [
      "INFO:httpx:HTTP Request: GET https://api.openai.com/v1/batches/batch_6855427bbee08190945a461c5ec6396f \"HTTP/1.1 200 OK\"\n",
      " 72%|███████▏  | 319/443 [05:30<02:19,  1.12s/it]"
     ]
    },
    {
     "name": "stdout",
     "output_type": "stream",
     "text": [
      "处理完成，结果保存在output/batch_results_319.jsonl\n"
     ]
    },
    {
     "name": "stderr",
     "output_type": "stream",
     "text": [
      "INFO:httpx:HTTP Request: GET https://api.openai.com/v1/batches/batch_6855428269a881909641909c5d236e76 \"HTTP/1.1 200 OK\"\n",
      " 72%|███████▏  | 320/443 [05:31<02:10,  1.06s/it]"
     ]
    },
    {
     "name": "stdout",
     "output_type": "stream",
     "text": [
      "处理完成，结果保存在output/batch_results_320.jsonl\n"
     ]
    },
    {
     "name": "stderr",
     "output_type": "stream",
     "text": [
      "INFO:httpx:HTTP Request: GET https://api.openai.com/v1/batches/batch_685542955a848190bfe5316907c0c51d \"HTTP/1.1 200 OK\"\n",
      " 72%|███████▏  | 321/443 [05:32<02:05,  1.03s/it]"
     ]
    },
    {
     "name": "stdout",
     "output_type": "stream",
     "text": [
      "处理完成，结果保存在output/batch_results_321.jsonl\n"
     ]
    },
    {
     "name": "stderr",
     "output_type": "stream",
     "text": [
      "INFO:httpx:HTTP Request: GET https://api.openai.com/v1/batches/batch_6855429c73e081909f04d22e7fda9e36 \"HTTP/1.1 200 OK\"\n",
      " 73%|███████▎  | 322/443 [05:33<02:07,  1.05s/it]INFO:httpx:HTTP Request: GET https://api.openai.com/v1/batches/batch_685542ab361c81908412b847a8fe0173 \"HTTP/1.1 200 OK\"\n"
     ]
    },
    {
     "name": "stdout",
     "output_type": "stream",
     "text": [
      "处理完成，结果保存在output/batch_results_322.jsonl\n"
     ]
    },
    {
     "name": "stderr",
     "output_type": "stream",
     "text": [
      " 73%|███████▎  | 323/443 [05:34<01:58,  1.01it/s]"
     ]
    },
    {
     "name": "stdout",
     "output_type": "stream",
     "text": [
      "处理完成，结果保存在output/batch_results_323.jsonl\n"
     ]
    },
    {
     "name": "stderr",
     "output_type": "stream",
     "text": [
      "INFO:httpx:HTTP Request: GET https://api.openai.com/v1/batches/batch_685542b167148190b098b4fc4478b098 \"HTTP/1.1 200 OK\"\n",
      " 73%|███████▎  | 324/443 [05:35<01:55,  1.03it/s]"
     ]
    },
    {
     "name": "stdout",
     "output_type": "stream",
     "text": [
      "处理完成，结果保存在output/batch_results_324.jsonl\n"
     ]
    },
    {
     "name": "stderr",
     "output_type": "stream",
     "text": [
      "INFO:httpx:HTTP Request: GET https://api.openai.com/v1/batches/batch_685542b5c6ec81909107b59f1ab3a237 \"HTTP/1.1 200 OK\"\n",
      " 73%|███████▎  | 325/443 [05:36<02:08,  1.09s/it]"
     ]
    },
    {
     "name": "stdout",
     "output_type": "stream",
     "text": [
      "处理完成，结果保存在output/batch_results_325.jsonl\n"
     ]
    },
    {
     "name": "stderr",
     "output_type": "stream",
     "text": [
      "INFO:httpx:HTTP Request: GET https://api.openai.com/v1/batches/batch_685542c8b1d881908b7c99aef2d42b0d \"HTTP/1.1 200 OK\"\n",
      " 74%|███████▎  | 326/443 [05:37<01:57,  1.01s/it]INFO:httpx:HTTP Request: GET https://api.openai.com/v1/batches/batch_685542e9b43081909b0fc572c38ef753 \"HTTP/1.1 200 OK\"\n"
     ]
    },
    {
     "name": "stdout",
     "output_type": "stream",
     "text": [
      "处理完成，结果保存在output/batch_results_326.jsonl\n"
     ]
    },
    {
     "name": "stderr",
     "output_type": "stream",
     "text": [
      " 74%|███████▍  | 327/443 [05:38<02:01,  1.04s/it]"
     ]
    },
    {
     "name": "stdout",
     "output_type": "stream",
     "text": [
      "处理完成，结果保存在output/batch_results_327.jsonl\n"
     ]
    },
    {
     "name": "stderr",
     "output_type": "stream",
     "text": [
      "INFO:httpx:HTTP Request: GET https://api.openai.com/v1/batches/batch_685542f19c0c81908c494acc351f1813 \"HTTP/1.1 200 OK\"\n",
      " 74%|███████▍  | 328/443 [05:40<02:24,  1.25s/it]"
     ]
    },
    {
     "name": "stdout",
     "output_type": "stream",
     "text": [
      "处理完成，结果保存在output/batch_results_328.jsonl\n"
     ]
    },
    {
     "name": "stderr",
     "output_type": "stream",
     "text": [
      "INFO:httpx:HTTP Request: GET https://api.openai.com/v1/batches/batch_68554318160c81908e2674c4c6d645b2 \"HTTP/1.1 200 OK\"\n",
      " 74%|███████▍  | 329/443 [05:41<02:11,  1.16s/it]"
     ]
    },
    {
     "name": "stdout",
     "output_type": "stream",
     "text": [
      "处理完成，结果保存在output/batch_results_329.jsonl\n"
     ]
    },
    {
     "name": "stderr",
     "output_type": "stream",
     "text": [
      "INFO:httpx:HTTP Request: GET https://api.openai.com/v1/batches/batch_68554326353c8190944112c1ffa3f004 \"HTTP/1.1 200 OK\"\n",
      " 74%|███████▍  | 330/443 [05:41<01:59,  1.05s/it]"
     ]
    },
    {
     "name": "stdout",
     "output_type": "stream",
     "text": [
      "处理完成，结果保存在output/batch_results_330.jsonl\n"
     ]
    },
    {
     "name": "stderr",
     "output_type": "stream",
     "text": [
      "INFO:httpx:HTTP Request: GET https://api.openai.com/v1/batches/batch_68554332a7d88190b17e391b614cc5b7 \"HTTP/1.1 200 OK\"\n",
      " 75%|███████▍  | 331/443 [05:43<02:03,  1.10s/it]"
     ]
    },
    {
     "name": "stdout",
     "output_type": "stream",
     "text": [
      "处理完成，结果保存在output/batch_results_331.jsonl\n"
     ]
    },
    {
     "name": "stderr",
     "output_type": "stream",
     "text": [
      "INFO:httpx:HTTP Request: GET https://api.openai.com/v1/batches/batch_6855435b9a7481908bddde3c7490636b \"HTTP/1.1 200 OK\"\n",
      " 75%|███████▍  | 332/443 [05:43<01:54,  1.03s/it]INFO:httpx:HTTP Request: GET https://api.openai.com/v1/batches/batch_6855437033f08190a72e525c98f97610 \"HTTP/1.1 200 OK\"\n"
     ]
    },
    {
     "name": "stdout",
     "output_type": "stream",
     "text": [
      "处理完成，结果保存在output/batch_results_332.jsonl\n"
     ]
    },
    {
     "name": "stderr",
     "output_type": "stream",
     "text": [
      " 75%|███████▌  | 333/443 [05:44<01:44,  1.05it/s]"
     ]
    },
    {
     "name": "stdout",
     "output_type": "stream",
     "text": [
      "处理完成，结果保存在output/batch_results_333.jsonl\n"
     ]
    },
    {
     "name": "stderr",
     "output_type": "stream",
     "text": [
      "INFO:httpx:HTTP Request: GET https://api.openai.com/v1/batches/batch_6855438a06c48190b031eeead5d0c62b \"HTTP/1.1 200 OK\"\n",
      " 75%|███████▌  | 334/443 [05:45<01:39,  1.09it/s]"
     ]
    },
    {
     "name": "stdout",
     "output_type": "stream",
     "text": [
      "处理完成，结果保存在output/batch_results_334.jsonl\n"
     ]
    },
    {
     "name": "stderr",
     "output_type": "stream",
     "text": [
      "INFO:httpx:HTTP Request: GET https://api.openai.com/v1/batches/batch_6855439bfcb88190ac6f42873b79a6d8 \"HTTP/1.1 200 OK\"\n",
      " 76%|███████▌  | 335/443 [05:46<01:46,  1.01it/s]"
     ]
    },
    {
     "name": "stdout",
     "output_type": "stream",
     "text": [
      "处理完成，结果保存在output/batch_results_335.jsonl\n"
     ]
    },
    {
     "name": "stderr",
     "output_type": "stream",
     "text": [
      "INFO:httpx:HTTP Request: GET https://api.openai.com/v1/batches/batch_6855439f757c819084b0682ec28dd82a \"HTTP/1.1 200 OK\"\n",
      " 76%|███████▌  | 336/443 [05:47<01:47,  1.01s/it]"
     ]
    },
    {
     "name": "stdout",
     "output_type": "stream",
     "text": [
      "处理完成，结果保存在output/batch_results_336.jsonl\n"
     ]
    },
    {
     "name": "stderr",
     "output_type": "stream",
     "text": [
      "INFO:httpx:HTTP Request: GET https://api.openai.com/v1/batches/batch_685543b6a1c4819082c0bbb72b19601a \"HTTP/1.1 200 OK\"\n",
      " 76%|███████▌  | 337/443 [05:48<01:47,  1.02s/it]"
     ]
    },
    {
     "name": "stdout",
     "output_type": "stream",
     "text": [
      "处理完成，结果保存在output/batch_results_337.jsonl\n"
     ]
    },
    {
     "name": "stderr",
     "output_type": "stream",
     "text": [
      "INFO:httpx:HTTP Request: GET https://api.openai.com/v1/batches/batch_685543c02db081908e14c1b66fae5ab9 \"HTTP/1.1 200 OK\"\n",
      " 76%|███████▋  | 338/443 [05:49<01:40,  1.04it/s]"
     ]
    },
    {
     "name": "stdout",
     "output_type": "stream",
     "text": [
      "处理完成，结果保存在output/batch_results_338.jsonl\n"
     ]
    },
    {
     "name": "stderr",
     "output_type": "stream",
     "text": [
      "INFO:httpx:HTTP Request: GET https://api.openai.com/v1/batches/batch_685543c7ca1c819085c4822897d61508 \"HTTP/1.1 200 OK\"\n",
      " 77%|███████▋  | 339/443 [05:50<01:46,  1.02s/it]"
     ]
    },
    {
     "name": "stdout",
     "output_type": "stream",
     "text": [
      "处理完成，结果保存在output/batch_results_339.jsonl\n"
     ]
    },
    {
     "name": "stderr",
     "output_type": "stream",
     "text": [
      "INFO:httpx:HTTP Request: GET https://api.openai.com/v1/batches/batch_685543d2a8788190940d3aa690565809 \"HTTP/1.1 200 OK\"\n",
      " 77%|███████▋  | 340/443 [05:51<01:49,  1.06s/it]"
     ]
    },
    {
     "name": "stdout",
     "output_type": "stream",
     "text": [
      "处理完成，结果保存在output/batch_results_340.jsonl\n"
     ]
    },
    {
     "name": "stderr",
     "output_type": "stream",
     "text": [
      "INFO:httpx:HTTP Request: GET https://api.openai.com/v1/batches/batch_685543e7e0148190b25294e5f753fb98 \"HTTP/1.1 200 OK\"\n",
      " 77%|███████▋  | 341/443 [05:53<01:50,  1.08s/it]"
     ]
    },
    {
     "name": "stdout",
     "output_type": "stream",
     "text": [
      "处理完成，结果保存在output/batch_results_341.jsonl\n"
     ]
    },
    {
     "name": "stderr",
     "output_type": "stream",
     "text": [
      "INFO:httpx:HTTP Request: GET https://api.openai.com/v1/batches/batch_685543f9e0548190b062ada0c334b599 \"HTTP/1.1 200 OK\"\n",
      " 77%|███████▋  | 342/443 [05:54<01:49,  1.09s/it]"
     ]
    },
    {
     "name": "stdout",
     "output_type": "stream",
     "text": [
      "处理完成，结果保存在output/batch_results_342.jsonl\n"
     ]
    },
    {
     "name": "stderr",
     "output_type": "stream",
     "text": [
      "INFO:httpx:HTTP Request: GET https://api.openai.com/v1/batches/batch_68554426166c819097097ff678414b90 \"HTTP/1.1 200 OK\"\n",
      " 77%|███████▋  | 343/443 [05:55<01:49,  1.09s/it]"
     ]
    },
    {
     "name": "stdout",
     "output_type": "stream",
     "text": [
      "处理完成，结果保存在output/batch_results_343.jsonl\n"
     ]
    },
    {
     "name": "stderr",
     "output_type": "stream",
     "text": [
      "INFO:httpx:HTTP Request: GET https://api.openai.com/v1/batches/batch_6855443541248190aaf7f467399b1376 \"HTTP/1.1 200 OK\"\n",
      " 78%|███████▊  | 344/443 [05:56<01:40,  1.02s/it]"
     ]
    },
    {
     "name": "stdout",
     "output_type": "stream",
     "text": [
      "处理完成，结果保存在output/batch_results_344.jsonl\n"
     ]
    },
    {
     "name": "stderr",
     "output_type": "stream",
     "text": [
      "INFO:httpx:HTTP Request: GET https://api.openai.com/v1/batches/batch_6855444054488190bd881dc269298e3c \"HTTP/1.1 200 OK\"\n",
      " 78%|███████▊  | 345/443 [05:56<01:36,  1.02it/s]"
     ]
    },
    {
     "name": "stdout",
     "output_type": "stream",
     "text": [
      "处理完成，结果保存在output/batch_results_345.jsonl\n"
     ]
    },
    {
     "name": "stderr",
     "output_type": "stream",
     "text": [
      "INFO:httpx:HTTP Request: GET https://api.openai.com/v1/batches/batch_6855444d3b048190be66a17d896c5bf7 \"HTTP/1.1 200 OK\"\n",
      " 78%|███████▊  | 346/443 [05:58<01:38,  1.01s/it]"
     ]
    },
    {
     "name": "stdout",
     "output_type": "stream",
     "text": [
      "处理完成，结果保存在output/batch_results_346.jsonl\n"
     ]
    },
    {
     "name": "stderr",
     "output_type": "stream",
     "text": [
      "INFO:httpx:HTTP Request: GET https://api.openai.com/v1/batches/batch_685544627a6c8190b5fa7058f529fb82 \"HTTP/1.1 200 OK\"\n",
      " 78%|███████▊  | 347/443 [05:59<01:41,  1.06s/it]"
     ]
    },
    {
     "name": "stdout",
     "output_type": "stream",
     "text": [
      "处理完成，结果保存在output/batch_results_347.jsonl\n"
     ]
    },
    {
     "name": "stderr",
     "output_type": "stream",
     "text": [
      "INFO:httpx:HTTP Request: GET https://api.openai.com/v1/batches/batch_6855446e7f0081908c4d1dbd5a65f7cc \"HTTP/1.1 200 OK\"\n",
      " 79%|███████▊  | 348/443 [06:00<01:43,  1.09s/it]"
     ]
    },
    {
     "name": "stdout",
     "output_type": "stream",
     "text": [
      "处理完成，结果保存在output/batch_results_348.jsonl\n"
     ]
    },
    {
     "name": "stderr",
     "output_type": "stream",
     "text": [
      "INFO:httpx:HTTP Request: GET https://api.openai.com/v1/batches/batch_68554488389481909bd3db4ca0886bc6 \"HTTP/1.1 200 OK\"\n",
      " 79%|███████▉  | 349/443 [06:01<01:44,  1.11s/it]"
     ]
    },
    {
     "name": "stdout",
     "output_type": "stream",
     "text": [
      "处理完成，结果保存在output/batch_results_349.jsonl\n"
     ]
    },
    {
     "name": "stderr",
     "output_type": "stream",
     "text": [
      "INFO:httpx:HTTP Request: GET https://api.openai.com/v1/batches/batch_685544918a2081908c984b6b09b10758 \"HTTP/1.1 200 OK\"\n",
      " 79%|███████▉  | 350/443 [06:02<01:46,  1.15s/it]"
     ]
    },
    {
     "name": "stdout",
     "output_type": "stream",
     "text": [
      "处理完成，结果保存在output/batch_results_350.jsonl\n"
     ]
    },
    {
     "name": "stderr",
     "output_type": "stream",
     "text": [
      "INFO:httpx:HTTP Request: GET https://api.openai.com/v1/batches/batch_68554499b5888190bb6f170e5b2ff2cd \"HTTP/1.1 200 OK\"\n",
      " 79%|███████▉  | 351/443 [06:03<01:37,  1.06s/it]"
     ]
    },
    {
     "name": "stdout",
     "output_type": "stream",
     "text": [
      "处理完成，结果保存在output/batch_results_351.jsonl\n"
     ]
    },
    {
     "name": "stderr",
     "output_type": "stream",
     "text": [
      "INFO:httpx:HTTP Request: GET https://api.openai.com/v1/batches/batch_685544a545848190bb15a4a871fcf9bd \"HTTP/1.1 200 OK\"\n",
      " 79%|███████▉  | 352/443 [06:04<01:36,  1.06s/it]"
     ]
    },
    {
     "name": "stdout",
     "output_type": "stream",
     "text": [
      "处理完成，结果保存在output/batch_results_352.jsonl\n"
     ]
    },
    {
     "name": "stderr",
     "output_type": "stream",
     "text": [
      "INFO:httpx:HTTP Request: GET https://api.openai.com/v1/batches/batch_685544bb358881908bd23f921d2f224c \"HTTP/1.1 200 OK\"\n",
      " 80%|███████▉  | 353/443 [06:06<01:45,  1.17s/it]"
     ]
    },
    {
     "name": "stdout",
     "output_type": "stream",
     "text": [
      "处理完成，结果保存在output/batch_results_353.jsonl\n"
     ]
    },
    {
     "name": "stderr",
     "output_type": "stream",
     "text": [
      "INFO:httpx:HTTP Request: GET https://api.openai.com/v1/batches/batch_685544c9816481909289220740001441 \"HTTP/1.1 200 OK\"\n",
      " 80%|███████▉  | 354/443 [06:07<01:38,  1.10s/it]"
     ]
    },
    {
     "name": "stdout",
     "output_type": "stream",
     "text": [
      "处理完成，结果保存在output/batch_results_354.jsonl\n"
     ]
    },
    {
     "name": "stderr",
     "output_type": "stream",
     "text": [
      "INFO:httpx:HTTP Request: GET https://api.openai.com/v1/batches/batch_685544d7bccc8190979a7fb78fe1dd7e \"HTTP/1.1 200 OK\"\n",
      " 80%|████████  | 355/443 [06:07<01:32,  1.05s/it]"
     ]
    },
    {
     "name": "stdout",
     "output_type": "stream",
     "text": [
      "处理完成，结果保存在output/batch_results_355.jsonl\n"
     ]
    },
    {
     "name": "stderr",
     "output_type": "stream",
     "text": [
      "INFO:httpx:HTTP Request: GET https://api.openai.com/v1/batches/batch_685544dea2d881909dc0484be6c09a0d \"HTTP/1.1 200 OK\"\n",
      " 80%|████████  | 356/443 [06:08<01:23,  1.04it/s]"
     ]
    },
    {
     "name": "stdout",
     "output_type": "stream",
     "text": [
      "处理完成，结果保存在output/batch_results_356.jsonl\n"
     ]
    },
    {
     "name": "stderr",
     "output_type": "stream",
     "text": [
      "INFO:httpx:HTTP Request: GET https://api.openai.com/v1/batches/batch_685544e35cfc8190967b6d130e20c043 \"HTTP/1.1 200 OK\"\n",
      " 81%|████████  | 357/443 [06:09<01:20,  1.07it/s]"
     ]
    },
    {
     "name": "stdout",
     "output_type": "stream",
     "text": [
      "处理完成，结果保存在output/batch_results_357.jsonl\n"
     ]
    },
    {
     "name": "stderr",
     "output_type": "stream",
     "text": [
      "INFO:httpx:HTTP Request: GET https://api.openai.com/v1/batches/batch_685545046c4081909373af28f09b679f \"HTTP/1.1 200 OK\"\n",
      " 81%|████████  | 358/443 [06:10<01:15,  1.12it/s]"
     ]
    },
    {
     "name": "stdout",
     "output_type": "stream",
     "text": [
      "处理完成，结果保存在output/batch_results_358.jsonl\n"
     ]
    },
    {
     "name": "stderr",
     "output_type": "stream",
     "text": [
      "INFO:httpx:HTTP Request: GET https://api.openai.com/v1/batches/batch_6855450d622c81909d8a0c6a25ead276 \"HTTP/1.1 200 OK\"\n",
      " 81%|████████  | 359/443 [06:11<01:13,  1.14it/s]"
     ]
    },
    {
     "name": "stdout",
     "output_type": "stream",
     "text": [
      "处理完成，结果保存在output/batch_results_359.jsonl\n"
     ]
    },
    {
     "name": "stderr",
     "output_type": "stream",
     "text": [
      "INFO:httpx:HTTP Request: GET https://api.openai.com/v1/batches/batch_685545153d588190bbabd2359f8c0834 \"HTTP/1.1 200 OK\"\n",
      " 81%|████████▏ | 360/443 [06:12<01:22,  1.00it/s]"
     ]
    },
    {
     "name": "stdout",
     "output_type": "stream",
     "text": [
      "处理完成，结果保存在output/batch_results_360.jsonl\n"
     ]
    },
    {
     "name": "stderr",
     "output_type": "stream",
     "text": [
      "INFO:httpx:HTTP Request: GET https://api.openai.com/v1/batches/batch_68554535894081908b3a1271af76d5e8 \"HTTP/1.1 200 OK\"\n",
      " 81%|████████▏ | 361/443 [06:13<01:16,  1.07it/s]"
     ]
    },
    {
     "name": "stdout",
     "output_type": "stream",
     "text": [
      "处理完成，结果保存在output/batch_results_361.jsonl\n"
     ]
    },
    {
     "name": "stderr",
     "output_type": "stream",
     "text": [
      "INFO:httpx:HTTP Request: GET https://api.openai.com/v1/batches/batch_68554542b4b881908b6defdc05ebcc2e \"HTTP/1.1 200 OK\"\n",
      " 82%|████████▏ | 362/443 [06:14<01:20,  1.01it/s]INFO:httpx:HTTP Request: GET https://api.openai.com/v1/batches/batch_6855454ec4e881908262048fa5802cb5 \"HTTP/1.1 200 OK\"\n"
     ]
    },
    {
     "name": "stdout",
     "output_type": "stream",
     "text": [
      "处理完成，结果保存在output/batch_results_362.jsonl\n"
     ]
    },
    {
     "name": "stderr",
     "output_type": "stream",
     "text": [
      " 82%|████████▏ | 363/443 [06:15<01:15,  1.06it/s]"
     ]
    },
    {
     "name": "stdout",
     "output_type": "stream",
     "text": [
      "处理完成，结果保存在output/batch_results_363.jsonl\n"
     ]
    },
    {
     "name": "stderr",
     "output_type": "stream",
     "text": [
      "INFO:httpx:HTTP Request: GET https://api.openai.com/v1/batches/batch_68554590634c8190809f3c5eb6398e1f \"HTTP/1.1 200 OK\"\n",
      " 82%|████████▏ | 364/443 [06:16<01:25,  1.08s/it]"
     ]
    },
    {
     "name": "stdout",
     "output_type": "stream",
     "text": [
      "处理完成，结果保存在output/batch_results_364.jsonl\n"
     ]
    },
    {
     "name": "stderr",
     "output_type": "stream",
     "text": [
      "INFO:httpx:HTTP Request: GET https://api.openai.com/v1/batches/batch_685545ac88588190b1064e23d023d6b5 \"HTTP/1.1 200 OK\"\n",
      " 82%|████████▏ | 365/443 [06:17<01:24,  1.08s/it]INFO:httpx:HTTP Request: GET https://api.openai.com/v1/batches/batch_685545df9e68819087a5f8d5c33d812d \"HTTP/1.1 200 OK\"\n"
     ]
    },
    {
     "name": "stdout",
     "output_type": "stream",
     "text": [
      "处理完成，结果保存在output/batch_results_365.jsonl\n"
     ]
    },
    {
     "name": "stderr",
     "output_type": "stream",
     "text": [
      " 83%|████████▎ | 366/443 [06:18<01:15,  1.03it/s]"
     ]
    },
    {
     "name": "stdout",
     "output_type": "stream",
     "text": [
      "处理完成，结果保存在output/batch_results_366.jsonl\n"
     ]
    },
    {
     "name": "stderr",
     "output_type": "stream",
     "text": [
      "INFO:httpx:HTTP Request: GET https://api.openai.com/v1/batches/batch_685545fbaf94819088731c9652cd8f39 \"HTTP/1.1 200 OK\"\n",
      " 83%|████████▎ | 367/443 [06:19<01:18,  1.03s/it]"
     ]
    },
    {
     "name": "stdout",
     "output_type": "stream",
     "text": [
      "处理完成，结果保存在output/batch_results_367.jsonl\n"
     ]
    },
    {
     "name": "stderr",
     "output_type": "stream",
     "text": [
      "INFO:httpx:HTTP Request: GET https://api.openai.com/v1/batches/batch_6855460db81481909495d5926254f950 \"HTTP/1.1 200 OK\"\n",
      " 83%|████████▎ | 368/443 [06:21<01:42,  1.37s/it]"
     ]
    },
    {
     "name": "stdout",
     "output_type": "stream",
     "text": [
      "处理完成，结果保存在output/batch_results_368.jsonl\n"
     ]
    },
    {
     "name": "stderr",
     "output_type": "stream",
     "text": [
      "INFO:httpx:HTTP Request: GET https://api.openai.com/v1/batches/batch_6855461e53348190845cf108713dfd14 \"HTTP/1.1 200 OK\"\n",
      " 83%|████████▎ | 369/443 [06:22<01:32,  1.25s/it]"
     ]
    },
    {
     "name": "stdout",
     "output_type": "stream",
     "text": [
      "处理完成，结果保存在output/batch_results_369.jsonl\n"
     ]
    },
    {
     "name": "stderr",
     "output_type": "stream",
     "text": [
      "INFO:httpx:HTTP Request: GET https://api.openai.com/v1/batches/batch_68554628eb388190952aa36a61d74519 \"HTTP/1.1 200 OK\"\n",
      " 84%|████████▎ | 370/443 [06:23<01:21,  1.12s/it]"
     ]
    },
    {
     "name": "stdout",
     "output_type": "stream",
     "text": [
      "处理完成，结果保存在output/batch_results_370.jsonl\n"
     ]
    },
    {
     "name": "stderr",
     "output_type": "stream",
     "text": [
      "INFO:httpx:HTTP Request: GET https://api.openai.com/v1/batches/batch_6855462f61348190a370248da2423d12 \"HTTP/1.1 200 OK\"\n",
      " 84%|████████▎ | 371/443 [06:24<01:19,  1.11s/it]"
     ]
    },
    {
     "name": "stdout",
     "output_type": "stream",
     "text": [
      "处理完成，结果保存在output/batch_results_371.jsonl\n"
     ]
    },
    {
     "name": "stderr",
     "output_type": "stream",
     "text": [
      "INFO:httpx:HTTP Request: GET https://api.openai.com/v1/batches/batch_6855463c38a88190bde9bf07082c27ee \"HTTP/1.1 200 OK\"\n",
      " 84%|████████▍ | 372/443 [06:25<01:18,  1.11s/it]"
     ]
    },
    {
     "name": "stdout",
     "output_type": "stream",
     "text": [
      "处理完成，结果保存在output/batch_results_372.jsonl\n"
     ]
    },
    {
     "name": "stderr",
     "output_type": "stream",
     "text": [
      "INFO:httpx:HTTP Request: GET https://api.openai.com/v1/batches/batch_6855464ac6748190a668bbac555bfd7c \"HTTP/1.1 200 OK\"\n",
      " 84%|████████▍ | 373/443 [06:26<01:15,  1.08s/it]"
     ]
    },
    {
     "name": "stdout",
     "output_type": "stream",
     "text": [
      "处理完成，结果保存在output/batch_results_373.jsonl\n"
     ]
    },
    {
     "name": "stderr",
     "output_type": "stream",
     "text": [
      "INFO:httpx:HTTP Request: GET https://api.openai.com/v1/batches/batch_685546658c7c8190af0bd63a6617445f \"HTTP/1.1 200 OK\"\n",
      " 84%|████████▍ | 374/443 [06:27<01:09,  1.01s/it]"
     ]
    },
    {
     "name": "stdout",
     "output_type": "stream",
     "text": [
      "处理完成，结果保存在output/batch_results_374.jsonl\n"
     ]
    },
    {
     "name": "stderr",
     "output_type": "stream",
     "text": [
      "INFO:httpx:HTTP Request: GET https://api.openai.com/v1/batches/batch_68554686a4108190b2d04949ac966598 \"HTTP/1.1 200 OK\"\n",
      " 85%|████████▍ | 375/443 [06:28<01:05,  1.04it/s]"
     ]
    },
    {
     "name": "stdout",
     "output_type": "stream",
     "text": [
      "处理完成，结果保存在output/batch_results_375.jsonl\n"
     ]
    },
    {
     "name": "stderr",
     "output_type": "stream",
     "text": [
      "INFO:httpx:HTTP Request: GET https://api.openai.com/v1/batches/batch_68554693d59c819081dccfbcaee87e8a \"HTTP/1.1 200 OK\"\n",
      " 85%|████████▍ | 376/443 [06:29<01:05,  1.02it/s]"
     ]
    },
    {
     "name": "stdout",
     "output_type": "stream",
     "text": [
      "处理完成，结果保存在output/batch_results_376.jsonl\n"
     ]
    },
    {
     "name": "stderr",
     "output_type": "stream",
     "text": [
      "INFO:httpx:HTTP Request: GET https://api.openai.com/v1/batches/batch_6855469d9264819097da668c49c0adf3 \"HTTP/1.1 200 OK\"\n",
      " 85%|████████▌ | 377/443 [06:30<01:10,  1.07s/it]"
     ]
    },
    {
     "name": "stdout",
     "output_type": "stream",
     "text": [
      "处理完成，结果保存在output/batch_results_377.jsonl\n"
     ]
    },
    {
     "name": "stderr",
     "output_type": "stream",
     "text": [
      "INFO:httpx:HTTP Request: GET https://api.openai.com/v1/batches/batch_685546a7f3d48190ab0de8f321552df8 \"HTTP/1.1 200 OK\"\n",
      " 85%|████████▌ | 378/443 [06:31<01:08,  1.06s/it]"
     ]
    },
    {
     "name": "stdout",
     "output_type": "stream",
     "text": [
      "处理完成，结果保存在output/batch_results_378.jsonl\n"
     ]
    },
    {
     "name": "stderr",
     "output_type": "stream",
     "text": [
      "INFO:httpx:HTTP Request: GET https://api.openai.com/v1/batches/batch_685546ba8c388190bd5818bdf1a82f0a \"HTTP/1.1 200 OK\"\n",
      " 86%|████████▌ | 379/443 [06:33<01:11,  1.12s/it]"
     ]
    },
    {
     "name": "stdout",
     "output_type": "stream",
     "text": [
      "处理完成，结果保存在output/batch_results_379.jsonl\n"
     ]
    },
    {
     "name": "stderr",
     "output_type": "stream",
     "text": [
      "INFO:httpx:HTTP Request: GET https://api.openai.com/v1/batches/batch_685546d7189881908fab6af5026893f6 \"HTTP/1.1 200 OK\"\n",
      " 86%|████████▌ | 380/443 [06:33<01:05,  1.04s/it]"
     ]
    },
    {
     "name": "stdout",
     "output_type": "stream",
     "text": [
      "处理完成，结果保存在output/batch_results_380.jsonl\n"
     ]
    },
    {
     "name": "stderr",
     "output_type": "stream",
     "text": [
      "INFO:httpx:HTTP Request: GET https://api.openai.com/v1/batches/batch_685546f5dbd08190a9952d2fa7f48d0f \"HTTP/1.1 200 OK\"\n",
      " 86%|████████▌ | 381/443 [06:34<01:00,  1.03it/s]"
     ]
    },
    {
     "name": "stdout",
     "output_type": "stream",
     "text": [
      "处理完成，结果保存在output/batch_results_381.jsonl\n"
     ]
    },
    {
     "name": "stderr",
     "output_type": "stream",
     "text": [
      "INFO:httpx:HTTP Request: GET https://api.openai.com/v1/batches/batch_6855470c3d8481908c7038117bd44f24 \"HTTP/1.1 200 OK\"\n",
      " 86%|████████▌ | 382/443 [06:35<00:56,  1.08it/s]"
     ]
    },
    {
     "name": "stdout",
     "output_type": "stream",
     "text": [
      "处理完成，结果保存在output/batch_results_382.jsonl\n"
     ]
    },
    {
     "name": "stderr",
     "output_type": "stream",
     "text": [
      "INFO:httpx:HTTP Request: GET https://api.openai.com/v1/batches/batch_6855471076388190a82a725df5f5da44 \"HTTP/1.1 200 OK\"\n",
      " 86%|████████▋ | 383/443 [06:36<00:54,  1.11it/s]"
     ]
    },
    {
     "name": "stdout",
     "output_type": "stream",
     "text": [
      "处理完成，结果保存在output/batch_results_383.jsonl\n"
     ]
    },
    {
     "name": "stderr",
     "output_type": "stream",
     "text": [
      "INFO:httpx:HTTP Request: GET https://api.openai.com/v1/batches/batch_6855473c6a6881908ad663677afc39f8 \"HTTP/1.1 200 OK\"\n",
      " 87%|████████▋ | 384/443 [06:37<00:54,  1.07it/s]"
     ]
    },
    {
     "name": "stdout",
     "output_type": "stream",
     "text": [
      "处理完成，结果保存在output/batch_results_384.jsonl\n"
     ]
    },
    {
     "name": "stderr",
     "output_type": "stream",
     "text": [
      "INFO:httpx:HTTP Request: GET https://api.openai.com/v1/batches/batch_6855474aae9081909b3fb46c743f8d69 \"HTTP/1.1 200 OK\"\n",
      " 87%|████████▋ | 385/443 [06:38<00:52,  1.11it/s]INFO:httpx:HTTP Request: GET https://api.openai.com/v1/batches/batch_6855475266288190ae064b7fb4cd9bae \"HTTP/1.1 200 OK\"\n"
     ]
    },
    {
     "name": "stdout",
     "output_type": "stream",
     "text": [
      "处理完成，结果保存在output/batch_results_385.jsonl\n"
     ]
    },
    {
     "name": "stderr",
     "output_type": "stream",
     "text": [
      " 87%|████████▋ | 386/443 [06:39<00:55,  1.03it/s]"
     ]
    },
    {
     "name": "stdout",
     "output_type": "stream",
     "text": [
      "处理完成，结果保存在output/batch_results_386.jsonl\n"
     ]
    },
    {
     "name": "stderr",
     "output_type": "stream",
     "text": [
      "INFO:httpx:HTTP Request: GET https://api.openai.com/v1/batches/batch_6855476f474c8190baf772e63e63ca4d \"HTTP/1.1 200 OK\"\n",
      " 87%|████████▋ | 387/443 [06:40<00:52,  1.07it/s]"
     ]
    },
    {
     "name": "stdout",
     "output_type": "stream",
     "text": [
      "处理完成，结果保存在output/batch_results_387.jsonl\n"
     ]
    },
    {
     "name": "stderr",
     "output_type": "stream",
     "text": [
      "INFO:httpx:HTTP Request: GET https://api.openai.com/v1/batches/batch_6855477a655481908c994a487be4c984 \"HTTP/1.1 200 OK\"\n",
      " 88%|████████▊ | 388/443 [06:41<00:49,  1.11it/s]"
     ]
    },
    {
     "name": "stdout",
     "output_type": "stream",
     "text": [
      "处理完成，结果保存在output/batch_results_388.jsonl\n"
     ]
    },
    {
     "name": "stderr",
     "output_type": "stream",
     "text": [
      "INFO:httpx:HTTP Request: GET https://api.openai.com/v1/batches/batch_68554785cc1c81909994751219494ec5 \"HTTP/1.1 200 OK\"\n",
      " 88%|████████▊ | 389/443 [06:42<00:54,  1.02s/it]"
     ]
    },
    {
     "name": "stdout",
     "output_type": "stream",
     "text": [
      "处理完成，结果保存在output/batch_results_389.jsonl\n"
     ]
    },
    {
     "name": "stderr",
     "output_type": "stream",
     "text": [
      "INFO:httpx:HTTP Request: GET https://api.openai.com/v1/batches/batch_685547a134f08190adfa31d3cea7e297 \"HTTP/1.1 200 OK\"\n",
      " 88%|████████▊ | 390/443 [06:43<00:57,  1.09s/it]INFO:httpx:HTTP Request: GET https://api.openai.com/v1/batches/batch_685547e587f88190a5127f78790b75da \"HTTP/1.1 200 OK\"\n"
     ]
    },
    {
     "name": "stdout",
     "output_type": "stream",
     "text": [
      "处理完成，结果保存在output/batch_results_390.jsonl\n"
     ]
    },
    {
     "name": "stderr",
     "output_type": "stream",
     "text": [
      " 88%|████████▊ | 391/443 [06:44<00:54,  1.05s/it]"
     ]
    },
    {
     "name": "stdout",
     "output_type": "stream",
     "text": [
      "处理完成，结果保存在output/batch_results_391.jsonl\n"
     ]
    },
    {
     "name": "stderr",
     "output_type": "stream",
     "text": [
      "INFO:httpx:HTTP Request: GET https://api.openai.com/v1/batches/batch_6855480299c88190b02b7bae7bcc3fa6 \"HTTP/1.1 200 OK\"\n",
      " 88%|████████▊ | 392/443 [06:45<00:53,  1.04s/it]"
     ]
    },
    {
     "name": "stdout",
     "output_type": "stream",
     "text": [
      "处理完成，结果保存在output/batch_results_392.jsonl\n"
     ]
    },
    {
     "name": "stderr",
     "output_type": "stream",
     "text": [
      "INFO:httpx:HTTP Request: GET https://api.openai.com/v1/batches/batch_68554814b5008190bcae42165b598d75 \"HTTP/1.1 200 OK\"\n",
      " 89%|████████▊ | 393/443 [06:46<00:48,  1.03it/s]"
     ]
    },
    {
     "name": "stdout",
     "output_type": "stream",
     "text": [
      "处理完成，结果保存在output/batch_results_393.jsonl\n"
     ]
    },
    {
     "name": "stderr",
     "output_type": "stream",
     "text": [
      "INFO:httpx:HTTP Request: GET https://api.openai.com/v1/batches/batch_6855484bb7b4819094c7dd665c261414 \"HTTP/1.1 200 OK\"\n",
      " 89%|████████▉ | 394/443 [06:47<00:49,  1.01s/it]"
     ]
    },
    {
     "name": "stdout",
     "output_type": "stream",
     "text": [
      "处理完成，结果保存在output/batch_results_394.jsonl\n"
     ]
    },
    {
     "name": "stderr",
     "output_type": "stream",
     "text": [
      "INFO:httpx:HTTP Request: GET https://api.openai.com/v1/batches/batch_68554867f46c819092d540ccc6307529 \"HTTP/1.1 200 OK\"\n",
      " 89%|████████▉ | 395/443 [06:48<00:45,  1.05it/s]"
     ]
    },
    {
     "name": "stdout",
     "output_type": "stream",
     "text": [
      "处理完成，结果保存在output/batch_results_395.jsonl\n"
     ]
    },
    {
     "name": "stderr",
     "output_type": "stream",
     "text": [
      "INFO:httpx:HTTP Request: GET https://api.openai.com/v1/batches/batch_6855487fc72c81908d88b6c63e925dfd \"HTTP/1.1 200 OK\"\n",
      " 89%|████████▉ | 396/443 [06:49<00:43,  1.08it/s]"
     ]
    },
    {
     "name": "stdout",
     "output_type": "stream",
     "text": [
      "处理完成，结果保存在output/batch_results_396.jsonl\n"
     ]
    },
    {
     "name": "stderr",
     "output_type": "stream",
     "text": [
      "INFO:httpx:HTTP Request: GET https://api.openai.com/v1/batches/batch_685548af72248190a0836518481df486 \"HTTP/1.1 200 OK\"\n",
      " 90%|████████▉ | 397/443 [06:49<00:32,  1.40it/s]"
     ]
    },
    {
     "name": "stdout",
     "output_type": "stream",
     "text": [
      "Batch 作业验证或执行失败，错误信息： Errors(data=[BatchError(code='maximum_input_file_size_exceeded', line=None, message='The batch input file is larger than the 209715200 maximum for the gpt-4o model. Please try again with a smaller batch.', param=None)], object='list')\n"
     ]
    },
    {
     "name": "stderr",
     "output_type": "stream",
     "text": [
      "INFO:httpx:HTTP Request: GET https://api.openai.com/v1/batches/batch_685548c6d86c81908790c013bac50d15 \"HTTP/1.1 200 OK\"\n",
      " 90%|████████▉ | 398/443 [06:50<00:33,  1.35it/s]"
     ]
    },
    {
     "name": "stdout",
     "output_type": "stream",
     "text": [
      "处理完成，结果保存在output/batch_results_398.jsonl\n"
     ]
    },
    {
     "name": "stderr",
     "output_type": "stream",
     "text": [
      "INFO:httpx:HTTP Request: GET https://api.openai.com/v1/batches/batch_685548cf89788190842aae2c76fa6465 \"HTTP/1.1 200 OK\"\n",
      " 90%|█████████ | 399/443 [06:50<00:33,  1.32it/s]"
     ]
    },
    {
     "name": "stdout",
     "output_type": "stream",
     "text": [
      "处理完成，结果保存在output/batch_results_399.jsonl\n"
     ]
    },
    {
     "name": "stderr",
     "output_type": "stream",
     "text": [
      "INFO:httpx:HTTP Request: GET https://api.openai.com/v1/batches/batch_685548ec8f50819099a4d7cefb562bab \"HTTP/1.1 200 OK\"\n",
      " 90%|█████████ | 400/443 [06:52<00:36,  1.16it/s]"
     ]
    },
    {
     "name": "stdout",
     "output_type": "stream",
     "text": [
      "处理完成，结果保存在output/batch_results_400.jsonl\n"
     ]
    },
    {
     "name": "stderr",
     "output_type": "stream",
     "text": [
      "INFO:httpx:HTTP Request: GET https://api.openai.com/v1/batches/batch_685548f9c04c8190b0f18a4840d0209a \"HTTP/1.1 200 OK\"\n",
      " 91%|█████████ | 401/443 [06:52<00:36,  1.17it/s]"
     ]
    },
    {
     "name": "stdout",
     "output_type": "stream",
     "text": [
      "处理完成，结果保存在output/batch_results_401.jsonl\n"
     ]
    },
    {
     "name": "stderr",
     "output_type": "stream",
     "text": [
      "INFO:httpx:HTTP Request: GET https://api.openai.com/v1/batches/batch_685549029e208190982faab735cf6dac \"HTTP/1.1 200 OK\"\n",
      " 91%|█████████ | 402/443 [06:54<00:40,  1.02it/s]"
     ]
    },
    {
     "name": "stdout",
     "output_type": "stream",
     "text": [
      "处理完成，结果保存在output/batch_results_402.jsonl\n"
     ]
    },
    {
     "name": "stderr",
     "output_type": "stream",
     "text": [
      "INFO:httpx:HTTP Request: GET https://api.openai.com/v1/batches/batch_685549196ca08190b8a5db50ba90a7f8 \"HTTP/1.1 200 OK\"\n",
      " 91%|█████████ | 403/443 [06:55<00:38,  1.03it/s]"
     ]
    },
    {
     "name": "stdout",
     "output_type": "stream",
     "text": [
      "处理完成，结果保存在output/batch_results_403.jsonl\n"
     ]
    },
    {
     "name": "stderr",
     "output_type": "stream",
     "text": [
      "INFO:httpx:HTTP Request: GET https://api.openai.com/v1/batches/batch_6855492a10f88190bdfe4c7024f72c46 \"HTTP/1.1 200 OK\"\n",
      " 91%|█████████ | 404/443 [06:55<00:36,  1.08it/s]"
     ]
    },
    {
     "name": "stdout",
     "output_type": "stream",
     "text": [
      "处理完成，结果保存在output/batch_results_404.jsonl\n"
     ]
    },
    {
     "name": "stderr",
     "output_type": "stream",
     "text": [
      "INFO:httpx:HTTP Request: GET https://api.openai.com/v1/batches/batch_685549392ab881908aba7475190b107f \"HTTP/1.1 200 OK\"\n",
      " 91%|█████████▏| 405/443 [06:56<00:36,  1.03it/s]"
     ]
    },
    {
     "name": "stdout",
     "output_type": "stream",
     "text": [
      "处理完成，结果保存在output/batch_results_405.jsonl\n"
     ]
    },
    {
     "name": "stderr",
     "output_type": "stream",
     "text": [
      "INFO:httpx:HTTP Request: GET https://api.openai.com/v1/batches/batch_6855493ee4048190849c6f2ee9f4ab09 \"HTTP/1.1 200 OK\"\n",
      " 92%|█████████▏| 406/443 [06:57<00:34,  1.06it/s]"
     ]
    },
    {
     "name": "stdout",
     "output_type": "stream",
     "text": [
      "处理完成，结果保存在output/batch_results_406.jsonl\n"
     ]
    },
    {
     "name": "stderr",
     "output_type": "stream",
     "text": [
      "INFO:httpx:HTTP Request: GET https://api.openai.com/v1/batches/batch_6855497bd4888190bd4624cb1b945a1a \"HTTP/1.1 200 OK\"\n",
      " 92%|█████████▏| 407/443 [06:58<00:34,  1.05it/s]"
     ]
    },
    {
     "name": "stdout",
     "output_type": "stream",
     "text": [
      "处理完成，结果保存在output/batch_results_407.jsonl\n"
     ]
    },
    {
     "name": "stderr",
     "output_type": "stream",
     "text": [
      "INFO:httpx:HTTP Request: GET https://api.openai.com/v1/batches/batch_6855499cb96c81908e8aa410692d2e4c \"HTTP/1.1 200 OK\"\n",
      " 92%|█████████▏| 408/443 [06:59<00:31,  1.11it/s]"
     ]
    },
    {
     "name": "stdout",
     "output_type": "stream",
     "text": [
      "处理完成，结果保存在output/batch_results_408.jsonl\n"
     ]
    },
    {
     "name": "stderr",
     "output_type": "stream",
     "text": [
      "INFO:httpx:HTTP Request: GET https://api.openai.com/v1/batches/batch_685549a91fdc8190a3fe543705724f6e \"HTTP/1.1 200 OK\"\n",
      " 92%|█████████▏| 409/443 [07:00<00:31,  1.07it/s]"
     ]
    },
    {
     "name": "stdout",
     "output_type": "stream",
     "text": [
      "处理完成，结果保存在output/batch_results_409.jsonl\n"
     ]
    },
    {
     "name": "stderr",
     "output_type": "stream",
     "text": [
      "INFO:httpx:HTTP Request: GET https://api.openai.com/v1/batches/batch_685549c01a2c819084e57fe453afa5aa \"HTTP/1.1 200 OK\"\n",
      " 93%|█████████▎| 410/443 [07:01<00:29,  1.11it/s]"
     ]
    },
    {
     "name": "stdout",
     "output_type": "stream",
     "text": [
      "处理完成，结果保存在output/batch_results_410.jsonl\n"
     ]
    },
    {
     "name": "stderr",
     "output_type": "stream",
     "text": [
      "INFO:httpx:HTTP Request: GET https://api.openai.com/v1/batches/batch_685549dc51d0819080639ce79fb5fb0e \"HTTP/1.1 200 OK\"\n",
      " 93%|█████████▎| 411/443 [07:02<00:27,  1.15it/s]"
     ]
    },
    {
     "name": "stdout",
     "output_type": "stream",
     "text": [
      "处理完成，结果保存在output/batch_results_411.jsonl\n"
     ]
    },
    {
     "name": "stderr",
     "output_type": "stream",
     "text": [
      "INFO:httpx:HTTP Request: GET https://api.openai.com/v1/batches/batch_685549e9834881908ca967b6d04cacff \"HTTP/1.1 200 OK\"\n",
      " 93%|█████████▎| 412/443 [07:03<00:33,  1.08s/it]"
     ]
    },
    {
     "name": "stdout",
     "output_type": "stream",
     "text": [
      "处理完成，结果保存在output/batch_results_412.jsonl\n"
     ]
    },
    {
     "name": "stderr",
     "output_type": "stream",
     "text": [
      "INFO:httpx:HTTP Request: GET https://api.openai.com/v1/batches/batch_68554a3254a88190b8bbe0b2a7ae09db \"HTTP/1.1 200 OK\"\n",
      " 93%|█████████▎| 413/443 [07:04<00:31,  1.04s/it]"
     ]
    },
    {
     "name": "stdout",
     "output_type": "stream",
     "text": [
      "处理完成，结果保存在output/batch_results_413.jsonl\n"
     ]
    },
    {
     "name": "stderr",
     "output_type": "stream",
     "text": [
      "INFO:httpx:HTTP Request: GET https://api.openai.com/v1/batches/batch_68554a50035c8190a5b6e237fffb8c6f \"HTTP/1.1 200 OK\"\n",
      " 93%|█████████▎| 414/443 [07:05<00:31,  1.09s/it]"
     ]
    },
    {
     "name": "stdout",
     "output_type": "stream",
     "text": [
      "处理完成，结果保存在output/batch_results_414.jsonl\n"
     ]
    },
    {
     "name": "stderr",
     "output_type": "stream",
     "text": [
      "INFO:httpx:HTTP Request: GET https://api.openai.com/v1/batches/batch_68554a560e988190a68d256cda7dadca \"HTTP/1.1 200 OK\"\n",
      " 94%|█████████▎| 415/443 [07:07<00:31,  1.12s/it]"
     ]
    },
    {
     "name": "stdout",
     "output_type": "stream",
     "text": [
      "处理完成，结果保存在output/batch_results_415.jsonl\n"
     ]
    },
    {
     "name": "stderr",
     "output_type": "stream",
     "text": [
      "INFO:httpx:HTTP Request: GET https://api.openai.com/v1/batches/batch_68554a6300cc8190a4ad7c10d9e90557 \"HTTP/1.1 200 OK\"\n",
      " 94%|█████████▍| 416/443 [07:08<00:27,  1.04s/it]"
     ]
    },
    {
     "name": "stdout",
     "output_type": "stream",
     "text": [
      "处理完成，结果保存在output/batch_results_416.jsonl\n"
     ]
    },
    {
     "name": "stderr",
     "output_type": "stream",
     "text": [
      "INFO:httpx:HTTP Request: GET https://api.openai.com/v1/batches/batch_68554a717eb08190828f6386e094c18c \"HTTP/1.1 200 OK\"\n",
      " 94%|█████████▍| 417/443 [07:08<00:26,  1.01s/it]"
     ]
    },
    {
     "name": "stdout",
     "output_type": "stream",
     "text": [
      "处理完成，结果保存在output/batch_results_417.jsonl\n"
     ]
    },
    {
     "name": "stderr",
     "output_type": "stream",
     "text": [
      "INFO:httpx:HTTP Request: GET https://api.openai.com/v1/batches/batch_68554a80ba888190a8fb5ae99def76cc \"HTTP/1.1 200 OK\"\n",
      " 94%|█████████▍| 418/443 [07:10<00:25,  1.03s/it]"
     ]
    },
    {
     "name": "stdout",
     "output_type": "stream",
     "text": [
      "处理完成，结果保存在output/batch_results_418.jsonl\n"
     ]
    },
    {
     "name": "stderr",
     "output_type": "stream",
     "text": [
      "INFO:httpx:HTTP Request: GET https://api.openai.com/v1/batches/batch_68554a9c820881909c359414bfc75b2f \"HTTP/1.1 200 OK\"\n",
      " 95%|█████████▍| 419/443 [07:11<00:24,  1.01s/it]"
     ]
    },
    {
     "name": "stdout",
     "output_type": "stream",
     "text": [
      "处理完成，结果保存在output/batch_results_419.jsonl\n"
     ]
    },
    {
     "name": "stderr",
     "output_type": "stream",
     "text": [
      "INFO:httpx:HTTP Request: GET https://api.openai.com/v1/batches/batch_68554aa98258819090e4171abafd0fa2 \"HTTP/1.1 200 OK\"\n",
      " 95%|█████████▍| 420/443 [07:11<00:21,  1.05it/s]"
     ]
    },
    {
     "name": "stdout",
     "output_type": "stream",
     "text": [
      "处理完成，结果保存在output/batch_results_420.jsonl\n"
     ]
    },
    {
     "name": "stderr",
     "output_type": "stream",
     "text": [
      "INFO:httpx:HTTP Request: GET https://api.openai.com/v1/batches/batch_68554abb67788190a236b94cdcbc03ba \"HTTP/1.1 200 OK\"\n",
      " 95%|█████████▌| 421/443 [07:12<00:20,  1.07it/s]"
     ]
    },
    {
     "name": "stdout",
     "output_type": "stream",
     "text": [
      "处理完成，结果保存在output/batch_results_421.jsonl\n"
     ]
    },
    {
     "name": "stderr",
     "output_type": "stream",
     "text": [
      "INFO:httpx:HTTP Request: GET https://api.openai.com/v1/batches/batch_68554ade6cb08190938659f76b1ea5cf \"HTTP/1.1 200 OK\"\n",
      " 95%|█████████▌| 422/443 [07:13<00:19,  1.05it/s]"
     ]
    },
    {
     "name": "stdout",
     "output_type": "stream",
     "text": [
      "处理完成，结果保存在output/batch_results_422.jsonl\n"
     ]
    },
    {
     "name": "stderr",
     "output_type": "stream",
     "text": [
      "INFO:httpx:HTTP Request: GET https://api.openai.com/v1/batches/batch_68554b064d148190b33bf213b08be27a \"HTTP/1.1 200 OK\"\n",
      " 95%|█████████▌| 423/443 [07:14<00:18,  1.10it/s]"
     ]
    },
    {
     "name": "stdout",
     "output_type": "stream",
     "text": [
      "处理完成，结果保存在output/batch_results_423.jsonl\n"
     ]
    },
    {
     "name": "stderr",
     "output_type": "stream",
     "text": [
      "INFO:httpx:HTTP Request: GET https://api.openai.com/v1/batches/batch_68554b371f0481908ef803cebd5981e8 \"HTTP/1.1 200 OK\"\n",
      " 96%|█████████▌| 424/443 [07:15<00:16,  1.13it/s]"
     ]
    },
    {
     "name": "stdout",
     "output_type": "stream",
     "text": [
      "处理完成，结果保存在output/batch_results_424.jsonl\n"
     ]
    },
    {
     "name": "stderr",
     "output_type": "stream",
     "text": [
      "INFO:httpx:HTTP Request: GET https://api.openai.com/v1/batches/batch_68554b6b53208190a9150acbbdbbe7f3 \"HTTP/1.1 200 OK\"\n",
      " 96%|█████████▌| 425/443 [07:16<00:16,  1.12it/s]"
     ]
    },
    {
     "name": "stdout",
     "output_type": "stream",
     "text": [
      "处理完成，结果保存在output/batch_results_425.jsonl\n"
     ]
    },
    {
     "name": "stderr",
     "output_type": "stream",
     "text": [
      "INFO:httpx:HTTP Request: GET https://api.openai.com/v1/batches/batch_68554b852d848190890d1f7090e53ca8 \"HTTP/1.1 200 OK\"\n",
      " 96%|█████████▌| 426/443 [07:17<00:14,  1.15it/s]"
     ]
    },
    {
     "name": "stdout",
     "output_type": "stream",
     "text": [
      "处理完成，结果保存在output/batch_results_426.jsonl\n"
     ]
    },
    {
     "name": "stderr",
     "output_type": "stream",
     "text": [
      "INFO:httpx:HTTP Request: GET https://api.openai.com/v1/batches/batch_68554bacd06c8190a571943063a434ab \"HTTP/1.1 200 OK\"\n",
      " 96%|█████████▋| 427/443 [07:17<00:13,  1.17it/s]"
     ]
    },
    {
     "name": "stdout",
     "output_type": "stream",
     "text": [
      "处理完成，结果保存在output/batch_results_427.jsonl\n"
     ]
    },
    {
     "name": "stderr",
     "output_type": "stream",
     "text": [
      "INFO:httpx:HTTP Request: GET https://api.openai.com/v1/batches/batch_68554bddcd308190a61874197dd5ad03 \"HTTP/1.1 200 OK\"\n",
      " 97%|█████████▋| 428/443 [07:18<00:13,  1.09it/s]"
     ]
    },
    {
     "name": "stdout",
     "output_type": "stream",
     "text": [
      "处理完成，结果保存在output/batch_results_428.jsonl\n"
     ]
    },
    {
     "name": "stderr",
     "output_type": "stream",
     "text": [
      "INFO:httpx:HTTP Request: GET https://api.openai.com/v1/batches/batch_68554c06c188819085cba786d32148cb \"HTTP/1.1 200 OK\"\n",
      " 97%|█████████▋| 429/443 [07:19<00:12,  1.11it/s]"
     ]
    },
    {
     "name": "stdout",
     "output_type": "stream",
     "text": [
      "处理完成，结果保存在output/batch_results_429.jsonl\n"
     ]
    },
    {
     "name": "stderr",
     "output_type": "stream",
     "text": [
      "INFO:httpx:HTTP Request: GET https://api.openai.com/v1/batches/batch_68554c1a6a4c81908ce23536f2dae231 \"HTTP/1.1 200 OK\"\n",
      " 97%|█████████▋| 430/443 [07:21<00:13,  1.01s/it]"
     ]
    },
    {
     "name": "stdout",
     "output_type": "stream",
     "text": [
      "处理完成，结果保存在output/batch_results_430.jsonl\n"
     ]
    },
    {
     "name": "stderr",
     "output_type": "stream",
     "text": [
      "INFO:httpx:HTTP Request: GET https://api.openai.com/v1/batches/batch_68554c23bed48190b1dcec03687927c1 \"HTTP/1.1 200 OK\"\n",
      " 97%|█████████▋| 431/443 [07:22<00:13,  1.10s/it]INFO:httpx:HTTP Request: GET https://api.openai.com/v1/batches/batch_68554c41f18c819085aa2982f65b374a \"HTTP/1.1 200 OK\"\n"
     ]
    },
    {
     "name": "stdout",
     "output_type": "stream",
     "text": [
      "处理完成，结果保存在output/batch_results_431.jsonl\n"
     ]
    },
    {
     "name": "stderr",
     "output_type": "stream",
     "text": [
      " 98%|█████████▊| 432/443 [07:23<00:11,  1.01s/it]"
     ]
    },
    {
     "name": "stdout",
     "output_type": "stream",
     "text": [
      "处理完成，结果保存在output/batch_results_432.jsonl\n"
     ]
    },
    {
     "name": "stderr",
     "output_type": "stream",
     "text": [
      "INFO:httpx:HTTP Request: GET https://api.openai.com/v1/batches/batch_68554c5227608190affeb559fbdf1e1c \"HTTP/1.1 200 OK\"\n",
      " 98%|█████████▊| 433/443 [07:24<00:09,  1.00it/s]"
     ]
    },
    {
     "name": "stdout",
     "output_type": "stream",
     "text": [
      "处理完成，结果保存在output/batch_results_433.jsonl\n"
     ]
    },
    {
     "name": "stderr",
     "output_type": "stream",
     "text": [
      "INFO:httpx:HTTP Request: GET https://api.openai.com/v1/batches/batch_68554c5ffb588190b32cb55382ce07b5 \"HTTP/1.1 200 OK\"\n",
      " 98%|█████████▊| 434/443 [07:25<00:08,  1.05it/s]"
     ]
    },
    {
     "name": "stdout",
     "output_type": "stream",
     "text": [
      "处理完成，结果保存在output/batch_results_434.jsonl\n"
     ]
    },
    {
     "name": "stderr",
     "output_type": "stream",
     "text": [
      "INFO:httpx:HTTP Request: GET https://api.openai.com/v1/batches/batch_68554c732c3c8190a2393a6d92853e7b \"HTTP/1.1 200 OK\"\n",
      " 98%|█████████▊| 435/443 [07:25<00:07,  1.04it/s]"
     ]
    },
    {
     "name": "stdout",
     "output_type": "stream",
     "text": [
      "处理完成，结果保存在output/batch_results_435.jsonl\n"
     ]
    },
    {
     "name": "stderr",
     "output_type": "stream",
     "text": [
      "INFO:httpx:HTTP Request: GET https://api.openai.com/v1/batches/batch_68554c85d08881908879a1eb808edf36 \"HTTP/1.1 200 OK\"\n",
      " 98%|█████████▊| 436/443 [07:27<00:06,  1.02it/s]"
     ]
    },
    {
     "name": "stdout",
     "output_type": "stream",
     "text": [
      "处理完成，结果保存在output/batch_results_436.jsonl\n"
     ]
    },
    {
     "name": "stderr",
     "output_type": "stream",
     "text": [
      "INFO:httpx:HTTP Request: GET https://api.openai.com/v1/batches/batch_68554c94436c8190ae0064be713f8d74 \"HTTP/1.1 200 OK\"\n",
      " 99%|█████████▊| 437/443 [07:28<00:06,  1.01s/it]INFO:httpx:HTTP Request: GET https://api.openai.com/v1/batches/batch_68554ca6bed8819088ae2230eb380798 \"HTTP/1.1 200 OK\"\n"
     ]
    },
    {
     "name": "stdout",
     "output_type": "stream",
     "text": [
      "处理完成，结果保存在output/batch_results_437.jsonl\n"
     ]
    },
    {
     "name": "stderr",
     "output_type": "stream",
     "text": [
      " 99%|█████████▉| 438/443 [07:28<00:04,  1.04it/s]"
     ]
    },
    {
     "name": "stdout",
     "output_type": "stream",
     "text": [
      "处理完成，结果保存在output/batch_results_438.jsonl\n"
     ]
    },
    {
     "name": "stderr",
     "output_type": "stream",
     "text": [
      "INFO:httpx:HTTP Request: GET https://api.openai.com/v1/batches/batch_68554cc05a38819081758b71a7e53c62 \"HTTP/1.1 200 OK\"\n",
      " 99%|█████████▉| 439/443 [07:30<00:04,  1.05s/it]"
     ]
    },
    {
     "name": "stdout",
     "output_type": "stream",
     "text": [
      "处理完成，结果保存在output/batch_results_439.jsonl\n"
     ]
    },
    {
     "name": "stderr",
     "output_type": "stream",
     "text": [
      "INFO:httpx:HTTP Request: GET https://api.openai.com/v1/batches/batch_68554cd5ea308190b0e45a1ff9f01a3c \"HTTP/1.1 200 OK\"\n",
      " 99%|█████████▉| 440/443 [07:31<00:03,  1.06s/it]"
     ]
    },
    {
     "name": "stdout",
     "output_type": "stream",
     "text": [
      "处理完成，结果保存在output/batch_results_440.jsonl\n"
     ]
    },
    {
     "name": "stderr",
     "output_type": "stream",
     "text": [
      "INFO:httpx:HTTP Request: GET https://api.openai.com/v1/batches/batch_68554d0436508190af1aa8908654c16c \"HTTP/1.1 200 OK\"\n",
      "100%|█████████▉| 441/443 [07:32<00:02,  1.08s/it]"
     ]
    },
    {
     "name": "stdout",
     "output_type": "stream",
     "text": [
      "处理完成，结果保存在output/batch_results_441.jsonl\n"
     ]
    },
    {
     "name": "stderr",
     "output_type": "stream",
     "text": [
      "INFO:httpx:HTTP Request: GET https://api.openai.com/v1/batches/batch_68554d18b88c8190b7d70195d0950eae \"HTTP/1.1 200 OK\"\n",
      "100%|█████████▉| 442/443 [07:33<00:01,  1.07s/it]"
     ]
    },
    {
     "name": "stdout",
     "output_type": "stream",
     "text": [
      "处理完成，结果保存在output/batch_results_442.jsonl\n"
     ]
    },
    {
     "name": "stderr",
     "output_type": "stream",
     "text": [
      "INFO:httpx:HTTP Request: GET https://api.openai.com/v1/batches/batch_68554d1c735c8190a76a9e1006ad22dd \"HTTP/1.1 200 OK\"\n",
      "100%|██████████| 443/443 [07:34<00:00,  1.03s/it]"
     ]
    },
    {
     "name": "stdout",
     "output_type": "stream",
     "text": [
      "处理完成，结果保存在output/batch_results_443.jsonl\n"
     ]
    },
    {
     "name": "stderr",
     "output_type": "stream",
     "text": [
      "\n"
     ]
    }
   ],
   "source": [
    "statuses = []\n",
    "for cnt, job in tqdm(enumerate(jobs, start=1), total=len(jobs)):\n",
    "    # evaluator.delete_batch(job[\"input_file_id\"])\n",
    "    # if job[\"output_file_id\"]:\n",
    "    #     evaluator.delete_batch(job[\"output_file_id\"])\n",
    "    # if job[\"error_file_id\"]:\n",
    "    #     evaluator.delete_batch(job[\"error_file_id\"])\n",
    "    batch_id = job[\"id\"]\n",
    "    results_file = f\"output/batch_results_{cnt}.jsonl\"\n",
    "    status = evaluator.query_results(batch_id, results_file=results_file)\n",
    "    statuses.append(status)"
   ]
  }
 ],
 "metadata": {
  "kernelspec": {
   "display_name": "Iris",
   "language": "python",
   "name": "python3"
  },
  "language_info": {
   "codemirror_mode": {
    "name": "ipython",
    "version": 3
   },
   "file_extension": ".py",
   "mimetype": "text/x-python",
   "name": "python",
   "nbconvert_exporter": "python",
   "pygments_lexer": "ipython3",
   "version": "3.12.9"
  }
 },
 "nbformat": 4,
 "nbformat_minor": 2
}
